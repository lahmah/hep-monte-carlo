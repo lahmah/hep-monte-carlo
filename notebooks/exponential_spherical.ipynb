{
 "cells": [
  {
   "cell_type": "code",
   "execution_count": null,
   "metadata": {},
   "outputs": [],
   "source": [
    "from hepmc.core.proposals import Gaussian\n",
    "from hepmc import surrogate\n",
    "from hepmc.core.density import Density\n",
    "from hepmc.core import densities\n",
    "from hepmc.core.hamiltonian.hmc import HamiltonianUpdate\n",
    "from hepmc.core.hamiltonian.spherical_hmc import StaticSphericalHMC\n",
    "from hepmc.core.hamiltonian.wall_hmc import WallHMC\n",
    "from hepmc.core.sampling import Sample\n",
    "import numpy as np\n",
    "import pandas as pd\n",
    "import seaborn as sns\n",
    "import matplotlib.pyplot as plt\n",
    "%matplotlib notebook"
   ]
  },
  {
   "cell_type": "code",
   "execution_count": null,
   "metadata": {},
   "outputs": [],
   "source": [
    "class Exponential(Density):\n",
    "    def __init__(self):\n",
    "        super().__init__(2, False)\n",
    "        \n",
    "    def pdf(self, xs):\n",
    "        xs = np.atleast_2d(xs)\n",
    "        return np.exp(-6*xs[:, 0])\n",
    "        \n",
    "    def pot(self, xs):\n",
    "        xs = np.atleast_2d(xs)\n",
    "        return 6*xs[:, 0]\n",
    "    \n",
    "    def pot_gradient(self, xs):\n",
    "        xs = np.atleast_2d(xs)\n",
    "        return np.broadcast_to([6, 0], xs.shape)"
   ]
  },
  {
   "cell_type": "code",
   "execution_count": null,
   "metadata": {},
   "outputs": [],
   "source": [
    "target = Exponential()"
   ]
  },
  {
   "cell_type": "code",
   "execution_count": null,
   "metadata": {},
   "outputs": [],
   "source": [
    "xvals = np.random.random((10000, 2))\n",
    "xvals_df = pd.DataFrame(xvals)\n",
    "fvals = target.pdf(xvals)"
   ]
  },
  {
   "cell_type": "code",
   "execution_count": null,
   "metadata": {},
   "outputs": [],
   "source": [
    "g = sns.PairGrid(xvals_df)\n",
    "g = g.map_diag(plt.hist, weights=fvals, bins=15)\n",
    "g = g.map_offdiag(plt.hist2d, weights=fvals, bins=15)"
   ]
  },
  {
   "cell_type": "code",
   "execution_count": null,
   "metadata": {},
   "outputs": [],
   "source": [
    "start = np.random.random(2)\n",
    "print('start:', start)\n",
    "print('pdf:', target.pdf(start))\n",
    "print('pot:', target.pot(start))\n",
    "print('pot_grad:', target.pot_gradient(start))\n",
    "sampler = StaticSphericalHMC(target, .01, .01, 5, 5)\n",
    "start = sampler.sample(10000, start).data[-1] # warmup\n",
    "%time hmc_sample = sampler.sample(50000, start)"
   ]
  },
  {
   "cell_type": "code",
   "execution_count": null,
   "metadata": {},
   "outputs": [],
   "source": [
    "hmc_sample_df = pd.DataFrame(hmc_sample.data)"
   ]
  },
  {
   "cell_type": "code",
   "execution_count": null,
   "metadata": {},
   "outputs": [],
   "source": [
    "np.partition(hmc_sample.weights, -50)[-50:]"
   ]
  },
  {
   "cell_type": "code",
   "execution_count": null,
   "metadata": {},
   "outputs": [],
   "source": [
    "k = sns.PairGrid(hmc_sample_df)\n",
    "k = k.map_diag(plt.hist, bins=15, weights=hmc_sample.weights, range=(0, 1))\n",
    "k = k.map_offdiag(plt.hist2d, bins=15, weights=hmc_sample.weights, range=[[0, 1], [0, 1]])"
   ]
  },
  {
   "cell_type": "code",
   "execution_count": null,
   "metadata": {},
   "outputs": [],
   "source": [
    "start = np.random.random(2)\n",
    "print('start:', start)\n",
    "print('pdf:', target.pdf(start))\n",
    "print('pot:', target.pot(start))\n",
    "print('pot_grad:', target.pot_gradient(start))\n",
    "sampler = WallHMC(target, .2, .2, 5, 5)\n",
    "start = sampler.sample(5000, start).data[-1] # warmup\n",
    "%time wallhmc_sample = sampler.sample(10000, start)"
   ]
  },
  {
   "cell_type": "code",
   "execution_count": null,
   "metadata": {},
   "outputs": [],
   "source": [
    "wallhmc_sample_df = pd.DataFrame(wallhmc_sample.data)"
   ]
  },
  {
   "cell_type": "code",
   "execution_count": null,
   "metadata": {},
   "outputs": [],
   "source": [
    "l = sns.PairGrid(wallhmc_sample_df)\n",
    "l = l.map_diag(plt.hist, bins=15, range=(0, 1))\n",
    "l = l.map_offdiag(plt.hist2d, bins=15, range=[[0, 1], [0, 1]])"
   ]
  },
  {
   "cell_type": "code",
   "execution_count": null,
   "metadata": {},
   "outputs": [],
   "source": []
  }
 ],
 "metadata": {
  "language_info": {
   "name": "python",
   "pygments_lexer": "ipython3"
  }
 },
 "nbformat": 4,
 "nbformat_minor": 2
}
