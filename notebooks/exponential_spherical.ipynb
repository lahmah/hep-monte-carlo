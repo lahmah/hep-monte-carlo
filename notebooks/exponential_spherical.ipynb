{
 "cells": [
  {
   "cell_type": "code",
   "execution_count": 1,
   "metadata": {},
   "outputs": [],
   "source": [
    "from hepmc.core.proposals import Gaussian\n",
    "from hepmc import surrogate\n",
    "from hepmc.core.density import Density\n",
    "from hepmc.core import densities\n",
    "from hepmc.core.hamiltonian.hmc import HamiltonianUpdate\n",
    "from hepmc.core.hamiltonian.spherical_hmc import StaticSphericalHMC\n",
    "from hepmc.core.hamiltonian.wall_hmc import WallHMC\n",
    "from hepmc.core.sampling import Sample\n",
    "import numpy as np\n",
    "import pandas as pd\n",
    "import seaborn as sns\n",
    "import matplotlib.pyplot as plt\n",
    "%matplotlib notebook"
   ]
  },
  {
   "cell_type": "code",
   "execution_count": 2,
   "metadata": {},
   "outputs": [],
   "source": [
    "class Exponential(Density):\n",
    "    def __init__(self):\n",
    "        super().__init__(2, False)\n",
    "        \n",
    "    def pdf(self, xs):\n",
    "        xs = np.atleast_2d(xs)\n",
    "        return np.exp(-6*xs[:, 0])\n",
    "        \n",
    "    def pot(self, xs):\n",
    "        xs = np.atleast_2d(xs)\n",
    "        return 6*xs[:, 0]\n",
    "    \n",
    "    def pot_gradient(self, xs):\n",
    "        xs = np.atleast_2d(xs)\n",
    "        return np.broadcast_to([6, 0], xs.shape)"
   ]
  },
  {
   "cell_type": "code",
   "execution_count": 3,
   "metadata": {},
   "outputs": [],
   "source": [
    "target = Exponential()"
   ]
  },
  {
   "cell_type": "code",
   "execution_count": 4,
   "metadata": {},
   "outputs": [],
   "source": [
    "xvals = np.random.random((10000, 2))\n",
    "xvals_df = pd.DataFrame(xvals)\n",
    "fvals = target.pdf(xvals)"
   ]
  },
  {
   "cell_type": "code",
   "execution_count": 5,
   "metadata": {},
   "outputs": [
    {
     "data": {
      "image/png": "[encoded data removed]",
      "text/plain": [
       "<Figure size 360x360 with 6 Axes>"
      ]
     },
     "metadata": {
      "needs_background": "light"
     },
     "output_type": "display_data"
    }
   ],
   "source": [
    "g = sns.PairGrid(xvals_df)\n",
    "g = g.map_diag(plt.hist, weights=fvals, bins=15)\n",
    "g = g.map_offdiag(plt.hist2d, weights=fvals, bins=15)"
   ]
  },
  {
   "cell_type": "code",
   "execution_count": 12,
   "metadata": {
    "scrolled": true
   },
   "outputs": [
    {
     "name": "stdout",
     "output_type": "stream",
     "text": [
      "start: [0.36339528 0.60983552]\n",
      "pdf: [0.11299953]\n",
      "pot: [2.18037166]\n",
      "pot_grad: [[6 0]]\n",
      "Event 1\t(batch acceptance rate: 1.000000)\n",
      "Event 2\t(batch acceptance rate: 1.000000)\tmax sequence length: 1\n",
      "Event 3\t(batch acceptance rate: 1.000000)\tmax sequence length: 1\n",
      "Event 4\t(batch acceptance rate: 1.000000)\tmax sequence length: 1\n",
      "Event 5\t(batch acceptance rate: 1.000000)\tmax sequence length: 1\n",
      "Event 6\t(batch acceptance rate: 1.000000)\tmax sequence length: 1\n",
      "Event 7\t(batch acceptance rate: 1.000000)\tmax sequence length: 1\n",
      "Event 8\t(batch acceptance rate: 1.000000)\tmax sequence length: 1\n",
      "Event 9\t(batch acceptance rate: 1.000000)\tmax sequence length: 1\n",
      "Event 10\t(batch acceptance rate: 1.000000)\tmax sequence length: 1\n",
      "Event 20\t(batch acceptance rate: 1.000000)\tmax sequence length: 1\n",
      "Event 30\t(batch acceptance rate: 1.000000)\tmax sequence length: 1\n",
      "Event 40\t(batch acceptance rate: 1.000000)\tmax sequence length: 1\n",
      "Event 50\t(batch acceptance rate: 0.980000)\tmax sequence length: 2\n",
      "Event 60\t(batch acceptance rate: 0.983333)\tmax sequence length: 2\n",
      "Event 70\t(batch acceptance rate: 0.985714)\tmax sequence length: 2\n",
      "Event 80\t(batch acceptance rate: 0.987500)\tmax sequence length: 2\n",
      "Event 90\t(batch acceptance rate: 0.988889)\tmax sequence length: 2\n",
      "Event 100\t(batch acceptance rate: 0.980000)\tmax sequence length: 2\n",
      "Event 200\t(batch acceptance rate: 0.950000)\tmax sequence length: 3\n",
      "Event 300\t(batch acceptance rate: 0.943333)\tmax sequence length: 3\n",
      "Event 400\t(batch acceptance rate: 0.940000)\tmax sequence length: 3\n",
      "Event 500\t(batch acceptance rate: 0.950000)\tmax sequence length: 3\n",
      "Event 600\t(batch acceptance rate: 0.952000)\tmax sequence length: 3\n",
      "Event 700\t(batch acceptance rate: 0.968000)\tmax sequence length: 3\n",
      "Event 800\t(batch acceptance rate: 0.980000)\tmax sequence length: 3\n",
      "Event 900\t(batch acceptance rate: 0.988000)\tmax sequence length: 3\n",
      "Event 1000\t(batch acceptance rate: 0.988000)\tmax sequence length: 3\n",
      "Event 2000\t(batch acceptance rate: 0.978000)\tmax sequence length: 3\n",
      "Event 3000\t(batch acceptance rate: 0.974000)\tmax sequence length: 3\n",
      "Event 4000\t(batch acceptance rate: 0.944000)\tmax sequence length: 3\n",
      "Event 5000\t(batch acceptance rate: 0.966000)\tmax sequence length: 3\n",
      "Event 6000\t(batch acceptance rate: 0.984000)\tmax sequence length: 3\n",
      "Event 7000\t(batch acceptance rate: 0.974000)\tmax sequence length: 3\n",
      "Event 8000\t(batch acceptance rate: 0.968000)\tmax sequence length: 5\n",
      "Event 9000\t(batch acceptance rate: 0.980000)\tmax sequence length: 5\n",
      "Event 1\t(batch acceptance rate: 1.000000)\n",
      "Event 2\t(batch acceptance rate: 1.000000)\tmax sequence length: 1\n",
      "Event 3\t(batch acceptance rate: 1.000000)\tmax sequence length: 1\n",
      "Event 4\t(batch acceptance rate: 1.000000)\tmax sequence length: 1\n",
      "Event 5\t(batch acceptance rate: 1.000000)\tmax sequence length: 1\n",
      "Event 6\t(batch acceptance rate: 1.000000)\tmax sequence length: 1\n",
      "Event 7\t(batch acceptance rate: 1.000000)\tmax sequence length: 1\n",
      "Event 8\t(batch acceptance rate: 1.000000)\tmax sequence length: 1\n",
      "Event 9\t(batch acceptance rate: 1.000000)\tmax sequence length: 1\n",
      "Event 10\t(batch acceptance rate: 1.000000)\tmax sequence length: 1\n",
      "Event 20\t(batch acceptance rate: 1.000000)\tmax sequence length: 1\n",
      "Event 30\t(batch acceptance rate: 1.000000)\tmax sequence length: 1\n",
      "Event 40\t(batch acceptance rate: 1.000000)\tmax sequence length: 1\n",
      "Event 50\t(batch acceptance rate: 1.000000)\tmax sequence length: 1\n",
      "Event 60\t(batch acceptance rate: 1.000000)\tmax sequence length: 1\n",
      "Event 70\t(batch acceptance rate: 1.000000)\tmax sequence length: 1\n",
      "Event 80\t(batch acceptance rate: 1.000000)\tmax sequence length: 1\n",
      "Event 90\t(batch acceptance rate: 1.000000)\tmax sequence length: 1\n",
      "Event 100\t(batch acceptance rate: 1.000000)\tmax sequence length: 1\n",
      "Event 200\t(batch acceptance rate: 0.980000)\tmax sequence length: 2\n",
      "Event 300\t(batch acceptance rate: 0.976667)\tmax sequence length: 2\n",
      "Event 400\t(batch acceptance rate: 0.967500)\tmax sequence length: 2\n",
      "Event 500\t(batch acceptance rate: 0.974000)\tmax sequence length: 2\n",
      "Event 600\t(batch acceptance rate: 0.973333)\tmax sequence length: 2\n",
      "Event 700\t(batch acceptance rate: 0.972857)\tmax sequence length: 2\n",
      "Event 800\t(batch acceptance rate: 0.968750)\tmax sequence length: 2\n",
      "Event 900\t(batch acceptance rate: 0.968889)\tmax sequence length: 2\n",
      "Event 1000\t(batch acceptance rate: 0.967000)\tmax sequence length: 2\n",
      "Event 2000\t(batch acceptance rate: 0.974000)\tmax sequence length: 3\n",
      "Event 3000\t(batch acceptance rate: 0.966000)\tmax sequence length: 3\n",
      "Event 4000\t(batch acceptance rate: 0.968800)\tmax sequence length: 3\n",
      "Event 5000\t(batch acceptance rate: 0.970000)\tmax sequence length: 3\n",
      "Event 6000\t(batch acceptance rate: 0.976800)\tmax sequence length: 5\n",
      "Event 7000\t(batch acceptance rate: 0.969200)\tmax sequence length: 5\n",
      "Event 8000\t(batch acceptance rate: 0.968800)\tmax sequence length: 5\n",
      "Event 9000\t(batch acceptance rate: 0.976000)\tmax sequence length: 5\n",
      "Event 10000\t(batch acceptance rate: 0.983200)\tmax sequence length: 5\n",
      "Event 20000\t(batch acceptance rate: 0.972400)\tmax sequence length: 5\n",
      "Event 30000\t(batch acceptance rate: 0.969600)\tmax sequence length: 5\n",
      "Event 40000\t(batch acceptance rate: 0.978000)\tmax sequence length: 5\n",
      "CPU times: user 57 s, sys: 110 ms, total: 57.1 s\n",
      "Wall time: 57.4 s\n"
     ]
    }
   ],
   "source": [
    "start = np.random.random(2)\n",
    "print('start:', start)\n",
    "print('pdf:', target.pdf(start))\n",
    "print('pot:', target.pot(start))\n",
    "print('pot_grad:', target.pot_gradient(start))\n",
    "sampler = StaticSphericalHMC(target, .01, .01, 5, 5)\n",
    "start = sampler.sample(10000, start).data[-1] # warmup\n",
    "%time hmc_sample = sampler.sample(50000, start)"
   ]
  },
  {
   "cell_type": "code",
   "execution_count": 13,
   "metadata": {},
   "outputs": [],
   "source": [
    "hmc_sample_df = pd.DataFrame(hmc_sample.data)"
   ]
  },
  {
   "cell_type": "code",
   "execution_count": null,
   "metadata": {},
   "outputs": [],
   "source": [
    "np.partition(hmc_sample.weights, -50)[-50:]"
   ]
  },
  {
   "cell_type": "code",
   "execution_count": 15,
   "metadata": {},
   "outputs": [
    {
     "data": {
      "image/png": "[encoded data removed]",
      "text/plain": [
       "<Figure size 360x360 with 6 Axes>"
      ]
     },
     "metadata": {
      "needs_background": "light"
     },
     "output_type": "display_data"
    }
   ],
   "source": [
    "k = sns.PairGrid(hmc_sample_df)\n",
    "k = k.map_diag(plt.hist, bins=15, weights=hmc_sample.weights, range=(0, 1))\n",
    "k = k.map_offdiag(plt.hist2d, bins=15, weights=hmc_sample.weights, range=[[0, 1], [0, 1]])"
   ]
  },
  {
   "cell_type": "code",
   "execution_count": 16,
   "metadata": {
    "scrolled": true
   },
   "outputs": [
    {
     "name": "stdout",
     "output_type": "stream",
     "text": [
      "start: [0.24064857 0.61735743]\n",
      "pdf: [0.23600757]\n",
      "pot: [1.44389141]\n",
      "pot_grad: [[6 0]]\n",
      "Event 1\t(batch acceptance rate: 1.000000)\n",
      "Event 2\t(batch acceptance rate: 1.000000)\tmax sequence length: 1\n",
      "Event 3\t(batch acceptance rate: 1.000000)\tmax sequence length: 1\n",
      "Event 4\t(batch acceptance rate: 1.000000)\tmax sequence length: 1\n",
      "Event 5\t(batch acceptance rate: 1.000000)\tmax sequence length: 1\n",
      "Event 6\t(batch acceptance rate: 1.000000)\tmax sequence length: 1\n",
      "Event 7\t(batch acceptance rate: 1.000000)\tmax sequence length: 1\n",
      "Event 8\t(batch acceptance rate: 1.000000)\tmax sequence length: 1\n",
      "Event 9\t(batch acceptance rate: 1.000000)\tmax sequence length: 1\n",
      "Event 10\t(batch acceptance rate: 1.000000)\tmax sequence length: 1\n",
      "Event 20\t(batch acceptance rate: 1.000000)\tmax sequence length: 1\n",
      "Event 30\t(batch acceptance rate: 1.000000)\tmax sequence length: 1\n",
      "Event 40\t(batch acceptance rate: 1.000000)\tmax sequence length: 1\n",
      "Event 50\t(batch acceptance rate: 1.000000)\tmax sequence length: 1\n",
      "Event 60\t(batch acceptance rate: 1.000000)\tmax sequence length: 1\n",
      "Event 70\t(batch acceptance rate: 1.000000)\tmax sequence length: 1\n",
      "Event 80\t(batch acceptance rate: 1.000000)\tmax sequence length: 1\n",
      "Event 90\t(batch acceptance rate: 1.000000)\tmax sequence length: 1\n",
      "Event 100\t(batch acceptance rate: 1.000000)\tmax sequence length: 1\n",
      "Event 200\t(batch acceptance rate: 1.000000)\tmax sequence length: 1\n",
      "Event 300\t(batch acceptance rate: 1.000000)\tmax sequence length: 1\n",
      "Event 400\t(batch acceptance rate: 1.000000)\tmax sequence length: 1\n",
      "Event 500\t(batch acceptance rate: 1.000000)\tmax sequence length: 1\n",
      "Event 600\t(batch acceptance rate: 1.000000)\tmax sequence length: 1\n",
      "Event 700\t(batch acceptance rate: 1.000000)\tmax sequence length: 1\n",
      "Event 800\t(batch acceptance rate: 1.000000)\tmax sequence length: 1\n",
      "Event 900\t(batch acceptance rate: 1.000000)\tmax sequence length: 1\n",
      "Event 1000\t(batch acceptance rate: 1.000000)\tmax sequence length: 1\n",
      "Event 2000\t(batch acceptance rate: 1.000000)\tmax sequence length: 1\n",
      "Event 3000\t(batch acceptance rate: 1.000000)\tmax sequence length: 1\n",
      "Event 4000\t(batch acceptance rate: 1.000000)\tmax sequence length: 1\n",
      "Event 1\t(batch acceptance rate: 0.000000)\n",
      "Event 2\t(batch acceptance rate: 0.500000)\tmax sequence length: 2\n",
      "Event 3\t(batch acceptance rate: 0.666667)\tmax sequence length: 2\n",
      "Event 4\t(batch acceptance rate: 0.750000)\tmax sequence length: 2\n",
      "Event 5\t(batch acceptance rate: 0.800000)\tmax sequence length: 2\n",
      "Event 6\t(batch acceptance rate: 0.833333)\tmax sequence length: 2\n",
      "Event 7\t(batch acceptance rate: 0.857143)\tmax sequence length: 2\n",
      "Event 8\t(batch acceptance rate: 0.875000)\tmax sequence length: 2\n",
      "Event 9\t(batch acceptance rate: 0.888889)\tmax sequence length: 2\n",
      "Event 10\t(batch acceptance rate: 0.900000)\tmax sequence length: 2\n",
      "Event 20\t(batch acceptance rate: 0.950000)\tmax sequence length: 2\n",
      "Event 30\t(batch acceptance rate: 0.966667)\tmax sequence length: 2\n",
      "Event 40\t(batch acceptance rate: 0.975000)\tmax sequence length: 2\n",
      "Event 50\t(batch acceptance rate: 0.980000)\tmax sequence length: 2\n",
      "Event 60\t(batch acceptance rate: 0.983333)\tmax sequence length: 2\n",
      "Event 70\t(batch acceptance rate: 0.985714)\tmax sequence length: 2\n",
      "Event 80\t(batch acceptance rate: 0.987500)\tmax sequence length: 2\n",
      "Event 90\t(batch acceptance rate: 0.988889)\tmax sequence length: 2\n",
      "Event 100\t(batch acceptance rate: 0.990000)\tmax sequence length: 2\n",
      "Event 200\t(batch acceptance rate: 0.995000)\tmax sequence length: 2\n",
      "Event 300\t(batch acceptance rate: 0.996667)\tmax sequence length: 2\n",
      "Event 400\t(batch acceptance rate: 0.997500)\tmax sequence length: 2\n",
      "Event 500\t(batch acceptance rate: 0.998000)\tmax sequence length: 2\n",
      "Event 600\t(batch acceptance rate: 1.000000)\tmax sequence length: 2\n",
      "Event 700\t(batch acceptance rate: 1.000000)\tmax sequence length: 2\n",
      "Event 800\t(batch acceptance rate: 1.000000)\tmax sequence length: 2\n",
      "Event 900\t(batch acceptance rate: 1.000000)\tmax sequence length: 2\n",
      "Event 1000\t(batch acceptance rate: 1.000000)\tmax sequence length: 2\n",
      "Event 2000\t(batch acceptance rate: 1.000000)\tmax sequence length: 2\n",
      "Event 3000\t(batch acceptance rate: 1.000000)\tmax sequence length: 2\n",
      "Event 4000\t(batch acceptance rate: 1.000000)\tmax sequence length: 2\n",
      "Event 5000\t(batch acceptance rate: 1.000000)\tmax sequence length: 2\n",
      "Event 6000\t(batch acceptance rate: 1.000000)\tmax sequence length: 2\n",
      "Event 7000\t(batch acceptance rate: 1.000000)\tmax sequence length: 2\n",
      "Event 8000\t(batch acceptance rate: 1.000000)\tmax sequence length: 2\n",
      "Event 9000\t(batch acceptance rate: 1.000000)\tmax sequence length: 2\n",
      "CPU times: user 6.72 s, sys: 110 ms, total: 6.83 s\n",
      "Wall time: 6.73 s\n"
     ]
    }
   ],
   "source": [
    "start = np.random.random(2)\n",
    "print('start:', start)\n",
    "print('pdf:', target.pdf(start))\n",
    "print('pot:', target.pot(start))\n",
    "print('pot_grad:', target.pot_gradient(start))\n",
    "sampler = WallHMC(target, .2, .2, 5, 5)\n",
    "start = sampler.sample(5000, start).data[-1] # warmup\n",
    "%time wallhmc_sample = sampler.sample(10000, start)"
   ]
  },
  {
   "cell_type": "code",
   "execution_count": 17,
   "metadata": {},
   "outputs": [],
   "source": [
    "wallhmc_sample_df = pd.DataFrame(wallhmc_sample.data)"
   ]
  },
  {
   "cell_type": "code",
   "execution_count": 18,
   "metadata": {},
   "outputs": [
    {
     "data": {
      "image/png": "[encoded data removed]",
      "text/plain": [
       "<Figure size 360x360 with 6 Axes>"
      ]
     },
     "metadata": {
      "needs_background": "light"
     },
     "output_type": "display_data"
    }
   ],
   "source": [
    "l = sns.PairGrid(wallhmc_sample_df)\n",
    "l = l.map_diag(plt.hist, bins=15, range=(0, 1))\n",
    "l = l.map_offdiag(plt.hist2d, bins=15, range=[[0, 1], [0, 1]])"
   ]
  },
  {
   "cell_type": "code",
   "execution_count": null,
   "metadata": {},
   "outputs": [],
   "source": []
  }
 ],
 "metadata": {
  "kernelspec": {
   "display_name": "hepmc",
   "language": "python",
   "name": "hepmc"
  },
  "language_info": {
   "codemirror_mode": {
    "name": "ipython",
    "version": 3
   },
   "file_extension": ".py",
   "mimetype": "text/x-python",
   "name": "python",
   "nbconvert_exporter": "python",
   "pygments_lexer": "ipython3",
   "version": "3.6.6"
  }
 },
 "nbformat": 4,
 "nbformat_minor": 2
}
