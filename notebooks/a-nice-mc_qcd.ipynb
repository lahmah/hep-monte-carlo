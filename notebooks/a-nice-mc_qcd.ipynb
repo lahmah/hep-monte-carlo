{
 "cells": [
  {
   "cell_type": "code",
   "execution_count": null,
   "metadata": {},
   "outputs": [],
   "source": [
    "import numpy as np\n",
    "\n",
    "from a_nice_mc.models.discriminator import MLPDiscriminator\n",
    "from a_nice_mc.models.generator import create_nice_network\n",
    "from a_nice_mc.train.wgan_nll import Trainer\n",
    "\n",
    "from hepmc.core.densities.qcd import ee_qq_ng\n",
    "from hepmc.core.phase_space.mapping import MappedDensity\n",
    "from hepmc.core.phase_space.rambo import RamboOnDiet"
   ]
  },
  {
   "cell_type": "code",
   "execution_count": null,
   "metadata": {},
   "outputs": [],
   "source": [
    "import tensorflow as tf\n",
    "from a_nice_mc.objectives import Energy\n",
    "from tensorflow.python.framework import ops\n",
    "\n",
    "class QCDTarget(Energy):\n",
    "    def __init__(self):\n",
    "        super(QCDTarget, self).__init__()\n",
    "        self.name = \"QCDTarget\"\n",
    "        self.z = tf.placeholder(tf.float32, [None, 8], name='z')\n",
    "        target = ee_qq_ng(2, 100., 5., .3)\n",
    "        rambo_mapping = RamboOnDiet(100., 4)\n",
    "        self.mapped = MappedDensity(target, rambo_mapping)\n",
    "    \n",
    "    def __call__(self, z):\n",
    "        return self.tf_energy(z)\n",
    "    \n",
    "    # energy as numpy function\n",
    "    def energy(self, z):\n",
    "        return self.mapped.pot(z).astype(np.float32, copy=False)\n",
    "        #return self.camel.pot(z).view('float32')\n",
    "    \n",
    "    # energy as tensorflow function\n",
    "    def tf_energy(self, z, name=None):\n",
    "        with tf.name_scope(name, \"energy\", [z]) as name:\n",
    "            y = tf.py_func(self.energy,\n",
    "                       [z],\n",
    "                       [tf.float32],\n",
    "                       name=name,\n",
    "                       stateful=False)\n",
    "            return y[0]\n",
    "    \n",
    "    #@staticmethod\n",
    "    #def mean():\n",
    "    #    return np.array(3*[.5])\n",
    "    \n",
    "    #@staticmethod\n",
    "    #def std():\n",
    "    #    return np.array(3*[.181])\n",
    "    \n",
    "    def evaluate(self, zv, path=None):\n",
    "        pass"
   ]
  },
  {
   "cell_type": "code",
   "execution_count": null,
   "metadata": {},
   "outputs": [],
   "source": [
    "energy_fn = QCDTarget()"
   ]
  },
  {
   "cell_type": "code",
   "execution_count": null,
   "metadata": {},
   "outputs": [],
   "source": [
    "#def noise_sampler(bs):\n",
    "#    return np.random.normal(0.0, 1.0, [bs, 8])\n",
    "\n",
    "def noise_sampler(bs):\n",
    "    return np.random.uniform(0.0, 1.0, [bs, 8])\n",
    "\n",
    "#def noise_sampler(bs):\n",
    "#    noise = np.empty((bs, 8))\n",
    "#    \n",
    "#    indices = np.arange(bs)\n",
    "#    while indices.size > 0:\n",
    "#        x = np.random.normal(.5, .25, [indices.size, 8])\n",
    "#        y = energy_fn.mapped.pot(x)\n",
    "#        in_bounds = np.logical_not(np.isinf(y))\n",
    "#        noise[indices[in_bounds]] = x[in_bounds]\n",
    "#        indices = indices[np.logical_not(in_bounds)]\n",
    "#\n",
    "#    return noise"
   ]
  },
  {
   "cell_type": "code",
   "execution_count": null,
   "metadata": {},
   "outputs": [],
   "source": [
    "discriminator = MLPDiscriminator([400, 400, 400])\n",
    "generator = create_nice_network(\n",
    "    8, 10,\n",
    "    [\n",
    "        ([400], 'v1', False),\n",
    "        ([400, 400], 'x1', True),\n",
    "        ([400], 'v2', False)\n",
    "    ]\n",
    ")"
   ]
  },
  {
   "cell_type": "code",
   "execution_count": null,
   "metadata": {},
   "outputs": [],
   "source": [
    "trainer = Trainer(generator, energy_fn, discriminator, noise_sampler, b=16, m=4)"
   ]
  },
  {
   "cell_type": "code",
   "execution_count": null,
   "metadata": {},
   "outputs": [],
   "source": [
    "trainer.train(max_iters=10000)"
   ]
  },
  {
   "cell_type": "code",
   "execution_count": null,
   "metadata": {},
   "outputs": [],
   "source": [
    "sample, _ = trainer.sample(batch_size=32, steps=2000)"
   ]
  },
  {
   "cell_type": "code",
   "execution_count": null,
   "metadata": {},
   "outputs": [],
   "source": [
    "burn_in = 1000\n",
    "sample = sample[:, burn_in:]"
   ]
  },
  {
   "cell_type": "code",
   "execution_count": null,
   "metadata": {},
   "outputs": [],
   "source": [
    "sample = np.reshape(sample, (-1, 8))"
   ]
  },
  {
   "cell_type": "code",
   "execution_count": null,
   "metadata": {},
   "outputs": [],
   "source": [
    "n_accepted = 1\n",
    "for i in range(1, 32000):\n",
    "    if (sample[i] != sample[i-1]).any():\n",
    "        n_accepted += 1\n",
    "print(n_accepted)"
   ]
  },
  {
   "cell_type": "code",
   "execution_count": null,
   "metadata": {},
   "outputs": [],
   "source": [
    "from hepmc.core.sampling import Sample\n",
    "from hepmc.core.densities.qcd import export_hepmc\n",
    "rambo_mapping = RamboOnDiet(100., 4)\n",
    "anicemc_sample = Sample(data=rambo_mapping.map(sample), weights=np.full(sample.shape[0], 1./sample.shape[0]))\n",
    "export_hepmc(100., anicemc_sample, \"../samples/qcd/2-4/a_nice_mc.hepmc\")"
   ]
  },
  {
   "cell_type": "code",
   "execution_count": null,
   "metadata": {},
   "outputs": [],
   "source": [
    "sample_container = Sample(data=sample[0][0])"
   ]
  },
  {
   "cell_type": "code",
   "execution_count": null,
   "metadata": {},
   "outputs": [],
   "source": [
    "mean = sample_container.mean\n",
    "variance = sample_container.variance"
   ]
  },
  {
   "cell_type": "code",
   "execution_count": null,
   "metadata": {},
   "outputs": [],
   "source": [
    "from hepmc.core.util.stat_tools import effective_sample_size"
   ]
  },
  {
   "cell_type": "code",
   "execution_count": null,
   "metadata": {},
   "outputs": [],
   "source": [
    "effective_sample_size(sample_container, mean, variance)"
   ]
  },
  {
   "cell_type": "code",
   "execution_count": null,
   "metadata": {},
   "outputs": [],
   "source": []
  }
 ],
 "metadata": {
  "language_info": {
   "name": "python",
   "pygments_lexer": "ipython3"
  }
 },
 "nbformat": 4,
 "nbformat_minor": 2
}
