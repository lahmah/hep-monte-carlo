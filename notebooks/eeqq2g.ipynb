{
 "cells": [
  {
   "cell_type": "code",
   "execution_count": 1,
   "metadata": {},
   "outputs": [],
   "source": [
    "from hepmc import *\n",
    "import numpy as np"
   ]
  },
  {
   "cell_type": "code",
   "execution_count": 2,
   "metadata": {},
   "outputs": [],
   "source": [
    "sarge = densities.Sarge(2, 4, 100.)"
   ]
  },
  {
   "cell_type": "code",
   "execution_count": 3,
   "metadata": {
    "scrolled": true
   },
   "outputs": [],
   "source": [
    "eeqq2g = densities.ee_qq_ng(2, 100., 5., .3)"
   ]
  },
  {
   "cell_type": "code",
   "execution_count": 4,
   "metadata": {},
   "outputs": [],
   "source": [
    "rambo_mapping = phase_space.RamboOnDiet(100., 4)\n",
    "mapped = phase_space.MappedDensity(eeqq2g, rambo_mapping)"
   ]
  },
  {
   "cell_type": "code",
   "execution_count": null,
   "metadata": {},
   "outputs": [
    {
     "name": "stdout",
     "output_type": "stream",
     "text": [
      "Event 1\t(avg. trials per event: 2.000000)\n",
      "Event 2\t(avg. trials per event: 12.000000)\tXS = 81.059722 pb +- ( 58.740551 pb = 72.465769 %)\n",
      "Event 3\t(avg. trials per event: 25.333333)\tXS = 57.776309 pb +- ( 25.172125 pb = 43.568248 %)\n",
      "Event 4\t(avg. trials per event: 25.500000)\tXS = 43.193637 pb +- ( 22.682008 pb = 52.512384 %)\n",
      "Event 5\t(avg. trials per event: 20.800000)\tXS = 44.286931 pb +- ( 23.217667 pb = 52.425550 %)\n",
      "Event 6\t(avg. trials per event: 22.000000)\tXS = 35.811904 pb +- ( 18.919679 pb = 52.830699 %)\n",
      "Event 7\t(avg. trials per event: 21.571429)\tXS = 31.358251 pb +- ( 17.106163 pb = 54.550758 %)\n",
      "Event 8\t(avg. trials per event: 25.125000)\tXS = 29.439374 pb +- ( 12.965610 pb = 44.041732 %)\n",
      "Event 9\t(avg. trials per event: 22.666667)\tXS = 36.995861 pb +- ( 13.404858 pb = 36.233399 %)\n",
      "Event 10\t(avg. trials per event: 25.900000)\tXS = 29.288183 pb +- ( 10.938170 pb = 37.346700 %)\n",
      "Event 20\t(avg. trials per event: 18.600000)\tXS = 46.396136 pb +- ( 13.856883 pb = 29.866459 %)\n",
      "Event 30\t(avg. trials per event: 24.233333)\tXS = 27.228423 pb +- ( 7.542967 pb = 27.702549 %)\n",
      "Event 40\t(avg. trials per event: 24.225000)\tXS = 22.787380 pb +- ( 5.814193 pb = 25.514968 %)\n",
      "Event 50\t(avg. trials per event: 25.200000)\tXS = 24.418987 pb +- ( 5.857651 pb = 23.988100 %)\n",
      "Event 60\t(avg. trials per event: 26.383333)\tXS = 22.225505 pb +- ( 4.775618 pb = 21.487107 %)\n",
      "Event 70\t(avg. trials per event: 24.928571)\tXS = 22.001435 pb +- ( 4.391258 pb = 19.958963 %)\n",
      "Event 80\t(avg. trials per event: 25.850000)\tXS = 21.068667 pb +- ( 3.823061 pb = 18.145720 %)\n",
      "Event 90\t(avg. trials per event: 27.022222)\tXS = 21.525589 pb +- ( 3.557633 pb = 16.527460 %)\n",
      "Event 100\t(avg. trials per event: 26.800000)\tXS = 22.519465 pb +- ( 3.515152 pb = 15.609394 %)\n",
      "Event 200\t(avg. trials per event: 25.295000)\tXS = 22.091320 pb +- ( 2.601977 pb = 11.778277 %)\n",
      "Event 300\t(avg. trials per event: 25.010000)\tXS = 20.318563 pb +- ( 2.054798 pb = 10.112908 %)\n",
      "Event 400\t(avg. trials per event: 24.895000)\tXS = 24.866477 pb +- ( 3.169855 pb = 12.747503 %)\n",
      "Event 500\t(avg. trials per event: 24.590000)\tXS = 25.757587 pb +- ( 2.677505 pb = 10.395015 %)\n",
      "Event 600\t(avg. trials per event: 24.021667)\tXS = 27.141477 pb +- ( 2.390014 pb = 8.805763 %)\n",
      "Event 700\t(avg. trials per event: 24.242857)\tXS = 25.687771 pb +- ( 2.065414 pb = 8.040457 %)\n",
      "Event 800\t(avg. trials per event: 23.813750)\tXS = 25.420918 pb +- ( 1.888471 pb = 7.428806 %)\n",
      "Event 900\t(avg. trials per event: 23.762222)\tXS = 25.048948 pb +- ( 1.720123 pb = 6.867047 %)\n",
      "Event 1000\t(avg. trials per event: 23.596000)\tXS = 24.969660 pb +- ( 1.612172 pb = 6.456524 %)\n",
      "Event 2000\t(avg. trials per event: 23.642500)\tXS = 26.409005 pb +- ( 1.385619 pb = 5.246766 %)\n",
      "Event 3000\t(avg. trials per event: 23.108333)\tXS = 29.904501 pb +- ( 1.874412 pb = 6.267994 %)\n"
     ]
    }
   ],
   "source": [
    "%time sarge_sample = ImportanceMC(sarge)(eeqq2g.pdf, 10000)"
   ]
  },
  {
   "cell_type": "code",
   "execution_count": null,
   "metadata": {},
   "outputs": [],
   "source": [
    "densities.export_hepmc(100., sarge_sample, \"../samples/qcd/2-4/sarge_weighted.hepmc\")"
   ]
  },
  {
   "cell_type": "code",
   "execution_count": null,
   "metadata": {},
   "outputs": [],
   "source": [
    "bound = sarge_sample.weights.max()"
   ]
  },
  {
   "cell_type": "code",
   "execution_count": null,
   "metadata": {},
   "outputs": [],
   "source": [
    "%%time\n",
    "# acceptance-rejection sampler\n",
    "sarge_sample_unweighted = np.empty((1000, 16))\n",
    "for i in range(1000):\n",
    "    aprob = 0\n",
    "    while np.random.random() > aprob:\n",
    "        proposal = sarge.proposal()\n",
    "        f = eeqq2g.pdf(proposal)\n",
    "        g = sarge.proposal_pdf(None, proposal)\n",
    "        aprob = f/(bound*g)\n",
    "        if aprob > 1:\n",
    "            print(\"bound too low\")\n",
    "    sarge_sample_unweighted[i] = proposal\n",
    "sarge_sample_unweighted = Sample(data=sarge_sample_unweighted, weights=np.full(1000, 1./1000))"
   ]
  },
  {
   "cell_type": "code",
   "execution_count": null,
   "metadata": {},
   "outputs": [],
   "source": [
    "densities.export_hepmc(100., sarge_sample_unweighted, \"../samples/qcd/2-4/sarge_unweighted.hepmc\")"
   ]
  },
  {
   "cell_type": "code",
   "execution_count": null,
   "metadata": {},
   "outputs": [],
   "source": [
    "rambo_sample = PlainMC(8)(mapped, 10000)\n",
    "rambo_sample.integral, rambo_sample.integral_err"
   ]
  },
  {
   "cell_type": "code",
   "execution_count": null,
   "metadata": {},
   "outputs": [],
   "source": [
    "ys = mapped.pdf(rambo_sample.data)\n",
    "max_y = ys.max()"
   ]
  },
  {
   "cell_type": "code",
   "execution_count": null,
   "metadata": {},
   "outputs": [],
   "source": [
    "rambo = AcceptRejectSampler(mapped, max_y, 8)\n",
    "%time rambo_sample = rambo.sample(1000)"
   ]
  },
  {
   "cell_type": "code",
   "execution_count": null,
   "metadata": {},
   "outputs": [],
   "source": [
    "rambo_sample.data = rambo_mapping.map(rambo_sample.data)\n",
    "rambo_sample.weights = np.full(rambo_sample.size, 1./rambo_sample.size)"
   ]
  },
  {
   "cell_type": "code",
   "execution_count": null,
   "metadata": {},
   "outputs": [],
   "source": [
    "densities.export_hepmc(100., rambo_sample, \"../samples/qcd/2-4/rambo.hepmc\")"
   ]
  },
  {
   "cell_type": "code",
   "execution_count": null,
   "metadata": {},
   "outputs": [],
   "source": [
    "# just a local sampler (rambo)\n",
    "met = DefaultMetropolis(8, mapped, proposals.Gaussian(8, .01))\n",
    "%time met_sample = met.sample(10000, np.random.rand(8))"
   ]
  },
  {
   "cell_type": "code",
   "execution_count": null,
   "metadata": {},
   "outputs": [],
   "source": [
    "met_sample.data = rambo_mapping.map(met_sample.data)\n",
    "met_sample.weights = np.full(met_sample.size, 1./met_sample.size)\n",
    "densities.export_hepmc(100., met_sample, \"../samples/qcd/2-4/metropolis.hepmc\")"
   ]
  },
  {
   "cell_type": "code",
   "execution_count": null,
   "metadata": {},
   "outputs": [],
   "source": [
    "# now sarge + local in MC3\n",
    "importance = DefaultMetropolis(4 * 4, eeqq2g, proposal=sarge)  # using sarge, full momentum sample space\n",
    "local = DefaultMetropolis(8, mapped, proposals.Gaussian(8, .01))  # using rambo, rambo sample space\n",
    "update = MixingMarkovUpdate(8, [importance, local], target=mapped,\n",
    "                            out_maps={0: rambo_mapping.map_inverse},\n",
    "                            in_maps={0: rambo_mapping.map}) # rambo sample space, important to set target explicitly\n",
    "%time mc3_sample = update.sample(10000, np.random.rand(8))"
   ]
  },
  {
   "cell_type": "code",
   "execution_count": null,
   "metadata": {},
   "outputs": [],
   "source": [
    "mc3_sample.data = rambo_mapping.map(mc3_sample.data)\n",
    "mc3_sample.weights = np.full(mc3_sample.size, 1./mc3_sample.size)\n",
    "densities.export_hepmc(100., mc3_sample, \"../samples/qcd/2-4/mc3.hepmc\")"
   ]
  },
  {
   "cell_type": "code",
   "execution_count": null,
   "metadata": {},
   "outputs": [],
   "source": []
  }
 ],
 "metadata": {
  "kernelspec": {
   "display_name": "hepmc",
   "language": "python",
   "name": "hepmc"
  },
  "language_info": {
   "codemirror_mode": {
    "name": "ipython",
    "version": 3
   },
   "file_extension": ".py",
   "mimetype": "text/x-python",
   "name": "python",
   "nbconvert_exporter": "python",
   "pygments_lexer": "ipython3",
   "version": "3.6.6"
  }
 },
 "nbformat": 4,
 "nbformat_minor": 2
}
