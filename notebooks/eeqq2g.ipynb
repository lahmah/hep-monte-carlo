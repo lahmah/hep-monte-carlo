{
 "cells": [
  {
   "cell_type": "code",
   "execution_count": 1,
   "metadata": {},
   "outputs": [],
   "source": [
    "from hepmc import *\n",
    "import numpy as np\n",
    "from itertools import combinations\n",
    "import matplotlib.pyplot as plt\n",
    "%matplotlib notebook"
   ]
  },
  {
   "cell_type": "code",
   "execution_count": 2,
   "metadata": {},
   "outputs": [],
   "source": [
    "def write_events(E_CM, sample, filename):\n",
    "    n_out = int(sample.data.shape[1]/4)\n",
    "    \n",
    "    with open(filename, \"w\") as f:\n",
    "        f.write(\"\\nHepMC::Version 2.06.09\\nHepMC::IO_GenEvent-START_EVENT_LISTING\\n\")\n",
    "        for i in range(sample.size):\n",
    "            # event\n",
    "            # E evt_number no_mpi scale alphq_qcd alpha_qed signal_id barcode_signal_process_vertex no_vertices barcode_particle_1 barcode_particle_2 no_random_state {random_state} no_weights {weights}\n",
    "            f.write(\"E %i -1 0 1.0000000000000000e+00 1.0000000000000000e+00 0 0 1 10001 10002 0 1 %e\\n\" % (i, sample.weights[i]))\n",
    "            \n",
    "            # weights\n",
    "            f.write(\"N 1 \\\"0\\\"\\n\")\n",
    "            \n",
    "            # units\n",
    "            f.write(\"U GEV MM\\n\")\n",
    "            \n",
    "            # vertex\n",
    "            # V barcode id x y z ctau no_incoming no_outgoing no_weights {weights}\n",
    "            f.write(\"V -1 0 0 0 0 0 2 %i 0\\n\" % n_out)\n",
    "            \n",
    "            # incoming particles\n",
    "            # P barcode PDG_id px py pz energy gen_mass status_code pol_theta pol_phi barcode_vertex_incoming no_flow {code_index, code}\n",
    "            f.write(\"P 10001 11 0 0 %e %e 0 4 0 0 -1 0\\n\" % (E_CM/2, E_CM/2))\n",
    "            f.write(\"P 10002 -11 0 0 %e %e 0 4 0 0 -1 0\\n\" % (-E_CM/2, E_CM/2))\n",
    "            \n",
    "            # outgoing particles\n",
    "            for j in range(n_out):\n",
    "                if j == 0:\n",
    "                    pid = 1\n",
    "                elif j == 1:\n",
    "                    pid = -1\n",
    "                else:\n",
    "                    pid = 21\n",
    "                \n",
    "                E = sample.data[i, 4*j]\n",
    "                px = sample.data[i, 4*j+1]\n",
    "                py = sample.data[i, 4*j+2]\n",
    "                pz = sample.data[i, 4*j+3]\n",
    "                f.write(\"P %i %i %e %e %e %e 0 1 0 0 0 0\\n\" % (10003+j, pid, px, py, pz, E))\n",
    "            \n",
    "        f.write(\"HepMC::IO_GenEvent-END_EVENT_LISTING\")"
   ]
  },
  {
   "cell_type": "code",
   "execution_count": 3,
   "metadata": {},
   "outputs": [],
   "source": [
    "sarge = densities.Sarge(2, 4, 100.)"
   ]
  },
  {
   "cell_type": "code",
   "execution_count": 4,
   "metadata": {
    "scrolled": true
   },
   "outputs": [
    {
     "ename": "SherpaException",
     "evalue": "\u001b[1mSherpa: \u001b[0m\u001b[34mInitialization_Handler::InitializeTheModel\u001b[0m throws \u001b[1m\u001b[31mmissing module\u001b[0m\u001b[1m: \n   \u001b[0m\u001b[31mCannot load model library SherpaSM.\u001b[0m",
     "output_type": "error",
     "traceback": [
      "\u001b[0;31m---------------------------------------------------------------------------\u001b[0m",
      "\u001b[0;31mSherpaException\u001b[0m                           Traceback (most recent call last)",
      "\u001b[0;32m<ipython-input-4-7dd302d32f29>\u001b[0m in \u001b[0;36m<module>\u001b[0;34m()\u001b[0m\n\u001b[0;32m----> 1\u001b[0;31m \u001b[0meeqq2g\u001b[0m \u001b[0;34m=\u001b[0m \u001b[0mdensities\u001b[0m\u001b[0;34m.\u001b[0m\u001b[0mee_qq_ng\u001b[0m\u001b[0;34m(\u001b[0m\u001b[0;36m100.\u001b[0m\u001b[0;34m,\u001b[0m \u001b[0;36m2\u001b[0m\u001b[0;34m,\u001b[0m \u001b[0;36m5.\u001b[0m\u001b[0;34m,\u001b[0m \u001b[0;36m.3\u001b[0m\u001b[0;34m)\u001b[0m\u001b[0;34m\u001b[0m\u001b[0m\n\u001b[0m",
      "\u001b[0;32m/net/theorie/home/tjansse2/studium/masterarbeit/hep-monte-carlo/src/hepmc/core/densities/qcd.py\u001b[0m in \u001b[0;36m__init__\u001b[0;34m(self, n_gluons, E_CM, pT_min, angle_min)\u001b[0m\n\u001b[1;32m     26\u001b[0m                                          \u001b[0;34m(\u001b[0m\u001b[0;34m'RUNDATA='\u001b[0m \u001b[0;34m+\u001b[0m \u001b[0mpath_to_runcard\u001b[0m\u001b[0;34m(\u001b[0m\u001b[0mn_gluons\u001b[0m\u001b[0;34m)\u001b[0m\u001b[0;34m)\u001b[0m\u001b[0;34m.\u001b[0m\u001b[0mencode\u001b[0m\u001b[0;34m(\u001b[0m\u001b[0;34m'ascii'\u001b[0m\u001b[0;34m)\u001b[0m\u001b[0;34m,\u001b[0m\u001b[0;34m\u001b[0m\u001b[0m\n\u001b[1;32m     27\u001b[0m                                          \u001b[0;34m'INIT_ONLY=2'\u001b[0m\u001b[0;34m.\u001b[0m\u001b[0mencode\u001b[0m\u001b[0;34m(\u001b[0m\u001b[0;34m'ascii'\u001b[0m\u001b[0;34m)\u001b[0m\u001b[0;34m,\u001b[0m\u001b[0;34m\u001b[0m\u001b[0m\n\u001b[0;32m---> 28\u001b[0;31m                                          'OUTPUT=0'.encode('ascii')])\n\u001b[0m\u001b[1;32m     29\u001b[0m         \u001b[0mself\u001b[0m\u001b[0;34m.\u001b[0m\u001b[0mProcess\u001b[0m \u001b[0;34m=\u001b[0m \u001b[0mSherpa\u001b[0m\u001b[0;34m.\u001b[0m\u001b[0mMEProcess\u001b[0m\u001b[0;34m(\u001b[0m\u001b[0mself\u001b[0m\u001b[0;34m.\u001b[0m\u001b[0mGenerator\u001b[0m\u001b[0;34m)\u001b[0m\u001b[0;34m\u001b[0m\u001b[0m\n\u001b[1;32m     30\u001b[0m \u001b[0;34m\u001b[0m\u001b[0m\n",
      "\u001b[0;32m~/software/install/lib/python3.6/site-packages/Sherpa.py\u001b[0m in \u001b[0;36mInitializeTheRun\u001b[0;34m(self, arg2, arg3)\u001b[0m\n\u001b[1;32m   1075\u001b[0m \u001b[0;34m\u001b[0m\u001b[0m\n\u001b[1;32m   1076\u001b[0m     \u001b[0;32mdef\u001b[0m \u001b[0mInitializeTheRun\u001b[0m\u001b[0;34m(\u001b[0m\u001b[0mself\u001b[0m\u001b[0;34m,\u001b[0m \u001b[0marg2\u001b[0m\u001b[0;34m,\u001b[0m \u001b[0marg3\u001b[0m\u001b[0;34m)\u001b[0m\u001b[0;34m:\u001b[0m\u001b[0;34m\u001b[0m\u001b[0m\n\u001b[0;32m-> 1077\u001b[0;31m         \u001b[0;32mreturn\u001b[0m \u001b[0m_Sherpa\u001b[0m\u001b[0;34m.\u001b[0m\u001b[0mSherpa_InitializeTheRun\u001b[0m\u001b[0;34m(\u001b[0m\u001b[0mself\u001b[0m\u001b[0;34m,\u001b[0m \u001b[0marg2\u001b[0m\u001b[0;34m,\u001b[0m \u001b[0marg3\u001b[0m\u001b[0;34m)\u001b[0m\u001b[0;34m\u001b[0m\u001b[0m\n\u001b[0m\u001b[1;32m   1078\u001b[0m \u001b[0;34m\u001b[0m\u001b[0m\n\u001b[1;32m   1079\u001b[0m     \u001b[0;32mdef\u001b[0m \u001b[0mSummarizeRun\u001b[0m\u001b[0;34m(\u001b[0m\u001b[0mself\u001b[0m\u001b[0;34m)\u001b[0m\u001b[0;34m:\u001b[0m\u001b[0;34m\u001b[0m\u001b[0m\n",
      "\u001b[0;31mSherpaException\u001b[0m: \u001b[1mSherpa: \u001b[0m\u001b[34mInitialization_Handler::InitializeTheModel\u001b[0m throws \u001b[1m\u001b[31mmissing module\u001b[0m\u001b[1m: \n   \u001b[0m\u001b[31mCannot load model library SherpaSM.\u001b[0m"
     ]
    }
   ],
   "source": [
    "eeqq2g = densities.ee_qq_ng(100., 2, 5., .3)"
   ]
  },
  {
   "cell_type": "code",
   "execution_count": null,
   "metadata": {},
   "outputs": [],
   "source": [
    "rambo_mapping = phase_space.RamboOnDiet(100., 4)\n",
    "mapped = phase_space.MappedDensity(eeqq2g, rambo_mapping)"
   ]
  },
  {
   "cell_type": "code",
   "execution_count": null,
   "metadata": {},
   "outputs": [],
   "source": [
    "%%time\n",
    "sarge_sample = ImportanceMC(sarge)(eeqq2g.pdf, 10000)\n",
    "print(sarge_sample.integral, sarge_sample.integral_err)"
   ]
  },
  {
   "cell_type": "code",
   "execution_count": null,
   "metadata": {},
   "outputs": [],
   "source": [
    "#ys = eeqq2g.pdf(sarge_sample.data)\n",
    "#ratio = ys*sarge_sample.weights\n",
    "#sarge_sample.weights = ys/sarge_sample.weights\n",
    "write_events(100., sarge_sample, \"../samples/qcd/2-4/sarge_weighted.hepmc\")"
   ]
  },
  {
   "cell_type": "code",
   "execution_count": null,
   "metadata": {},
   "outputs": [],
   "source": [
    "np.count_nonzero(sarge_sample.weights)"
   ]
  },
  {
   "cell_type": "code",
   "execution_count": null,
   "metadata": {},
   "outputs": [],
   "source": [
    "bound = sarge_sample.weights.max()"
   ]
  },
  {
   "cell_type": "code",
   "execution_count": null,
   "metadata": {},
   "outputs": [],
   "source": [
    "%%time\n",
    "# acceptance-rejection sampler\n",
    "sarge_sample_unweighted = np.empty((1000, 16))\n",
    "for i in range(1000):\n",
    "    aprob = 0\n",
    "    while np.random.random() > aprob:\n",
    "        proposal = sarge.proposal()\n",
    "        f = eeqq2g.pdf(proposal)\n",
    "        g = sarge.proposal_pdf(None, proposal)\n",
    "        aprob = f/(bound*g)\n",
    "        if aprob > 1:\n",
    "            print(\"bound too low\")\n",
    "    sarge_sample_unweighted[i] = proposal\n",
    "sarge_sample_unweighted = Sample(data=sarge_sample_unweighted, weights=np.full(1000, 1./1000))"
   ]
  },
  {
   "cell_type": "code",
   "execution_count": null,
   "metadata": {},
   "outputs": [],
   "source": [
    "write_events(100., sarge_sample_unweighted, \"../samples/qcd/2-4/sarge_unweighted.hepmc\")"
   ]
  },
  {
   "cell_type": "code",
   "execution_count": null,
   "metadata": {},
   "outputs": [],
   "source": [
    "rambo_sample = PlainMC(8)(mapped, 10000)\n",
    "rambo_sample.integral, rambo_sample.integral_err"
   ]
  },
  {
   "cell_type": "code",
   "execution_count": null,
   "metadata": {},
   "outputs": [],
   "source": [
    "ys = mapped.pdf(rambo_sample.data)\n",
    "max_y = ys.max()"
   ]
  },
  {
   "cell_type": "code",
   "execution_count": null,
   "metadata": {},
   "outputs": [],
   "source": [
    "%%time\n",
    "rambo = AcceptRejectSampler(mapped, max_y, 8)\n",
    "rambo_sample = rambo.sample(1000)"
   ]
  },
  {
   "cell_type": "code",
   "execution_count": null,
   "metadata": {},
   "outputs": [],
   "source": [
    "rambo_sample.data = rambo_mapping.map(rambo_sample.data)\n",
    "rambo_sample.weights = np.full(rambo_sample.size, 1./rambo_sample.size)"
   ]
  },
  {
   "cell_type": "code",
   "execution_count": null,
   "metadata": {},
   "outputs": [],
   "source": [
    "write_events(100., rambo_sample, \"../samples/qcd/2-4/rambo.hepmc\")"
   ]
  },
  {
   "cell_type": "code",
   "execution_count": null,
   "metadata": {},
   "outputs": [],
   "source": [
    "# just a local sampler (rambo)\n",
    "met = DefaultMetropolis(8, mapped, proposals.Gaussian(8, .01))\n",
    "%time met_sample = met.sample(100000, np.random.rand(8))"
   ]
  },
  {
   "cell_type": "code",
   "execution_count": null,
   "metadata": {},
   "outputs": [],
   "source": [
    "met_sample.data = rambo_mapping.map(met_sample.data)\n",
    "met_sample.weights = np.full(met_sample.size, 1./met_sample.size)\n",
    "write_events(100., met_sample, \"../samples/qcd/2-4/metropolis.hepmc\")"
   ]
  },
  {
   "cell_type": "code",
   "execution_count": null,
   "metadata": {},
   "outputs": [],
   "source": [
    "# now sarge + local in MC3\n",
    "importance = DefaultMetropolis(4 * 4, eeqq2g, proposal=sarge)  # using sarge, full momentum sample space\n",
    "local = DefaultMetropolis(8, mapped, proposals.Gaussian(8, .01))  # using rambo, rambo sample space\n",
    "update = MixingMarkovUpdate(8, [importance, local], target=mapped,\n",
    "                            out_maps={0: rambo_mapping.map_inverse},\n",
    "                            in_maps={0: rambo_mapping.map}) # rambo sample space, important to set target explicitly\n",
    "%time mc3_sample = update.sample(100000, np.random.rand(8))"
   ]
  },
  {
   "cell_type": "code",
   "execution_count": null,
   "metadata": {},
   "outputs": [],
   "source": [
    "mc3_sample.data = rambo_mapping.map(mc3_sample.data)\n",
    "mc3_sample.weights = np.full(mc3_sample.size, 1./mc3_sample.size)\n",
    "write_events(100., mc3_sample, \"../samples/qcd/2-4/mc3.hepmc\")"
   ]
  },
  {
   "cell_type": "code",
   "execution_count": null,
   "metadata": {},
   "outputs": [],
   "source": []
  }
 ],
 "metadata": {
  "kernelspec": {
   "display_name": "hepmc",
   "language": "python",
   "name": "hepmc"
  },
  "language_info": {
   "codemirror_mode": {
    "name": "ipython",
    "version": 3
   },
   "file_extension": ".py",
   "mimetype": "text/x-python",
   "name": "python",
   "nbconvert_exporter": "python",
   "pygments_lexer": "ipython3",
   "version": "3.6.6"
  }
 },
 "nbformat": 4,
 "nbformat_minor": 2
}
