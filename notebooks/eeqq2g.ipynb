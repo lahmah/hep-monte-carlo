{
 "cells": [
  {
   "cell_type": "code",
   "execution_count": 1,
   "metadata": {},
   "outputs": [],
   "source": [
    "from hepmc import *\n",
    "import numpy as np"
   ]
  },
  {
   "cell_type": "code",
   "execution_count": 2,
   "metadata": {},
   "outputs": [],
   "source": [
    "sarge = densities.Sarge(2, 4, 100.)"
   ]
  },
  {
   "cell_type": "code",
   "execution_count": 3,
   "metadata": {
    "scrolled": true
   },
   "outputs": [],
   "source": [
    "eeqq2g = densities.ee_qq_ng(2, 100., 5., .3)"
   ]
  },
  {
   "cell_type": "code",
   "execution_count": 4,
   "metadata": {},
   "outputs": [],
   "source": [
    "rambo_mapping = phase_space.RamboOnDiet(100., 4)\n",
    "mapped = phase_space.MappedDensity(eeqq2g, rambo_mapping)"
   ]
  },
  {
   "cell_type": "code",
   "execution_count": 5,
   "metadata": {},
   "outputs": [
    {
     "name": "stdout",
     "output_type": "stream",
     "text": [
      "Event 1\t(avg. trials per event: 3.000000)\n",
      "Event 2\t(avg. trials per event: 4.500000)\tXS = 138.157353 pb +- ( 64.012365 pb = 46.332941 %)\n",
      "Event 3\t(avg. trials per event: 7.333333)\tXS = 56.839720 pb +- ( 35.984481 pb = 63.308687 %)\n",
      "Event 4\t(avg. trials per event: 9.250000)\tXS = 44.994276 pb +- ( 20.172624 pb = 44.833756 %)\n",
      "Event 5\t(avg. trials per event: 9.800000)\tXS = 34.144746 pb +- ( 16.935724 pb = 49.599793 %)\n",
      "Event 6\t(avg. trials per event: 8.333333)\tXS = 33.785150 pb +- ( 17.464460 pb = 51.692711 %)\n",
      "Event 7\t(avg. trials per event: 7.714286)\tXS = 32.844012 pb +- ( 16.357571 pb = 49.803816 %)\n",
      "Event 8\t(avg. trials per event: 7.625000)\tXS = 40.988142 pb +- ( 16.297708 pb = 39.762007 %)\n",
      "Event 9\t(avg. trials per event: 9.555556)\tXS = 72.504568 pb +- ( 41.417189 pb = 57.123558 %)\n",
      "Event 10\t(avg. trials per event: 8.900000)\tXS = 72.062570 pb +- ( 40.191448 pb = 55.772987 %)\n",
      "Event 20\t(avg. trials per event: 16.600000)\tXS = 34.064067 pb +- ( 11.896286 pb = 34.923270 %)\n",
      "Event 30\t(avg. trials per event: 16.700000)\tXS = 30.322716 pb +- ( 8.318186 pb = 27.432192 %)\n",
      "Event 40\t(avg. trials per event: 20.675000)\tXS = 21.754061 pb +- ( 5.208281 pb = 23.941651 %)\n",
      "Event 50\t(avg. trials per event: 23.620000)\tXS = 26.788140 pb +- ( 7.167587 pb = 26.756570 %)\n",
      "Event 60\t(avg. trials per event: 24.633333)\tXS = 26.878177 pb +- ( 6.448123 pb = 23.990181 %)\n",
      "Event 70\t(avg. trials per event: 23.928571)\tXS = 27.285634 pb +- ( 5.822118 pb = 21.337668 %)\n",
      "Event 80\t(avg. trials per event: 22.550000)\tXS = 28.501495 pb +- ( 5.525529 pb = 19.386803 %)\n",
      "Event 90\t(avg. trials per event: 22.188889)\tXS = 27.091191 pb +- ( 5.052488 pb = 18.649929 %)\n",
      "Event 100\t(avg. trials per event: 22.610000)\tXS = 26.276119 pb +- ( 4.510506 pb = 17.165801 %)\n",
      "Event 200\t(avg. trials per event: 21.920000)\tXS = 26.359863 pb +- ( 3.339880 pb = 12.670325 %)\n",
      "Event 300\t(avg. trials per event: 22.830000)\tXS = 24.483643 pb +- ( 2.486233 pb = 10.154670 %)\n",
      "Event 400\t(avg. trials per event: 23.337500)\tXS = 23.900810 pb +- ( 1.999461 pb = 8.365663 %)\n",
      "Event 500\t(avg. trials per event: 23.556000)\tXS = 25.522169 pb +- ( 2.053448 pb = 8.045743 %)\n",
      "Event 600\t(avg. trials per event: 23.756667)\tXS = 25.273843 pb +- ( 1.927222 pb = 7.625361 %)\n",
      "Event 700\t(avg. trials per event: 24.074286)\tXS = 25.442084 pb +- ( 1.968754 pb = 7.738178 %)\n",
      "Event 800\t(avg. trials per event: 24.386250)\tXS = 24.806045 pb +- ( 1.776468 pb = 7.161433 %)\n",
      "Event 900\t(avg. trials per event: 24.500000)\tXS = 26.166750 pb +- ( 1.968993 pb = 7.524791 %)\n",
      "Event 1000\t(avg. trials per event: 24.509000)\tXS = 25.615701 pb +- ( 1.819220 pb = 7.101974 %)\n",
      "Event 2000\t(avg. trials per event: 24.666000)\tXS = 30.747500 pb +- ( 3.743388 pb = 12.174610 %)\n",
      "Event 3000\t(avg. trials per event: 24.289333)\tXS = 34.788971 pb +- ( 3.641344 pb = 10.466949 %)\n",
      "Event 4000\t(avg. trials per event: 24.221750)\tXS = 32.914211 pb +- ( 2.786554 pb = 8.466111 %)\n",
      "Event 5000\t(avg. trials per event: 24.136200)\tXS = 32.197388 pb +- ( 2.321320 pb = 7.209652 %)\n",
      "Event 6000\t(avg. trials per event: 24.022833)\tXS = 31.369388 pb +- ( 1.964608 pb = 6.262818 %)\n",
      "Event 7000\t(avg. trials per event: 23.910429)\tXS = 31.228908 pb +- ( 1.762981 pb = 5.645350 %)\n",
      "Event 8000\t(avg. trials per event: 23.882750)\tXS = 31.007611 pb +- ( 1.585162 pb = 5.112170 %)\n",
      "Event 9000\t(avg. trials per event: 23.899000)\tXS = 32.235026 pb +- ( 2.196565 pb = 6.814219 %)\n",
      "Event 10000\t(avg. trials per event: 23.925400)\tXS = 31.715418 pb +- ( 1.991018 pb = 6.277759 %)\n",
      "CPU times: user 3min 19s, sys: 36.4 ms, total: 3min 19s\n",
      "Wall time: 3min 19s\n"
     ]
    }
   ],
   "source": [
    "%time sarge_sample = ImportanceMC(sarge)(eeqq2g.pdf, 10000)"
   ]
  },
  {
   "cell_type": "code",
   "execution_count": null,
   "metadata": {},
   "outputs": [],
   "source": [
    "densities.export_hepmc(100., sarge_sample, \"../samples/qcd/2-4/sarge_weighted.hepmc\")"
   ]
  },
  {
   "cell_type": "code",
   "execution_count": null,
   "metadata": {},
   "outputs": [],
   "source": [
    "bound = sarge_sample.weights.max()"
   ]
  },
  {
   "cell_type": "code",
   "execution_count": null,
   "metadata": {},
   "outputs": [],
   "source": [
    "%%time\n",
    "# acceptance-rejection sampler\n",
    "sarge_sample_unweighted = np.empty((1000, 16))\n",
    "for i in range(1000):\n",
    "    aprob = 0\n",
    "    while np.random.random() > aprob:\n",
    "        proposal = sarge.proposal()\n",
    "        f = eeqq2g.pdf(proposal)\n",
    "        g = sarge.proposal_pdf(None, proposal)\n",
    "        aprob = f/(bound*g)\n",
    "        if aprob > 1:\n",
    "            print(\"bound too low\")\n",
    "    sarge_sample_unweighted[i] = proposal\n",
    "sarge_sample_unweighted = Sample(data=sarge_sample_unweighted, weights=np.full(1000, 1./1000))"
   ]
  },
  {
   "cell_type": "code",
   "execution_count": null,
   "metadata": {},
   "outputs": [],
   "source": [
    "densities.export_hepmc(100., sarge_sample_unweighted, \"../samples/qcd/2-4/sarge_unweighted.hepmc\")"
   ]
  },
  {
   "cell_type": "code",
   "execution_count": null,
   "metadata": {},
   "outputs": [],
   "source": [
    "rambo_sample = PlainMC(8)(mapped, 10000)\n",
    "rambo_sample.integral, rambo_sample.integral_err"
   ]
  },
  {
   "cell_type": "code",
   "execution_count": null,
   "metadata": {},
   "outputs": [],
   "source": [
    "ys = mapped.pdf(rambo_sample.data)\n",
    "max_y = ys.max()"
   ]
  },
  {
   "cell_type": "code",
   "execution_count": null,
   "metadata": {},
   "outputs": [],
   "source": [
    "rambo = AcceptRejectSampler(mapped, max_y, 8)\n",
    "%time rambo_sample = rambo.sample(1000)"
   ]
  },
  {
   "cell_type": "code",
   "execution_count": null,
   "metadata": {},
   "outputs": [],
   "source": [
    "rambo_sample.data = rambo_mapping.map(rambo_sample.data)\n",
    "rambo_sample.weights = np.full(rambo_sample.size, 1./rambo_sample.size)"
   ]
  },
  {
   "cell_type": "code",
   "execution_count": null,
   "metadata": {},
   "outputs": [],
   "source": [
    "densities.export_hepmc(100., rambo_sample, \"../samples/qcd/2-4/rambo.hepmc\")"
   ]
  },
  {
   "cell_type": "code",
   "execution_count": null,
   "metadata": {},
   "outputs": [],
   "source": [
    "# just a local sampler (rambo)\n",
    "met = DefaultMetropolis(8, mapped, proposals.Gaussian(8, .01))\n",
    "%time met_sample = met.sample(100000, np.random.rand(8))"
   ]
  },
  {
   "cell_type": "code",
   "execution_count": null,
   "metadata": {},
   "outputs": [],
   "source": [
    "met_sample.data = rambo_mapping.map(met_sample.data)\n",
    "met_sample.weights = np.full(met_sample.size, 1./met_sample.size)\n",
    "densities.export_hepmc(100., met_sample, \"../samples/qcd/2-4/metropolis.hepmc\")"
   ]
  },
  {
   "cell_type": "code",
   "execution_count": null,
   "metadata": {},
   "outputs": [],
   "source": [
    "# now sarge + local in MC3\n",
    "importance = DefaultMetropolis(4 * 4, eeqq2g, proposal=sarge)  # using sarge, full momentum sample space\n",
    "local = DefaultMetropolis(8, mapped, proposals.Gaussian(8, .01))  # using rambo, rambo sample space\n",
    "update = MixingMarkovUpdate(8, [importance, local], target=mapped,\n",
    "                            out_maps={0: rambo_mapping.map_inverse},\n",
    "                            in_maps={0: rambo_mapping.map}) # rambo sample space, important to set target explicitly\n",
    "%time mc3_sample = update.sample(100000, np.random.rand(8))"
   ]
  },
  {
   "cell_type": "code",
   "execution_count": null,
   "metadata": {},
   "outputs": [],
   "source": [
    "mc3_sample.data = rambo_mapping.map(mc3_sample.data)\n",
    "mc3_sample.weights = np.full(mc3_sample.size, 1./mc3_sample.size)\n",
    "densities.export_hepmc(100., mc3_sample, \"../samples/qcd/2-4/mc3.hepmc\")"
   ]
  }
 ],
 "metadata": {
  "kernelspec": {
   "display_name": "hepmc",
   "language": "python",
   "name": "hepmc"
  },
  "language_info": {
   "codemirror_mode": {
    "name": "ipython",
    "version": 3
   },
   "file_extension": ".py",
   "mimetype": "text/x-python",
   "name": "python",
   "nbconvert_exporter": "python",
   "pygments_lexer": "ipython3",
   "version": "3.7.0"
  }
 },
 "nbformat": 4,
 "nbformat_minor": 2
}
