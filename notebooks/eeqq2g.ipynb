{
 "cells": [
  {
   "cell_type": "code",
   "execution_count": null,
   "metadata": {},
   "outputs": [],
   "source": [
    "from hepmc import *\n",
    "import numpy as np"
   ]
  },
  {
   "cell_type": "code",
   "execution_count": null,
   "metadata": {},
   "outputs": [],
   "source": [
    "sarge = densities.Sarge(2, 4, 100.)"
   ]
  },
  {
   "cell_type": "code",
   "execution_count": null,
   "metadata": {},
   "outputs": [],
   "source": [
    "eeqq2g = densities.ee_qq_ng(2, 100., 5., .3)"
   ]
  },
  {
   "cell_type": "code",
   "execution_count": null,
   "metadata": {},
   "outputs": [],
   "source": [
    "rambo_mapping = phase_space.RamboOnDiet(100., 4)\n",
    "mapped = phase_space.MappedDensity(eeqq2g, rambo_mapping)"
   ]
  },
  {
   "cell_type": "code",
   "execution_count": null,
   "metadata": {},
   "outputs": [],
   "source": [
    "%time sarge_sample = ImportanceMC(sarge)(eeqq2g.pdf, 10000)"
   ]
  },
  {
   "cell_type": "code",
   "execution_count": null,
   "metadata": {},
   "outputs": [],
   "source": [
    "densities.export_hepmc(100., sarge_sample, \"../samples/qcd/2-4/sarge_weighted.hepmc\")"
   ]
  },
  {
   "cell_type": "code",
   "execution_count": null,
   "metadata": {},
   "outputs": [],
   "source": [
    "bound = sarge_sample.weights.max()"
   ]
  },
  {
   "cell_type": "code",
   "execution_count": null,
   "metadata": {},
   "outputs": [],
   "source": [
    "%%time\n",
    "# acceptance-rejection sampler\n",
    "sarge_sample_unweighted = np.empty((1000, 16))\n",
    "for i in range(1000):\n",
    "    aprob = 0\n",
    "    while np.random.random() > aprob:\n",
    "        proposal = sarge.proposal()\n",
    "        f = eeqq2g.pdf(proposal)\n",
    "        g = sarge.proposal_pdf(None, proposal)\n",
    "        aprob = f/(bound*g)\n",
    "        if aprob > 1:\n",
    "            print(\"bound too low\")\n",
    "    sarge_sample_unweighted[i] = proposal\n",
    "sarge_sample_unweighted = Sample(data=sarge_sample_unweighted, weights=np.full(1000, 1./1000))"
   ]
  },
  {
   "cell_type": "code",
   "execution_count": null,
   "metadata": {},
   "outputs": [],
   "source": [
    "densities.export_hepmc(100., sarge_sample_unweighted, \"../samples/qcd/2-4/sarge_unweighted.hepmc\")"
   ]
  },
  {
   "cell_type": "code",
   "execution_count": null,
   "metadata": {},
   "outputs": [],
   "source": [
    "rambo_sample = PlainMC(8)(mapped, 10000)\n",
    "rambo_sample.integral, rambo_sample.integral_err"
   ]
  },
  {
   "cell_type": "code",
   "execution_count": null,
   "metadata": {},
   "outputs": [],
   "source": [
    "ys = mapped.pdf(rambo_sample.data)\n",
    "max_y = ys.max()"
   ]
  },
  {
   "cell_type": "code",
   "execution_count": null,
   "metadata": {},
   "outputs": [],
   "source": [
    "rambo = AcceptRejectSampler(mapped, max_y, 8)\n",
    "%time rambo_sample = rambo.sample(1000)"
   ]
  },
  {
   "cell_type": "code",
   "execution_count": null,
   "metadata": {},
   "outputs": [],
   "source": [
    "rambo_sample.data = rambo_mapping.map(rambo_sample.data)\n",
    "rambo_sample.weights = np.full(rambo_sample.size, 1./rambo_sample.size)"
   ]
  },
  {
   "cell_type": "code",
   "execution_count": null,
   "metadata": {},
   "outputs": [],
   "source": [
    "densities.export_hepmc(100., rambo_sample, \"../samples/qcd/2-4/rambo.hepmc\")"
   ]
  },
  {
   "cell_type": "code",
   "execution_count": null,
   "metadata": {},
   "outputs": [],
   "source": [
    "# just a local sampler (rambo)\n",
    "met = DefaultMetropolis(8, mapped, proposals.Gaussian(8, .01))\n",
    "%time met_sample = met.sample(10000, np.random.rand(8))"
   ]
  },
  {
   "cell_type": "code",
   "execution_count": null,
   "metadata": {},
   "outputs": [],
   "source": [
    "met_sample.data = rambo_mapping.map(met_sample.data)\n",
    "met_sample.weights = np.full(met_sample.size, 1./met_sample.size)\n",
    "densities.export_hepmc(100., met_sample, \"../samples/qcd/2-4/metropolis.hepmc\")"
   ]
  },
  {
   "cell_type": "code",
   "execution_count": null,
   "metadata": {},
   "outputs": [],
   "source": [
    "# now sarge + local in MC3\n",
    "importance = DefaultMetropolis(4 * 4, eeqq2g, proposal=sarge)  # using sarge, full momentum sample space\n",
    "local = DefaultMetropolis(8, mapped, proposals.Gaussian(8, .01))  # using rambo, rambo sample space\n",
    "update = MixingMarkovUpdate(8, [importance, local], target=mapped,\n",
    "                            out_maps={0: rambo_mapping.map_inverse},\n",
    "                            in_maps={0: rambo_mapping.map}) # rambo sample space, important to set target explicitly\n",
    "%time mc3_sample = update.sample(10000, np.random.rand(8))"
   ]
  },
  {
   "cell_type": "code",
   "execution_count": null,
   "metadata": {},
   "outputs": [],
   "source": [
    "mc3_sample.data = rambo_mapping.map(mc3_sample.data)\n",
    "mc3_sample.weights = np.full(mc3_sample.size, 1./mc3_sample.size)\n",
    "densities.export_hepmc(100., mc3_sample, \"../samples/qcd/2-4/mc3.hepmc\")"
   ]
  },
  {
   "cell_type": "code",
   "execution_count": null,
   "metadata": {},
   "outputs": [],
   "source": []
  }
 ],
 "metadata": {
  "language_info": {
   "name": "python",
   "pygments_lexer": "ipython3"
  }
 },
 "nbformat": 4,
 "nbformat_minor": 2
}
