{
 "cells": [
  {
   "cell_type": "code",
   "execution_count": null,
   "metadata": {},
   "outputs": [],
   "source": [
    "import numpy as np\n",
    "import matplotlib.pyplot as plt\n",
    "from hepmc import *"
   ]
  },
  {
   "cell_type": "markdown",
   "metadata": {},
   "source": [
    "## Example of Leapforg Algorithm\n",
    "Consider the simple harmonic Hamiltonian\n",
    "$$\n",
    "H = q^2/2 + p^2/2.\n",
    "$$\n",
    "The solution is harmonic oscillation in both space $q$ and momentum $p$.\n",
    "\n"
   ]
  },
  {
   "cell_type": "code",
   "execution_count": null,
   "metadata": {},
   "outputs": [],
   "source": [
    "# H = K(p) + U(q) = p^2/2 + q^2/2\n",
    "# dh_dq = du_dq = q\n",
    "dh_dq = lambda q: q\n",
    "# dh_dp = dk_dp = p\n",
    "dh_dp = lambda p: p\n",
    "\n",
    "leapfrog = hamiltonian.HamiltonLeapfrog(dh_dq, dh_dp, .1, 1)  # one step of size .1\n",
    "def sample_motion(size, q_init, p_init, method):\n",
    "    x = [(q_init, p_init)]\n",
    "    for i in range(size):\n",
    "        x.append(method(*x[-1]))\n",
    "    return np.array(x).transpose()"
   ]
  },
  {
   "cell_type": "code",
   "execution_count": null,
   "metadata": {},
   "outputs": [],
   "source": [
    "plt.figure(figsize=(5*3, 4))\n",
    "\n",
    "plt.subplot(131)\n",
    "leapfrog.step_size = .1\n",
    "leapfrog.steps = 1\n",
    "qs, ps = sample_motion(20, 1., 0., leapfrog)\n",
    "plt.title(\"size=\" + str(leapfrog.step_size) + \", steps=\" + str(leapfrog.steps))\n",
    "plt.plot(qs, ps)\n",
    "plt.xlim(-1.1, 1.1)\n",
    "plt.ylim(-1.1, 1.1)\n",
    "plt.grid(True)\n",
    "\n",
    "plt.subplot(132)\n",
    "leapfrog.step_size = 1.1\n",
    "leapfrog.steps = 1\n",
    "qs, ps = sample_motion(20, 1., 0., leapfrog)\n",
    "plt.title(\"size=\" + str(leapfrog.step_size) + \", steps=\" + str(leapfrog.steps))\n",
    "plt.plot(qs, ps)\n",
    "plt.xlim(-1.1, 1.1)\n",
    "plt.ylim(-1.1, 1.1)\n",
    "plt.grid(True)\n",
    "\n",
    "plt.subplot(133)\n",
    "leapfrog.step_size = .1\n",
    "leapfrog.steps = 10\n",
    "qs, ps = sample_motion(20, 1., 0., leapfrog)\n",
    "plt.title(\"size=\" + str(leapfrog.step_size) + \", steps=\" + str(leapfrog.steps))\n",
    "plt.plot(qs, ps)\n",
    "plt.xlim(-1.1, 1.1)\n",
    "plt.ylim(-1.1, 1.1)\n",
    "plt.grid(True)\n",
    "plt.show()"
   ]
  },
  {
   "cell_type": "markdown",
   "metadata": {},
   "source": [
    "# Hamilton Monte Carlo\n",
    "Have a Hamilton function with kinetic and potential terms:\n",
    "$$\n",
    "H(q, p) = U(q) + K(p)\n",
    "$$\n",
    "\n",
    "In analogy to canonical distribution have\n",
    "$$\n",
    "P(q,p) = \\frac{1}{Z}\\exp(-H(q,p)/T) = \\frac{1}{Z} \\exp(-U(q)/T) \\exp(-K(p)/T) , \n",
    "$$\n",
    "which means q and p are independent. The variable q is the variable of interest, where p are generally introdued to make the method work.\n",
    "The above equation is used to sample q and p, such that q has the desired distribution; for T=1:\n",
    "$$ U(q) = -log(P(q)) + const . $$\n",
    "The distribution of p can theoretically be freely chosen. Common is a quadratic funciton in p (with $p_i$ having variance $m_i$) which leads to a multi variate Gaussian distribution.\n"
   ]
  },
  {
   "cell_type": "code",
   "execution_count": null,
   "metadata": {},
   "outputs": [],
   "source": [
    "# sampling a Gaussian <-> the harmonic potential\n",
    "\n",
    "# standard metropolis algorithm with uniform proposal\n",
    "s=1\n",
    "pdf = lambda x: np.exp(-x**2/2/s**2) / np.sqrt(2 * np.pi * s**2)\n",
    "metrop = DefaultMetropolis(1, pdf, Proposal.make(lambda _: -4*s + 2 * 4 * s *  np.random.rand(), 1))\n",
    "\n",
    "# dh_dq = du_dq = q\n",
    "dh_dq = lambda q: q / s**2\n",
    "\n",
    "# hamilton monte carlo\n",
    "pot = lambda q: -np.log(pdf(q)) # np.abs(q) / 2 - np.log(np.sqrt(2 * np.pi))\n",
    "density = densities.Gaussian(1, scale=1)\n",
    "momentum_dist = densities.Gaussian(1, scale=1)\n",
    "hmcm = hamiltonian.HamiltonianUpdate(density, momentum_dist, steps=10, step_size=1)"
   ]
  },
  {
   "cell_type": "code",
   "execution_count": null,
   "metadata": {},
   "outputs": [],
   "source": [
    "size = 10000\n",
    "bins = 50\n",
    "sample_met = metrop.sample(size, .1, log_every=0)\n",
    "sample_hmc = hmcm.sample(size, .1, log_every=1000)\n",
    "print(\"Metrop acceptance rate: %.4f, Hamilton acceptance rate: %.4f\" % (sample_met.accept_ratio, sample_hmc.accept_ratio))\n",
    "met_chi = util.binwise_chi2(pdf, sample_met.data, bins=bins)\n",
    "hmcm_chi = util.binwise_chi2(pdf, sample_hmc.data, bins=bins)\n",
    "print(\"Metrop chi2: %.4f, Hamiltonian chi2: %.4f\" % (met_chi, hmcm_chi))\n",
    "\n",
    "x = np.linspace(-4*s, 4*s, 1000)\n",
    "plt.figure(figsize=(10, 4))\n",
    "plt.subplot(121)\n",
    "plt.title(\"Metropolis\")\n",
    "plt.hist(sample_met.data, bins=bins, normed=True)\n",
    "plt.plot(x, pdf(x))\n",
    "\n",
    "\n",
    "plt.subplot(122)\n",
    "plt.title(\"Hamiltonian\")\n",
    "plt.hist(sample_hmc.data, bins=bins, normed=True)\n",
    "plt.plot(x, pdf(x))\n",
    "plt.show()"
   ]
  },
  {
   "cell_type": "code",
   "execution_count": null,
   "metadata": {},
   "outputs": [],
   "source": [
    "plt.figure(figsize=(18, 10))\n",
    "plt.plot(sample_hmc.data[-100:])\n",
    "plt.grid()\n",
    "plt.show()"
   ]
  }
 ],
 "metadata": {
  "language_info": {
   "name": "python",
   "pygments_lexer": "ipython3"
  }
 },
 "nbformat": 4,
 "nbformat_minor": 2
}
