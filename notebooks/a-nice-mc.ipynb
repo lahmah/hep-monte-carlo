{
 "cells": [
  {
   "cell_type": "code",
   "execution_count": null,
   "metadata": {},
   "outputs": [],
   "source": [
    "import numpy as np\n",
    "\n",
    "from a_nice_mc.models.discriminator import MLPDiscriminator\n",
    "from a_nice_mc.models.generator import create_nice_network\n",
    "from a_nice_mc.train.wgan_nll import Trainer\n",
    "\n",
    "from hepmc.core.densities.camel import UnconstrainedCamel as Camel"
   ]
  },
  {
   "cell_type": "code",
   "execution_count": null,
   "metadata": {},
   "outputs": [],
   "source": [
    "import tensorflow as tf\n",
    "from a_nice_mc.objectives import Energy\n",
    "from tensorflow.python.framework import ops\n",
    "\n",
    "class Camel3d(Energy):\n",
    "    def __init__(self):\n",
    "        super(Camel3d, self).__init__()\n",
    "        self.name = \"Camel3d\"\n",
    "        self.z = tf.placeholder(tf.float32, [None, 3], name='z')\n",
    "        self.mu_a = np.array(3*[1/3], dtype=np.float32)\n",
    "        self.mu_b = np.array(3*[2/3], dtype=np.float32)\n",
    "        self.stddev = np.array(3*[.1 / np.sqrt(2)], dtype=np.float32)\n",
    "        self.camel = Camel(3)\n",
    "    \n",
    "    def __call__(self, z):\n",
    "        z1 = tf.reshape(tf.slice(z, [0, 0], [-1, 1]), [-1])\n",
    "        z2 = tf.reshape(tf.slice(z, [0, 1], [-1, 1]), [-1])\n",
    "        z3 = tf.reshape(tf.slice(z, [0, 2], [-1, 1]), [-1])\n",
    "        return self.tf_energy(z1, z2, z3)\n",
    "    \n",
    "    # energy as numpy function\n",
    "    def energy(self, z1, z2, z3):\n",
    "        z = np.array([z1, z2, z3]).transpose()\n",
    "        return self.camel.pot(z).astype(np.float32, copy=False)\n",
    "        #return self.camel.pot(z).view('float32')\n",
    "    \n",
    "    # gradient as numpy function\n",
    "    def d_energy(self, z1, z2, z3):\n",
    "        z = np.array([z1, z2, z3]).transpose()\n",
    "        grad = self.camel.pot_gradient(z).astype(np.float32, copy=False)\n",
    "        return grad[:, 0], grad[:, 1], grad[:, 2]\n",
    "        #self.camel.pot_gradient(z).view('float32')\n",
    "    \n",
    "    # energy as tensorflow function\n",
    "    def tf_energy(self, z1, z2, z3, name=None):\n",
    "        with tf.name_scope(name, \"energy\", [z1, z2, z3]) as name:\n",
    "            y = self.py_func(self.energy,\n",
    "                       [z1, z2, z3],\n",
    "                       [tf.float32],\n",
    "                       name=name,\n",
    "                       grad=self.energy_grad)\n",
    "            return y[0]\n",
    "        \n",
    "    # gradient as tensorflow function\n",
    "    def tf_d_energy(self, z1, z2, z3, name=None):\n",
    "        with tf.name_scope(name, \"d_energy\", [z1, z2, z3]) as name:\n",
    "            y = tf.py_func(self.d_energy,\n",
    "                          [z1, z2, z3],\n",
    "                          [tf.float32, tf.float32, tf.float32],\n",
    "                          name=name,\n",
    "                          stateful=False)\n",
    "            return y\n",
    "    \n",
    "    # Define custom py_func which takes also a grad op as argument:\n",
    "    def py_func(self, func, inp, Tout, stateful=True, name=None, grad=None):\n",
    "        # Need to generate a unique name to avoid duplicates:\n",
    "        rnd_name = 'PyFuncGrad' + str(np.random.randint(0, 1E+8))\n",
    "\n",
    "        tf.RegisterGradient(rnd_name)(grad)\n",
    "        g = tf.get_default_graph()\n",
    "        #ith g.gradient_override_map({\"PyFunc\": rnd_name, \"PyFuncStateless\": rnd_name}):\n",
    "        with g.gradient_override_map({\"PyFunc\": rnd_name}):\n",
    "            return tf.py_func(func, inp, Tout, stateful=stateful, name=name)\n",
    "\n",
    "    # Actual gradient:\n",
    "    def energy_grad(self, op, grad):\n",
    "        z1 = op.inputs[0]\n",
    "        z2 = op.inputs[1]\n",
    "        z3 = op.inputs[2]\n",
    "        n_gr = self.tf_d_energy(z1, z2, z3)\n",
    "        return grad * n_gr[0], grad * n_gr[1], grad * n_gr[2]\n",
    "    \n",
    "    @staticmethod\n",
    "    def mean():\n",
    "        return np.array(3*[.5])\n",
    "    \n",
    "    @staticmethod\n",
    "    def std():\n",
    "        return np.array(3*[.181])\n",
    "    \n",
    "    def evaluate(self, zv, path=None):\n",
    "        pass"
   ]
  },
  {
   "cell_type": "code",
   "execution_count": null,
   "metadata": {},
   "outputs": [],
   "source": [
    "energy_fn = Camel3d()"
   ]
  },
  {
   "cell_type": "code",
   "execution_count": null,
   "metadata": {},
   "outputs": [],
   "source": [
    "def noise_sampler(bs):\n",
    "    return np.random.normal(0.0, 1.0, [bs, 3])"
   ]
  },
  {
   "cell_type": "code",
   "execution_count": null,
   "metadata": {},
   "outputs": [],
   "source": [
    "discriminator = MLPDiscriminator([400, 400, 400])\n",
    "generator = create_nice_network(\n",
    "    3, 10,\n",
    "    [\n",
    "        ([400], 'v1', False),\n",
    "        ([400, 400], 'x1', True),\n",
    "        ([400], 'v2', False)\n",
    "    ]\n",
    ")"
   ]
  },
  {
   "cell_type": "code",
   "execution_count": null,
   "metadata": {},
   "outputs": [],
   "source": [
    "trainer = Trainer(generator, energy_fn, discriminator, noise_sampler, b=16, m=4)"
   ]
  },
  {
   "cell_type": "code",
   "execution_count": null,
   "metadata": {},
   "outputs": [],
   "source": [
    "trainer.train(max_iters=1000)"
   ]
  },
  {
   "cell_type": "code",
   "execution_count": null,
   "metadata": {},
   "outputs": [],
   "source": [
    "sample = trainer.sample(batch_size=32, steps=1000)"
   ]
  },
  {
   "cell_type": "code",
   "execution_count": null,
   "metadata": {},
   "outputs": [],
   "source": [
    "import matplotlib.pyplot as plt"
   ]
  },
  {
   "cell_type": "code",
   "execution_count": null,
   "metadata": {},
   "outputs": [],
   "source": [
    "plt.figure()\n",
    "plt.hist2d(sample[0][0][:, 0], sample[0][0][:, 1], range=[[0, 1], [0, 1]], bins=20)\n",
    "plt.show()"
   ]
  },
  {
   "cell_type": "code",
   "execution_count": null,
   "metadata": {},
   "outputs": [],
   "source": [
    "plt.figure()\n",
    "plt.hist2d(sample[0][0][:, 0], sample[0][0][:, 2], range=[[0, 1], [0, 1]], bins=20)\n",
    "plt.show()"
   ]
  },
  {
   "cell_type": "code",
   "execution_count": null,
   "metadata": {},
   "outputs": [],
   "source": [
    "plt.figure()\n",
    "plt.hist2d(sample[0][0][:, 1], sample[0][0][:, 2], range=[[0, 1], [0, 1]], bins=20)\n",
    "plt.show()"
   ]
  }
 ],
 "metadata": {
  "language_info": {
   "name": "python",
   "pygments_lexer": "ipython3"
  }
 },
 "nbformat": 4,
 "nbformat_minor": 2
}
