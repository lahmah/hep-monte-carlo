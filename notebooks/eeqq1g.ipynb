{
 "cells": [
  {
   "cell_type": "code",
   "execution_count": 1,
   "metadata": {},
   "outputs": [],
   "source": [
    "from hepmc import *\n",
    "import numpy as np\n",
    "from itertools import combinations\n",
    "import matplotlib.pyplot as plt\n",
    "%matplotlib notebook"
   ]
  },
  {
   "cell_type": "code",
   "execution_count": 2,
   "metadata": {},
   "outputs": [],
   "source": [
    "def write_events(E_CM, sample, filename):\n",
    "    n_out = int(sample.data.shape[1]/4)\n",
    "    \n",
    "    with open(filename, \"w\") as f:\n",
    "        f.write(\"\\nHepMC::Version 2.06.09\\nHepMC::IO_GenEvent-START_EVENT_LISTING\\n\")\n",
    "        for i in range(sample.size):\n",
    "            # event\n",
    "            # E evt_number no_mpi scale alphq_qcd alpha_qed signal_id barcode_signal_process_vertex no_vertices barcode_particle_1 barcode_particle_2 no_random_state {random_state} no_weights {weights}\n",
    "            f.write(\"E %i -1 0 1.0000000000000000e+00 1.0000000000000000e+00 0 0 1 10001 10002 0 1 %e\\n\" % (i, sample.weights[i]))\n",
    "            \n",
    "            # weights\n",
    "            f.write(\"N 1 \\\"0\\\"\\n\")\n",
    "            \n",
    "            # units\n",
    "            f.write(\"U GEV MM\\n\")\n",
    "            \n",
    "            # vertex\n",
    "            # V barcode id x y z ctau no_incoming no_outgoing no_weights {weights}\n",
    "            f.write(\"V -1 0 0 0 0 0 2 %i 0\\n\" % n_out)\n",
    "            \n",
    "            # incoming particles\n",
    "            # P barcode PDG_id px py pz energy gen_mass status_code pol_theta pol_phi barcode_vertex_incoming no_flow {code_index, code}\n",
    "            f.write(\"P 10001 11 0 0 %e %e 0 4 0 0 -1 0\\n\" % (E_CM/2, E_CM/2))\n",
    "            f.write(\"P 10002 -11 0 0 %e %e 0 4 0 0 -1 0\\n\" % (-E_CM/2, E_CM/2))\n",
    "            \n",
    "            # outgoing particles\n",
    "            for j in range(n_out):\n",
    "                if j == 0:\n",
    "                    pid = 1\n",
    "                elif j == 1:\n",
    "                    pid = -1\n",
    "                else:\n",
    "                    pid = 21\n",
    "                \n",
    "                E = sample.data[i, 4*j]\n",
    "                px = sample.data[i, 4*j+1]\n",
    "                py = sample.data[i, 4*j+2]\n",
    "                pz = sample.data[i, 4*j+3]\n",
    "                f.write(\"P %i %i %e %e %e %e 0 1 0 0 0 0\\n\" % (10003+j, pid, px, py, pz, E))\n",
    "            \n",
    "        f.write(\"HepMC::IO_GenEvent-END_EVENT_LISTING\")"
   ]
  },
  {
   "cell_type": "code",
   "execution_count": 3,
   "metadata": {},
   "outputs": [],
   "source": [
    "sarge = densities.Sarge(2, 3, 100.)"
   ]
  },
  {
   "cell_type": "code",
   "execution_count": 4,
   "metadata": {},
   "outputs": [],
   "source": [
    "eeqqg = densities.ee_qq_1g(100., 5., .3)"
   ]
  },
  {
   "cell_type": "code",
   "execution_count": 5,
   "metadata": {},
   "outputs": [],
   "source": [
    "rambo_mapping = phase_space.RamboOnDiet(100., 3)\n",
    "mapped = phase_space.MappedDensity(eeqqg, rambo_mapping)"
   ]
  },
  {
   "cell_type": "code",
   "execution_count": 21,
   "metadata": {},
   "outputs": [
    {
     "name": "stdout",
     "output_type": "stream",
     "text": [
      "CPU times: user 8.65 s, sys: 9.16 ms, total: 8.66 s\n",
      "Wall time: 8.72 s\n"
     ]
    }
   ],
   "source": [
    "%%time\n",
    "sarge_sample = ImportanceMC(sarge)(eeqqg, 10000)\n",
    "sarge_sample.integral, sarge_sample.integral_err"
   ]
  },
  {
   "cell_type": "code",
   "execution_count": 22,
   "metadata": {},
   "outputs": [],
   "source": [
    "ys = eeqqg.pdf(sarge_sample.data)\n",
    "#ratio = ys*sarge_sample.weights\n",
    "sarge_sample.weights = ys/sarge_sample.weights\n",
    "write_events(100., sarge_sample, \"../samples/qcd/2-3/sarge_weighted.hepmc\")"
   ]
  },
  {
   "cell_type": "code",
   "execution_count": 23,
   "metadata": {},
   "outputs": [],
   "source": [
    "bound = sarge_sample.weights.max()"
   ]
  },
  {
   "cell_type": "code",
   "execution_count": 24,
   "metadata": {},
   "outputs": [
    {
     "name": "stdout",
     "output_type": "stream",
     "text": [
      "bound too low\n",
      "bound too low\n",
      "bound too low\n",
      "bound too low\n",
      "bound too low\n",
      "bound too low\n",
      "bound too low\n",
      "bound too low\n",
      "CPU times: user 4min 16s, sys: 119 ms, total: 4min 16s\n",
      "Wall time: 4min 18s\n"
     ]
    }
   ],
   "source": [
    "%%time\n",
    "# acceptance-rejection sampler\n",
    "sarge_sample_unweighted = np.empty((10000, 12))\n",
    "for i in range(10000):\n",
    "    aprob = 0\n",
    "    while np.random.random() > aprob:\n",
    "        proposal = sarge.proposal()\n",
    "        f = eeqqg.pdf(proposal)\n",
    "        g = sarge.proposal_pdf(None, proposal)\n",
    "        aprob = f/(bound*g)\n",
    "        if aprob > 1:\n",
    "            print(\"bound too low\")\n",
    "    sarge_sample_unweighted[i] = proposal\n",
    "sarge_sample_unweighted = Sample(data=sarge_sample_unweighted, weights=np.full(10000, 1./10000))"
   ]
  },
  {
   "cell_type": "code",
   "execution_count": 25,
   "metadata": {},
   "outputs": [],
   "source": [
    "write_events(100., sarge_sample_unweighted, \"../samples/qcd/2-3/sarge_unweighted.hepmc\")"
   ]
  },
  {
   "cell_type": "code",
   "execution_count": 10,
   "metadata": {},
   "outputs": [
    {
     "data": {
      "text/plain": [
       "(111.80528304517088, 3.540252954412419)"
      ]
     },
     "execution_count": 10,
     "metadata": {},
     "output_type": "execute_result"
    }
   ],
   "source": [
    "rambo_sample = PlainMC(5)(mapped, 10000)\n",
    "rambo_sample.integral, rambo_sample.integral_err"
   ]
  },
  {
   "cell_type": "code",
   "execution_count": 11,
   "metadata": {},
   "outputs": [],
   "source": [
    "ys = mapped.pdf(rambo_sample.data)\n",
    "max_y = ys.max()"
   ]
  },
  {
   "cell_type": "code",
   "execution_count": 12,
   "metadata": {},
   "outputs": [
    {
     "name": "stdout",
     "output_type": "stream",
     "text": [
      "CPU times: user 44.1 s, sys: 0 ns, total: 44.1 s\n",
      "Wall time: 44.1 s\n"
     ]
    }
   ],
   "source": [
    "%%time\n",
    "rambo = AcceptRejectSampler(mapped, max_y, 5)\n",
    "rambo_sample = rambo.sample(1000)"
   ]
  },
  {
   "cell_type": "code",
   "execution_count": 13,
   "metadata": {},
   "outputs": [],
   "source": [
    "rambo_sample.data = rambo_mapping.map(rambo_sample.data)\n",
    "rambo_sample.weights = np.full(rambo_sample.size, 1./rambo_sample.size)"
   ]
  },
  {
   "cell_type": "code",
   "execution_count": 14,
   "metadata": {},
   "outputs": [],
   "source": [
    "write_events(100., rambo_sample, \"../samples/qcd/2-3/rambo.hepmc\")"
   ]
  },
  {
   "cell_type": "code",
   "execution_count": 15,
   "metadata": {},
   "outputs": [
    {
     "name": "stdout",
     "output_type": "stream",
     "text": [
      "Generated 5000 samples.\n",
      "Generated 10000 samples.\n",
      "Generated 15000 samples.\n",
      "Generated 20000 samples.\n",
      "Generated 25000 samples.\n",
      "Generated 30000 samples.\n",
      "Generated 35000 samples.\n",
      "Generated 40000 samples.\n",
      "Generated 45000 samples.\n",
      "Generated 50000 samples.\n",
      "Generated 55000 samples.\n",
      "Generated 60000 samples.\n",
      "Generated 65000 samples.\n",
      "Generated 70000 samples.\n",
      "Generated 75000 samples.\n",
      "Generated 80000 samples.\n",
      "Generated 85000 samples.\n",
      "Generated 90000 samples.\n",
      "Generated 95000 samples.\n",
      "Generated 100000 samples.\n",
      "CPU times: user 2min 4s, sys: 389 µs, total: 2min 4s\n",
      "Wall time: 2min 5s\n"
     ]
    }
   ],
   "source": [
    "# just a local sampler (rambo)\n",
    "met = DefaultMetropolis(5, mapped, proposals.Gaussian(5, .01))\n",
    "%time met_sample = met.sample(100000, np.random.rand(5))"
   ]
  },
  {
   "cell_type": "code",
   "execution_count": 16,
   "metadata": {},
   "outputs": [],
   "source": [
    "met_sample.data = rambo_mapping.map(met_sample.data)\n",
    "met_sample.weights = np.full(met_sample.size, 1./met_sample.size)\n",
    "write_events(100., met_sample, \"../samples/qcd/2-3/metropolis.hepmc\")"
   ]
  },
  {
   "cell_type": "code",
   "execution_count": 17,
   "metadata": {},
   "outputs": [
    {
     "name": "stdout",
     "output_type": "stream",
     "text": [
      "Generated 5000 samples.\n",
      "Generated 10000 samples.\n",
      "Generated 15000 samples.\n",
      "Generated 20000 samples.\n",
      "Generated 25000 samples.\n",
      "Generated 30000 samples.\n",
      "Generated 35000 samples.\n",
      "Generated 40000 samples.\n",
      "Generated 45000 samples.\n",
      "Generated 50000 samples.\n",
      "Generated 55000 samples.\n",
      "Generated 60000 samples.\n",
      "Generated 65000 samples.\n",
      "Generated 70000 samples.\n",
      "Generated 75000 samples.\n",
      "Generated 80000 samples.\n",
      "Generated 85000 samples.\n",
      "Generated 90000 samples.\n",
      "Generated 95000 samples.\n",
      "Generated 100000 samples.\n",
      "CPU times: user 3min 19s, sys: 0 ns, total: 3min 19s\n",
      "Wall time: 3min 20s\n"
     ]
    }
   ],
   "source": [
    "# now sarge + local in MC3\n",
    "importance = DefaultMetropolis(3 * 4, eeqqg, proposal=sarge)  # using sarge, full momentum sample space\n",
    "local = DefaultMetropolis(5, mapped, proposals.Gaussian(5, .01))  # using rambo, rambo sample space\n",
    "update = MixingMarkovUpdate(5, [importance, local], target=mapped,\n",
    "                            out_maps={0: rambo_mapping.map_inverse},\n",
    "                            in_maps={0: rambo_mapping.map}) # rambo sample space, important to set target explicitly\n",
    "%time mc3_sample = update.sample(100000, np.random.rand(5))"
   ]
  },
  {
   "cell_type": "code",
   "execution_count": 18,
   "metadata": {},
   "outputs": [],
   "source": [
    "mc3_sample.data = rambo_mapping.map(mc3_sample.data)\n",
    "mc3_sample.weights = np.full(mc3_sample.size, 1./mc3_sample.size)\n",
    "write_events(100., mc3_sample, \"../samples/qcd/2-3/mc3.hepmc\")"
   ]
  },
  {
   "cell_type": "code",
   "execution_count": null,
   "metadata": {},
   "outputs": [],
   "source": []
  }
 ],
 "metadata": {
  "kernelspec": {
   "display_name": "hepmc",
   "language": "python",
   "name": "hepmc"
  },
  "language_info": {
   "codemirror_mode": {
    "name": "ipython",
    "version": 3
   },
   "file_extension": ".py",
   "mimetype": "text/x-python",
   "name": "python",
   "nbconvert_exporter": "python",
   "pygments_lexer": "ipython3",
   "version": "3.6.6"
  }
 },
 "nbformat": 4,
 "nbformat_minor": 2
}
