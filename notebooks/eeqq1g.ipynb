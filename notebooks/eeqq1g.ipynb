{
 "cells": [
  {
   "cell_type": "code",
   "execution_count": 1,
   "metadata": {},
   "outputs": [],
   "source": [
    "from hepmc import *\n",
    "import numpy as np"
   ]
  },
  {
   "cell_type": "code",
   "execution_count": 2,
   "metadata": {},
   "outputs": [],
   "source": [
    "sarge = densities.Sarge(2, 3, 100.)"
   ]
  },
  {
   "cell_type": "code",
   "execution_count": 3,
   "metadata": {},
   "outputs": [],
   "source": [
    "eeqqg = densities.ee_qq_ng(1, 100., 5., .3)"
   ]
  },
  {
   "cell_type": "code",
   "execution_count": 4,
   "metadata": {},
   "outputs": [],
   "source": [
    "rambo_mapping = phase_space.RamboOnDiet(100., 3)\n",
    "mapped = phase_space.MappedDensity(eeqqg, rambo_mapping)"
   ]
  },
  {
   "cell_type": "code",
   "execution_count": 6,
   "metadata": {},
   "outputs": [
    {
     "name": "stdout",
     "output_type": "stream",
     "text": [
      "Event 1\t(avg. trials per event: 17.000000)\n",
      "Event 2\t(avg. trials per event: 10.500000)\tXS = 75.441630 pb +- ( 24.087213 pb = 31.928278 %)\n",
      "Event 3\t(avg. trials per event: 7.333333)\tXS = 80.513083 pb +- ( 33.956511 pb = 42.175147 %)\n",
      "Event 4\t(avg. trials per event: 6.250000)\tXS = 79.451760 pb +- ( 31.925110 pb = 40.181753 %)\n",
      "Event 5\t(avg. trials per event: 5.200000)\tXS = 104.411172 pb +- ( 31.031021 pb = 29.720020 %)\n",
      "Event 6\t(avg. trials per event: 5.500000)\tXS = 82.464559 pb +- ( 28.947167 pb = 35.102555 %)\n",
      "Event 7\t(avg. trials per event: 4.857143)\tXS = 93.793877 pb +- ( 27.705919 pb = 29.539155 %)\n",
      "Event 8\t(avg. trials per event: 4.375000)\tXS = 114.599612 pb +- ( 28.621722 pb = 24.975409 %)\n",
      "Event 9\t(avg. trials per event: 4.222222)\tXS = 105.971615 pb +- ( 29.108331 pb = 27.468045 %)\n",
      "Event 10\t(avg. trials per event: 3.900000)\tXS = 103.369239 pb +- ( 30.388670 pb = 29.398175 %)\n",
      "Event 20\t(avg. trials per event: 4.200000)\tXS = 69.266250 pb +- ( 16.279061 pb = 23.502155 %)\n",
      "Event 30\t(avg. trials per event: 4.000000)\tXS = 78.423952 pb +- ( 18.803742 pb = 23.977040 %)\n",
      "Event 40\t(avg. trials per event: 4.100000)\tXS = 81.326757 pb +- ( 15.994342 pb = 19.666765 %)\n",
      "Event 50\t(avg. trials per event: 4.340000)\tXS = 83.011610 pb +- ( 14.326605 pb = 17.258555 %)\n",
      "Event 60\t(avg. trials per event: 4.000000)\tXS = 100.137651 pb +- ( 15.817436 pb = 15.795693 %)\n",
      "Event 70\t(avg. trials per event: 3.900000)\tXS = 105.403541 pb +- ( 14.543836 pb = 13.798242 %)\n",
      "Event 80\t(avg. trials per event: 4.212500)\tXS = 102.769491 pb +- ( 13.229857 pb = 12.873331 %)\n",
      "Event 90\t(avg. trials per event: 4.111111)\tXS = 107.314875 pb +- ( 12.470537 pb = 11.620511 %)\n",
      "Event 100\t(avg. trials per event: 3.930000)\tXS = 111.240932 pb +- ( 12.260095 pb = 11.021208 %)\n",
      "Event 200\t(avg. trials per event: 4.465000)\tXS = 103.319152 pb +- ( 7.595258 pb = 7.351259 %)\n",
      "Event 300\t(avg. trials per event: 4.343333)\tXS = 109.390367 pb +- ( 6.830479 pb = 6.244132 %)\n",
      "Event 400\t(avg. trials per event: 4.315000)\tXS = 108.703878 pb +- ( 6.103370 pb = 5.614675 %)\n",
      "Event 500\t(avg. trials per event: 4.144000)\tXS = 114.943421 pb +- ( 5.762846 pb = 5.013637 %)\n",
      "Event 600\t(avg. trials per event: 4.150000)\tXS = 119.901128 pb +- ( 5.389078 pb = 4.494602 %)\n",
      "Event 700\t(avg. trials per event: 4.191429)\tXS = 118.899437 pb +- ( 5.037752 pb = 4.236986 %)\n",
      "Event 800\t(avg. trials per event: 4.246250)\tXS = 114.773041 pb +- ( 4.668477 pb = 4.067573 %)\n",
      "Event 900\t(avg. trials per event: 4.256667)\tXS = 111.332683 pb +- ( 4.323663 pb = 3.883552 %)\n",
      "Event 1000\t(avg. trials per event: 4.310000)\tXS = 109.399836 pb +- ( 4.059955 pb = 3.711116 %)\n",
      "Event 2000\t(avg. trials per event: 4.411000)\tXS = 106.782341 pb +- ( 2.831855 pb = 2.651988 %)\n",
      "Event 3000\t(avg. trials per event: 4.299000)\tXS = 109.581806 pb +- ( 2.384950 pb = 2.176410 %)\n",
      "Event 4000\t(avg. trials per event: 4.291250)\tXS = 108.640038 pb +- ( 2.056573 pb = 1.893016 %)\n",
      "Event 5000\t(avg. trials per event: 4.279800)\tXS = 109.066516 pb +- ( 1.859848 pb = 1.705242 %)\n",
      "Event 6000\t(avg. trials per event: 4.322000)\tXS = 108.643196 pb +- ( 1.694025 pb = 1.559255 %)\n",
      "Event 7000\t(avg. trials per event: 4.328143)\tXS = 108.068641 pb +- ( 1.560204 pb = 1.443716 %)\n",
      "Event 8000\t(avg. trials per event: 4.340875)\tXS = 107.592758 pb +- ( 1.447262 pb = 1.345130 %)\n",
      "Event 9000\t(avg. trials per event: 4.359444)\tXS = 106.896176 pb +- ( 1.349988 pb = 1.262897 %)\n",
      "Event 10000\t(avg. trials per event: 4.362900)\tXS = 107.682950 pb +- ( 1.287168 pb = 1.195331 %)\n",
      "CPU times: user 24.4 s, sys: 36.7 ms, total: 24.4 s\n",
      "Wall time: 24.4 s\n"
     ]
    }
   ],
   "source": [
    "%time sarge_sample = ImportanceMC(sarge)(eeqqg.pdf, 10000)"
   ]
  },
  {
   "cell_type": "code",
   "execution_count": null,
   "metadata": {},
   "outputs": [],
   "source": [
    "densities.export_hepmc(100., sarge_sample, \"../samples/qcd/2-3/sarge_weighted.hepmc\")"
   ]
  },
  {
   "cell_type": "code",
   "execution_count": null,
   "metadata": {},
   "outputs": [],
   "source": [
    "bound = sarge_sample.weights.max()"
   ]
  },
  {
   "cell_type": "code",
   "execution_count": null,
   "metadata": {},
   "outputs": [],
   "source": [
    "%%time\n",
    "# acceptance-rejection sampler\n",
    "sarge_sample_unweighted = np.empty((10000, 12))\n",
    "for i in range(10000):\n",
    "    aprob = 0\n",
    "    while np.random.random() > aprob:\n",
    "        proposal = sarge.proposal()\n",
    "        f = eeqqg.pdf(proposal)\n",
    "        g = sarge.proposal_pdf(None, proposal)\n",
    "        aprob = f/(bound*g)\n",
    "        if aprob > 1:\n",
    "            print(\"bound too low\")\n",
    "    sarge_sample_unweighted[i] = proposal\n",
    "sarge_sample_unweighted = Sample(data=sarge_sample_unweighted, weights=np.full(10000, 1./10000))"
   ]
  },
  {
   "cell_type": "code",
   "execution_count": null,
   "metadata": {},
   "outputs": [],
   "source": [
    "densities.export_hepmc(100., sarge_sample_unweighted, \"../samples/qcd/2-3/sarge_unweighted.hepmc\")"
   ]
  },
  {
   "cell_type": "code",
   "execution_count": null,
   "metadata": {},
   "outputs": [],
   "source": [
    "rambo_sample = PlainMC(5)(mapped, 10000)\n",
    "rambo_sample.integral, rambo_sample.integral_err"
   ]
  },
  {
   "cell_type": "code",
   "execution_count": null,
   "metadata": {},
   "outputs": [],
   "source": [
    "ys = mapped.pdf(rambo_sample.data)\n",
    "max_y = ys.max()"
   ]
  },
  {
   "cell_type": "code",
   "execution_count": null,
   "metadata": {},
   "outputs": [],
   "source": [
    "rambo = AcceptRejectSampler(mapped, max_y, 5)\n",
    "%time rambo_sample = rambo.sample(1000)"
   ]
  },
  {
   "cell_type": "code",
   "execution_count": null,
   "metadata": {},
   "outputs": [],
   "source": [
    "rambo_sample.data = rambo_mapping.map(rambo_sample.data)\n",
    "rambo_sample.weights = np.full(rambo_sample.size, 1./rambo_sample.size)"
   ]
  },
  {
   "cell_type": "code",
   "execution_count": null,
   "metadata": {},
   "outputs": [],
   "source": [
    "densities.export_hepmc(100., rambo_sample, \"../samples/qcd/2-3/rambo.hepmc\")"
   ]
  },
  {
   "cell_type": "code",
   "execution_count": null,
   "metadata": {},
   "outputs": [],
   "source": [
    "# just a local sampler (rambo)\n",
    "met = DefaultMetropolis(5, mapped, proposals.Gaussian(5, .01))\n",
    "%time met_sample = met.sample(100000, np.random.rand(5))"
   ]
  },
  {
   "cell_type": "code",
   "execution_count": null,
   "metadata": {},
   "outputs": [],
   "source": [
    "met_sample.data = rambo_mapping.map(met_sample.data)\n",
    "met_sample.weights = np.full(met_sample.size, 1./met_sample.size)\n",
    "densities.export_hepmc(100., met_sample, \"../samples/qcd/2-3/metropolis.hepmc\")"
   ]
  },
  {
   "cell_type": "code",
   "execution_count": null,
   "metadata": {},
   "outputs": [],
   "source": [
    "# now sarge + local in MC3\n",
    "importance = DefaultMetropolis(3 * 4, eeqqg, proposal=sarge)  # using sarge, full momentum sample space\n",
    "local = DefaultMetropolis(5, mapped, proposals.Gaussian(5, .01))  # using rambo, rambo sample space\n",
    "update = MixingMarkovUpdate(5, [importance, local], target=mapped,\n",
    "                            out_maps={0: rambo_mapping.map_inverse},\n",
    "                            in_maps={0: rambo_mapping.map}) # rambo sample space, important to set target explicitly\n",
    "%time mc3_sample = update.sample(100000, np.random.rand(5))"
   ]
  },
  {
   "cell_type": "code",
   "execution_count": null,
   "metadata": {},
   "outputs": [],
   "source": [
    "mc3_sample.data = rambo_mapping.map(mc3_sample.data)\n",
    "mc3_sample.weights = np.full(mc3_sample.size, 1./mc3_sample.size)\n",
    "densities.export_hepmc(100., mc3_sample, \"../samples/qcd/2-3/mc3.hepmc\")"
   ]
  }
 ],
 "metadata": {
  "kernelspec": {
   "display_name": "hepmc",
   "language": "python",
   "name": "hepmc"
  },
  "language_info": {
   "codemirror_mode": {
    "name": "ipython",
    "version": 3
   },
   "file_extension": ".py",
   "mimetype": "text/x-python",
   "name": "python",
   "nbconvert_exporter": "python",
   "pygments_lexer": "ipython3",
   "version": "3.7.0"
  }
 },
 "nbformat": 4,
 "nbformat_minor": 2
}
