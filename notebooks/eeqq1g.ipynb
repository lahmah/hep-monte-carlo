{
 "cells": [
  {
   "cell_type": "code",
   "execution_count": 1,
   "metadata": {},
   "outputs": [],
   "source": [
    "from hepmc import *\n",
    "import numpy as np"
   ]
  },
  {
   "cell_type": "code",
   "execution_count": 2,
   "metadata": {},
   "outputs": [],
   "source": [
    "sarge = densities.Sarge(2, 3, 100.)"
   ]
  },
  {
   "cell_type": "code",
   "execution_count": 3,
   "metadata": {},
   "outputs": [],
   "source": [
    "eeqqg = densities.ee_qq_ng(1, 100., 5., .3)"
   ]
  },
  {
   "cell_type": "code",
   "execution_count": 4,
   "metadata": {},
   "outputs": [],
   "source": [
    "rambo_mapping = phase_space.RamboOnDiet(100., 3)\n",
    "mapped = phase_space.MappedDensity(eeqqg, rambo_mapping)"
   ]
  },
  {
   "cell_type": "code",
   "execution_count": 12,
   "metadata": {},
   "outputs": [
    {
     "name": "stdout",
     "output_type": "stream",
     "text": [
      "Event 1\t(avg. trials per event: 7.000000)\n",
      "Event 2\t(avg. trials per event: 9.000000)\tXS = 53.387515 pb +- ( 52.416450 pb = 98.181099 %)\n",
      "Event 3\t(avg. trials per event: 6.333333)\tXS = 64.370174 pb +- ( 44.514934 pb = 69.154596 %)\n",
      "Event 4\t(avg. trials per event: 6.250000)\tXS = 136.264755 pb +- ( 77.868765 pb = 57.145198 %)\n",
      "Event 5\t(avg. trials per event: 5.200000)\tXS = 152.033823 pb +- ( 73.441638 pb = 48.306118 %)\n",
      "Event 6\t(avg. trials per event: 4.666667)\tXS = 222.843506 pb +- ( 85.556269 pb = 38.392983 %)\n",
      "Event 7\t(avg. trials per event: 4.714286)\tXS = 220.477589 pb +- ( 71.577951 pb = 32.464955 %)\n",
      "Event 8\t(avg. trials per event: 4.375000)\tXS = 210.845019 pb +- ( 71.945723 pb = 34.122562 %)\n",
      "Event 9\t(avg. trials per event: 4.000000)\tXS = 213.594703 pb +- ( 71.454514 pb = 33.453317 %)\n",
      "Event 10\t(avg. trials per event: 4.600000)\tXS = 167.335788 pb +- ( 58.541066 pb = 34.984188 %)\n",
      "Event 20\t(avg. trials per event: 4.500000)\tXS = 166.022807 pb +- ( 39.758966 pb = 23.947894 %)\n",
      "Event 30\t(avg. trials per event: 4.300000)\tXS = 160.233952 pb +- ( 31.448501 pb = 19.626615 %)\n",
      "Event 40\t(avg. trials per event: 4.125000)\tXS = 162.138063 pb +- ( 27.471801 pb = 16.943462 %)\n",
      "Event 50\t(avg. trials per event: 4.560000)\tXS = 144.778670 pb +- ( 22.296370 pb = 15.400315 %)\n",
      "Event 60\t(avg. trials per event: 4.416667)\tXS = 140.136991 pb +- ( 19.875101 pb = 14.182623 %)\n",
      "Event 70\t(avg. trials per event: 4.271429)\tXS = 146.898561 pb +- ( 19.387980 pb = 13.198210 %)\n",
      "Event 80\t(avg. trials per event: 4.462500)\tXS = 136.586909 pb +- ( 17.075335 pb = 12.501443 %)\n",
      "Event 90\t(avg. trials per event: 4.400000)\tXS = 136.097829 pb +- ( 15.796658 pb = 11.606841 %)\n",
      "Event 100\t(avg. trials per event: 4.320000)\tXS = 133.833109 pb +- ( 14.863926 pb = 11.106314 %)\n",
      "Event 200\t(avg. trials per event: 4.180000)\tXS = 125.087153 pb +- ( 10.184648 pb = 8.142042 %)\n",
      "Event 300\t(avg. trials per event: 4.483333)\tXS = 105.438444 pb +- ( 7.133409 pb = 6.765473 %)\n",
      "Event 400\t(avg. trials per event: 4.325000)\tXS = 110.314114 pb +- ( 6.427073 pb = 5.826157 %)\n",
      "Event 500\t(avg. trials per event: 4.292000)\tXS = 111.630869 pb +- ( 5.826455 pb = 5.219394 %)\n",
      "Event 600\t(avg. trials per event: 4.303333)\tXS = 110.990373 pb +- ( 5.300950 pb = 4.776045 %)\n",
      "Event 700\t(avg. trials per event: 4.305714)\tXS = 111.969300 pb +- ( 4.924288 pb = 4.397891 %)\n",
      "Event 800\t(avg. trials per event: 4.325000)\tXS = 111.685201 pb +- ( 4.567257 pb = 4.089402 %)\n",
      "Event 900\t(avg. trials per event: 4.343333)\tXS = 111.978561 pb +- ( 4.333073 pb = 3.869556 %)\n",
      "Event 1000\t(avg. trials per event: 4.306000)\tXS = 113.410883 pb +- ( 4.203281 pb = 3.706241 %)\n",
      "Event 2000\t(avg. trials per event: 4.233000)\tXS = 116.538403 pb +- ( 3.107643 pb = 2.666626 %)\n",
      "Event 3000\t(avg. trials per event: 4.260333)\tXS = 113.329663 pb +- ( 2.441854 pb = 2.154647 %)\n",
      "Event 4000\t(avg. trials per event: 4.279250)\tXS = 111.778723 pb +- ( 2.109305 pb = 1.887036 %)\n",
      "Event 5000\t(avg. trials per event: 4.319000)\tXS = 109.574131 pb +- ( 1.844187 pb = 1.683050 %)\n",
      "Event 6000\t(avg. trials per event: 4.294167)\tXS = 109.286599 pb +- ( 1.677941 pb = 1.535359 %)\n",
      "Event 7000\t(avg. trials per event: 4.263857)\tXS = 110.566021 pb +- ( 1.570309 pb = 1.420246 %)\n",
      "Event 8000\t(avg. trials per event: 4.282875)\tXS = 110.033216 pb +- ( 1.468964 pb = 1.335019 %)\n",
      "Event 9000\t(avg. trials per event: 4.294333)\tXS = 109.674542 pb +- ( 1.374269 pb = 1.253043 %)\n",
      "Event 10000\t(avg. trials per event: 4.294200)\tXS = 110.012547 pb +- ( 1.309091 pb = 1.189947 %)\n",
      "CPU times: user 33.4 s, sys: 63.8 ms, total: 33.5 s\n",
      "Wall time: 33.7 s\n"
     ]
    }
   ],
   "source": [
    "%time sarge_sample = ImportanceMC(sarge)(eeqqg.pdf, 10000)"
   ]
  },
  {
   "cell_type": "code",
   "execution_count": 13,
   "metadata": {},
   "outputs": [
    {
     "name": "stdout",
     "output_type": "stream",
     "text": [
      "estimated ESS: [10000. 10000. 10000. 10000. 10000. 10000. 10000. 10000. 10000. 10000.\n",
      " 10000. 10000.]\n"
     ]
    }
   ],
   "source": [
    "print('estimated ESS:', util.effective_sample_size(sarge_sample, sarge_sample.mean, sarge_sample.variance))"
   ]
  },
  {
   "cell_type": "code",
   "execution_count": null,
   "metadata": {},
   "outputs": [],
   "source": [
    "densities.export_hepmc(100., sarge_sample, \"../samples/qcd/2-3/sarge_weighted.hepmc\")"
   ]
  },
  {
   "cell_type": "code",
   "execution_count": null,
   "metadata": {},
   "outputs": [],
   "source": [
    "bound = sarge_sample.weights.max()"
   ]
  },
  {
   "cell_type": "code",
   "execution_count": null,
   "metadata": {},
   "outputs": [],
   "source": [
    "%%time\n",
    "# acceptance-rejection sampler\n",
    "sarge_sample_unweighted = np.empty((10000, 12))\n",
    "for i in range(10000):\n",
    "    aprob = 0\n",
    "    while np.random.random() > aprob:\n",
    "        proposal = sarge.proposal()\n",
    "        f = eeqqg.pdf(proposal)\n",
    "        g = sarge.proposal_pdf(None, proposal)\n",
    "        aprob = f/(bound*g)\n",
    "        if aprob > 1:\n",
    "            print(\"bound too low\")\n",
    "    sarge_sample_unweighted[i] = proposal\n",
    "sarge_sample_unweighted = Sample(data=sarge_sample_unweighted, weights=np.full(10000, 1./10000))"
   ]
  },
  {
   "cell_type": "code",
   "execution_count": null,
   "metadata": {},
   "outputs": [],
   "source": [
    "densities.export_hepmc(100., sarge_sample_unweighted, \"../samples/qcd/2-3/sarge_unweighted.hepmc\")"
   ]
  },
  {
   "cell_type": "code",
   "execution_count": null,
   "metadata": {},
   "outputs": [],
   "source": [
    "rambo_sample = PlainMC(5)(mapped, 10000)\n",
    "rambo_sample.integral, rambo_sample.integral_err"
   ]
  },
  {
   "cell_type": "code",
   "execution_count": null,
   "metadata": {},
   "outputs": [],
   "source": [
    "ys = mapped.pdf(rambo_sample.data)\n",
    "max_y = ys.max()"
   ]
  },
  {
   "cell_type": "code",
   "execution_count": null,
   "metadata": {},
   "outputs": [],
   "source": [
    "rambo = AcceptRejectSampler(mapped, max_y, 5)\n",
    "%time rambo_sample = rambo.sample(1000)"
   ]
  },
  {
   "cell_type": "code",
   "execution_count": null,
   "metadata": {},
   "outputs": [],
   "source": [
    "rambo_sample.data = rambo_mapping.map(rambo_sample.data)\n",
    "rambo_sample.weights = np.full(rambo_sample.size, 1./rambo_sample.size)"
   ]
  },
  {
   "cell_type": "code",
   "execution_count": null,
   "metadata": {},
   "outputs": [],
   "source": [
    "densities.export_hepmc(100., rambo_sample, \"../samples/qcd/2-3/rambo.hepmc\")"
   ]
  },
  {
   "cell_type": "code",
   "execution_count": 15,
   "metadata": {},
   "outputs": [
    {
     "name": "stdout",
     "output_type": "stream",
     "text": [
      "Event 1\t(batch acceptance rate: 0.000000)\n",
      "Event 2\t(batch acceptance rate: 0.000000)\tmax sequence length: 3\n",
      "Event 3\t(batch acceptance rate: 0.333333)\tmax sequence length: 3\n",
      "Event 4\t(batch acceptance rate: 0.250000)\tmax sequence length: 3\n",
      "Event 5\t(batch acceptance rate: 0.400000)\tmax sequence length: 3\n",
      "Event 6\t(batch acceptance rate: 0.500000)\tmax sequence length: 3\n",
      "Event 7\t(batch acceptance rate: 0.428571)\tmax sequence length: 3\n",
      "Event 8\t(batch acceptance rate: 0.375000)\tmax sequence length: 3\n",
      "Event 9\t(batch acceptance rate: 0.333333)\tmax sequence length: 4\n",
      "Event 10\t(batch acceptance rate: 0.300000)\tmax sequence length: 5\n",
      "Event 20\t(batch acceptance rate: 0.200000)\tmax sequence length: 10\n",
      "Event 30\t(batch acceptance rate: 0.133333)\tmax sequence length: 15\n",
      "Event 40\t(batch acceptance rate: 0.125000)\tmax sequence length: 17\n",
      "Event 50\t(batch acceptance rate: 0.220000)\tmax sequence length: 17\n",
      "Event 60\t(batch acceptance rate: 0.200000)\tmax sequence length: 17\n",
      "Event 70\t(batch acceptance rate: 0.271429)\tmax sequence length: 17\n",
      "Event 80\t(batch acceptance rate: 0.312500)\tmax sequence length: 17\n",
      "Event 90\t(batch acceptance rate: 0.277778)\tmax sequence length: 17\n",
      "Event 100\t(batch acceptance rate: 0.280000)\tmax sequence length: 17\n",
      "Event 200\t(batch acceptance rate: 0.320000)\tmax sequence length: 17\n",
      "Event 300\t(batch acceptance rate: 0.348000)\tmax sequence length: 17\n",
      "Event 400\t(batch acceptance rate: 0.328000)\tmax sequence length: 17\n",
      "Event 500\t(batch acceptance rate: 0.300000)\tmax sequence length: 17\n",
      "Event 600\t(batch acceptance rate: 0.216000)\tmax sequence length: 23\n",
      "Event 700\t(batch acceptance rate: 0.308000)\tmax sequence length: 23\n",
      "Event 800\t(batch acceptance rate: 0.300000)\tmax sequence length: 33\n",
      "Event 900\t(batch acceptance rate: 0.252000)\tmax sequence length: 33\n",
      "Event 1000\t(batch acceptance rate: 0.228000)\tmax sequence length: 33\n",
      "Event 2000\t(batch acceptance rate: 0.124000)\tmax sequence length: 64\n",
      "Event 3000\t(batch acceptance rate: 0.260000)\tmax sequence length: 64\n",
      "Event 4000\t(batch acceptance rate: 0.224000)\tmax sequence length: 64\n",
      "Event 1\t(batch acceptance rate: 0.000000)\n",
      "Event 2\t(batch acceptance rate: 0.000000)\tmax sequence length: 3\n",
      "Event 3\t(batch acceptance rate: 0.333333)\tmax sequence length: 3\n",
      "Event 4\t(batch acceptance rate: 0.500000)\tmax sequence length: 3\n",
      "Event 5\t(batch acceptance rate: 0.400000)\tmax sequence length: 3\n",
      "Event 6\t(batch acceptance rate: 0.333333)\tmax sequence length: 3\n",
      "Event 7\t(batch acceptance rate: 0.428571)\tmax sequence length: 3\n",
      "Event 8\t(batch acceptance rate: 0.500000)\tmax sequence length: 3\n",
      "Event 9\t(batch acceptance rate: 0.555556)\tmax sequence length: 3\n",
      "Event 10\t(batch acceptance rate: 0.500000)\tmax sequence length: 3\n",
      "Event 20\t(batch acceptance rate: 0.500000)\tmax sequence length: 4\n",
      "Event 30\t(batch acceptance rate: 0.533333)\tmax sequence length: 4\n",
      "Event 40\t(batch acceptance rate: 0.600000)\tmax sequence length: 4\n",
      "Event 50\t(batch acceptance rate: 0.600000)\tmax sequence length: 5\n",
      "Event 60\t(batch acceptance rate: 0.583333)\tmax sequence length: 5\n",
      "Event 70\t(batch acceptance rate: 0.600000)\tmax sequence length: 5\n",
      "Event 80\t(batch acceptance rate: 0.625000)\tmax sequence length: 5\n",
      "Event 90\t(batch acceptance rate: 0.577778)\tmax sequence length: 8\n",
      "Event 100\t(batch acceptance rate: 0.540000)\tmax sequence length: 8\n",
      "Event 200\t(batch acceptance rate: 0.405000)\tmax sequence length: 22\n",
      "Event 300\t(batch acceptance rate: 0.340000)\tmax sequence length: 28\n",
      "Event 400\t(batch acceptance rate: 0.282500)\tmax sequence length: 44\n",
      "Event 500\t(batch acceptance rate: 0.266000)\tmax sequence length: 44\n",
      "Event 600\t(batch acceptance rate: 0.246000)\tmax sequence length: 44\n",
      "Event 700\t(batch acceptance rate: 0.238000)\tmax sequence length: 44\n",
      "Event 800\t(batch acceptance rate: 0.286000)\tmax sequence length: 44\n",
      "Event 900\t(batch acceptance rate: 0.336000)\tmax sequence length: 44\n",
      "Event 1000\t(batch acceptance rate: 0.320000)\tmax sequence length: 44\n",
      "Event 2000\t(batch acceptance rate: 0.210000)\tmax sequence length: 69\n",
      "Event 3000\t(batch acceptance rate: 0.168000)\tmax sequence length: 69\n",
      "Event 4000\t(batch acceptance rate: 0.336000)\tmax sequence length: 69\n",
      "Event 5000\t(batch acceptance rate: 0.244000)\tmax sequence length: 69\n",
      "Event 6000\t(batch acceptance rate: 0.230000)\tmax sequence length: 69\n",
      "Event 7000\t(batch acceptance rate: 0.248000)\tmax sequence length: 69\n",
      "Event 8000\t(batch acceptance rate: 0.224000)\tmax sequence length: 69\n",
      "Event 9000\t(batch acceptance rate: 0.268000)\tmax sequence length: 69\n",
      "CPU times: user 8.3 s, sys: 39.9 ms, total: 8.34 s\n",
      "Wall time: 8.4 s\n"
     ]
    }
   ],
   "source": [
    "# Metropolis with Rambo mapping\n",
    "met = DefaultMetropolis(5, mapped, proposals.Gaussian(5, .01))\n",
    "start = met.sample(5000, np.random.rand(5)).data[-1] # warmup\n",
    "%time met_sample = met.sample(10000, start)"
   ]
  },
  {
   "cell_type": "code",
   "execution_count": 16,
   "metadata": {},
   "outputs": [
    {
     "name": "stdout",
     "output_type": "stream",
     "text": [
      "estimated ESS: [116.51390124  26.54519491  57.09120015  40.30516534  30.44438605]\n"
     ]
    }
   ],
   "source": [
    "print('estimated ESS:', util.effective_sample_size(met_sample, met_sample.mean, met_sample.variance))"
   ]
  },
  {
   "cell_type": "code",
   "execution_count": null,
   "metadata": {},
   "outputs": [],
   "source": [
    "met_sample.data = rambo_mapping.map(met_sample.data)\n",
    "met_sample.weights = np.full(met_sample.size, 1./met_sample.size)\n",
    "densities.export_hepmc(100., met_sample, \"../samples/qcd/2-3/metropolis.hepmc\")"
   ]
  },
  {
   "cell_type": "code",
   "execution_count": 37,
   "metadata": {
    "scrolled": false
   },
   "outputs": [
    {
     "name": "stdout",
     "output_type": "stream",
     "text": [
      "Event 1\t(batch acceptance rate: 1.000000)\n",
      "Event 2\t(batch acceptance rate: 0.500000)\tmax sequence length: 2\n",
      "Event 3\t(batch acceptance rate: 0.666667)\tmax sequence length: 2\n",
      "Event 4\t(batch acceptance rate: 0.500000)\tmax sequence length: 2\n",
      "Event 5\t(batch acceptance rate: 0.400000)\tmax sequence length: 3\n",
      "Event 6\t(batch acceptance rate: 0.333333)\tmax sequence length: 4\n",
      "Event 7\t(batch acceptance rate: 0.285714)\tmax sequence length: 5\n",
      "Event 8\t(batch acceptance rate: 0.375000)\tmax sequence length: 5\n",
      "Event 9\t(batch acceptance rate: 0.444444)\tmax sequence length: 5\n",
      "Event 10\t(batch acceptance rate: 0.400000)\tmax sequence length: 5\n",
      "Event 20\t(batch acceptance rate: 0.300000)\tmax sequence length: 7\n",
      "Event 30\t(batch acceptance rate: 0.366667)\tmax sequence length: 7\n",
      "Event 40\t(batch acceptance rate: 0.275000)\tmax sequence length: 14\n",
      "Event 50\t(batch acceptance rate: 0.240000)\tmax sequence length: 15\n",
      "Event 60\t(batch acceptance rate: 0.216667)\tmax sequence length: 15\n",
      "Event 70\t(batch acceptance rate: 0.214286)\tmax sequence length: 16\n",
      "Event 80\t(batch acceptance rate: 0.262500)\tmax sequence length: 16\n",
      "Event 90\t(batch acceptance rate: 0.300000)\tmax sequence length: 16\n",
      "Event 100\t(batch acceptance rate: 0.320000)\tmax sequence length: 16\n",
      "Event 200\t(batch acceptance rate: 0.220000)\tmax sequence length: 35\n",
      "Event 300\t(batch acceptance rate: 0.193333)\tmax sequence length: 35\n",
      "Event 400\t(batch acceptance rate: 0.175000)\tmax sequence length: 36\n",
      "Event 500\t(batch acceptance rate: 0.180000)\tmax sequence length: 36\n",
      "Event 600\t(batch acceptance rate: 0.183333)\tmax sequence length: 36\n",
      "Event 700\t(batch acceptance rate: 0.188571)\tmax sequence length: 36\n",
      "Event 800\t(batch acceptance rate: 0.203750)\tmax sequence length: 36\n",
      "Event 900\t(batch acceptance rate: 0.212222)\tmax sequence length: 36\n",
      "Event 1000\t(batch acceptance rate: 0.226000)\tmax sequence length: 36\n",
      "Event 2000\t(batch acceptance rate: 0.235500)\tmax sequence length: 101\n",
      "Event 3000\t(batch acceptance rate: 0.258667)\tmax sequence length: 101\n",
      "Event 4000\t(batch acceptance rate: 0.243250)\tmax sequence length: 114\n",
      "Event 5000\t(batch acceptance rate: 0.240600)\tmax sequence length: 114\n",
      "Event 6000\t(batch acceptance rate: 0.240000)\tmax sequence length: 114\n",
      "Event 7000\t(batch acceptance rate: 0.244571)\tmax sequence length: 114\n",
      "Event 8000\t(batch acceptance rate: 0.247250)\tmax sequence length: 114\n",
      "Event 9000\t(batch acceptance rate: 0.249556)\tmax sequence length: 114\n",
      "Event 10000\t(batch acceptance rate: 0.255000)\tmax sequence length: 114\n",
      "Event 20000\t(batch acceptance rate: 0.201200)\tmax sequence length: 160\n",
      "Event 30000\t(batch acceptance rate: 0.166333)\tmax sequence length: 204\n",
      "Event 40000\t(batch acceptance rate: 0.145225)\tmax sequence length: 392\n",
      "Event 50000\t(batch acceptance rate: 0.131020)\tmax sequence length: 1067\n",
      "Event 60000\t(batch acceptance rate: 0.106245)\tmax sequence length: 1067\n",
      "Event 70000\t(batch acceptance rate: 0.081491)\tmax sequence length: 1067\n",
      "Event 80000\t(batch acceptance rate: 0.079226)\tmax sequence length: 1067\n",
      "Event 90000\t(batch acceptance rate: 0.077585)\tmax sequence length: 1067\n",
      "Event 100000\t(batch acceptance rate: 0.079208)\tmax sequence length: 1067\n",
      "Event 200000\t(batch acceptance rate: 0.073358)\tmax sequence length: 1067\n",
      "Event 300000\t(batch acceptance rate: 0.071830)\tmax sequence length: 1161\n",
      "Event 400000\t(batch acceptance rate: 0.077302)\tmax sequence length: 1161\n",
      "Event 500000\t(batch acceptance rate: 0.075113)\tmax sequence length: 1495\n",
      "Event 600000\t(batch acceptance rate: 0.073660)\tmax sequence length: 1495\n",
      "Event 700000\t(batch acceptance rate: 0.075868)\tmax sequence length: 1495\n",
      "Event 800000\t(batch acceptance rate: 0.076679)\tmax sequence length: 1495\n",
      "Event 900000\t(batch acceptance rate: 0.075698)\tmax sequence length: 1495\n",
      "Event 1000000\t(batch acceptance rate: 0.069132)\tmax sequence length: 1495\n",
      "CPU times: user 12min 51s, sys: 492 ms, total: 12min 51s\n",
      "Wall time: 12min 57s\n"
     ]
    }
   ],
   "source": [
    "# adaptive Metropolis\n",
    "def adapt_schedule(t):\n",
    "    if t < 50000:\n",
    "        return True\n",
    "    else:\n",
    "        return False\n",
    "    \n",
    "met = AdaptiveMetropolisUpdate(5, mapped, proposals.Gaussian(5, .01), t_initial=10000, adapt_schedule=adapt_schedule)\n",
    "%time met_sample = met.sample(1060000, np.random.rand(5))\n",
    "met_sample.data = met_sample.data[60000:] # discard warmup samples"
   ]
  },
  {
   "cell_type": "code",
   "execution_count": 38,
   "metadata": {},
   "outputs": [],
   "source": [
    "# thin sample\n",
    "met_sample.data = met_sample.data[::100]"
   ]
  },
  {
   "cell_type": "code",
   "execution_count": 39,
   "metadata": {},
   "outputs": [],
   "source": [
    "met_sample.data = rambo_mapping.map(met_sample.data)\n",
    "met_sample.weights = np.full(met_sample.size, 1./met_sample.size)\n",
    "densities.export_hepmc(100., met_sample, \"../samples/qcd/2-3/metropolis.hepmc\")"
   ]
  },
  {
   "cell_type": "code",
   "execution_count": 29,
   "metadata": {
    "scrolled": true
   },
   "outputs": [
    {
     "name": "stdout",
     "output_type": "stream",
     "text": [
      "estimated ESS: [74.73137319 75.05706785 76.53092459 93.0561817  67.43079625]\n"
     ]
    }
   ],
   "source": [
    "print('estimated ESS:', util.effective_sample_size(met_sample, met_sample.mean, met_sample.variance))"
   ]
  },
  {
   "cell_type": "code",
   "execution_count": 33,
   "metadata": {},
   "outputs": [
    {
     "name": "stdout",
     "output_type": "stream",
     "text": [
      "Event 1\t(batch acceptance rate: 1.000000)\n",
      "Event 2\t(batch acceptance rate: 1.000000)\tmax sequence length: 1\n",
      "Event 3\t(batch acceptance rate: 0.666667)\tmax sequence length: 2\n",
      "Event 4\t(batch acceptance rate: 0.500000)\tmax sequence length: 3\n",
      "Event 5\t(batch acceptance rate: 0.400000)\tmax sequence length: 4\n",
      "Event 6\t(batch acceptance rate: 0.333333)\tmax sequence length: 5\n",
      "Event 7\t(batch acceptance rate: 0.285714)\tmax sequence length: 6\n",
      "Event 8\t(batch acceptance rate: 0.250000)\tmax sequence length: 7\n",
      "Event 9\t(batch acceptance rate: 0.222222)\tmax sequence length: 8\n",
      "Event 10\t(batch acceptance rate: 0.200000)\tmax sequence length: 9\n",
      "Event 20\t(batch acceptance rate: 0.100000)\tmax sequence length: 19\n",
      "Event 30\t(batch acceptance rate: 0.066667)\tmax sequence length: 29\n",
      "Event 40\t(batch acceptance rate: 0.050000)\tmax sequence length: 39\n",
      "Event 50\t(batch acceptance rate: 0.060000)\tmax sequence length: 42\n",
      "Event 60\t(batch acceptance rate: 0.050000)\tmax sequence length: 42\n",
      "Event 70\t(batch acceptance rate: 0.042857)\tmax sequence length: 42\n",
      "Event 80\t(batch acceptance rate: 0.037500)\tmax sequence length: 42\n",
      "Event 90\t(batch acceptance rate: 0.033333)\tmax sequence length: 47\n",
      "Event 100\t(batch acceptance rate: 0.040000)\tmax sequence length: 55\n",
      "Event 200\t(batch acceptance rate: 0.030000)\tmax sequence length: 90\n",
      "Event 300\t(batch acceptance rate: 0.020000)\tmax sequence length: 102\n",
      "Event 400\t(batch acceptance rate: 0.015000)\tmax sequence length: 202\n",
      "Event 500\t(batch acceptance rate: 0.012000)\tmax sequence length: 302\n",
      "Event 600\t(batch acceptance rate: 0.010000)\tmax sequence length: 402\n",
      "Event 700\t(batch acceptance rate: 0.008571)\tmax sequence length: 502\n",
      "Event 800\t(batch acceptance rate: 0.007500)\tmax sequence length: 602\n",
      "Event 900\t(batch acceptance rate: 0.002500)\tmax sequence length: 702\n",
      "Event 1000\t(batch acceptance rate: 0.000000)\tmax sequence length: 802\n",
      "Event 2000\t(batch acceptance rate: 0.008750)\tmax sequence length: 1298\n",
      "Event 3000\t(batch acceptance rate: 0.001250)\tmax sequence length: 1298\n",
      "Event 4000\t(batch acceptance rate: 0.012500)\tmax sequence length: 1298\n",
      "Event 5000\t(batch acceptance rate: 0.006250)\tmax sequence length: 1298\n",
      "Event 6000\t(batch acceptance rate: 0.006250)\tmax sequence length: 1298\n",
      "Event 7000\t(batch acceptance rate: 0.006250)\tmax sequence length: 1298\n",
      "Event 8000\t(batch acceptance rate: 0.003750)\tmax sequence length: 1298\n",
      "Event 9000\t(batch acceptance rate: 0.013750)\tmax sequence length: 1298\n",
      "Event 10000\t(batch acceptance rate: 0.010000)\tmax sequence length: 1298\n",
      "CPU times: user 10.3 s, sys: 20 ms, total: 10.4 s\n",
      "Wall time: 10.4 s\n"
     ]
    }
   ],
   "source": [
    "# dual averaging Metropolis\n",
    "def adapt_schedule(t):\n",
    "    if t < 5000:\n",
    "        return True\n",
    "    else:\n",
    "        return False\n",
    "    \n",
    "met = StochasticOptimizeUpdate(mapped, proposals.Gaussian(5, .01), adapt_schedule=adapt_schedule)\n",
    "%time met_sample = met.sample(16000, np.random.rand(5))\n",
    "met_sample.data = met_sample.data[6000:] # discard warmup samples"
   ]
  },
  {
   "cell_type": "code",
   "execution_count": 34,
   "metadata": {},
   "outputs": [
    {
     "name": "stdout",
     "output_type": "stream",
     "text": [
      "estimated ESS: [48.03335895 31.05819789 38.86241072 50.05685336 46.85155107]\n"
     ]
    }
   ],
   "source": [
    "print('estimated ESS:', util.effective_sample_size(met_sample, met_sample.mean, met_sample.variance))"
   ]
  },
  {
   "cell_type": "code",
   "execution_count": 17,
   "metadata": {},
   "outputs": [
    {
     "name": "stdout",
     "output_type": "stream",
     "text": [
      "Event 1\t(batch acceptance rate: 1.000000)\n",
      "Event 2\t(batch acceptance rate: 1.000000)\tmax sequence length: 1\n",
      "Event 3\t(batch acceptance rate: 0.666667)\tmax sequence length: 2\n",
      "Event 4\t(batch acceptance rate: 0.750000)\tmax sequence length: 2\n",
      "Event 5\t(batch acceptance rate: 0.600000)\tmax sequence length: 2\n",
      "Event 6\t(batch acceptance rate: 0.666667)\tmax sequence length: 2\n",
      "Event 7\t(batch acceptance rate: 0.714286)\tmax sequence length: 2\n",
      "Event 8\t(batch acceptance rate: 0.750000)\tmax sequence length: 2\n",
      "Event 9\t(batch acceptance rate: 0.777778)\tmax sequence length: 2\n",
      "Event 10\t(batch acceptance rate: 0.800000)\tmax sequence length: 2\n",
      "Event 20\t(batch acceptance rate: 0.650000)\tmax sequence length: 4\n",
      "Event 30\t(batch acceptance rate: 0.500000)\tmax sequence length: 10\n",
      "Event 40\t(batch acceptance rate: 0.425000)\tmax sequence length: 10\n",
      "Event 50\t(batch acceptance rate: 0.420000)\tmax sequence length: 10\n",
      "Event 60\t(batch acceptance rate: 0.483333)\tmax sequence length: 10\n",
      "Event 70\t(batch acceptance rate: 0.528571)\tmax sequence length: 10\n",
      "Event 80\t(batch acceptance rate: 0.512500)\tmax sequence length: 10\n",
      "Event 90\t(batch acceptance rate: 0.533333)\tmax sequence length: 10\n",
      "Event 100\t(batch acceptance rate: 0.550000)\tmax sequence length: 10\n",
      "Event 200\t(batch acceptance rate: 0.510000)\tmax sequence length: 16\n",
      "Event 300\t(batch acceptance rate: 0.568000)\tmax sequence length: 16\n",
      "Event 400\t(batch acceptance rate: 0.548000)\tmax sequence length: 16\n",
      "Event 500\t(batch acceptance rate: 0.548000)\tmax sequence length: 16\n",
      "Event 600\t(batch acceptance rate: 0.560000)\tmax sequence length: 16\n",
      "Event 700\t(batch acceptance rate: 0.644000)\tmax sequence length: 16\n",
      "Event 800\t(batch acceptance rate: 0.680000)\tmax sequence length: 16\n",
      "Event 900\t(batch acceptance rate: 0.632000)\tmax sequence length: 16\n",
      "Event 1000\t(batch acceptance rate: 0.668000)\tmax sequence length: 16\n",
      "Event 2000\t(batch acceptance rate: 0.572000)\tmax sequence length: 34\n",
      "Event 3000\t(batch acceptance rate: 0.520000)\tmax sequence length: 34\n",
      "Event 4000\t(batch acceptance rate: 0.552000)\tmax sequence length: 34\n",
      "Event 1\t(batch acceptance rate: 1.000000)\n",
      "Event 2\t(batch acceptance rate: 1.000000)\tmax sequence length: 1\n",
      "Event 3\t(batch acceptance rate: 1.000000)\tmax sequence length: 1\n",
      "Event 4\t(batch acceptance rate: 1.000000)\tmax sequence length: 1\n",
      "Event 5\t(batch acceptance rate: 1.000000)\tmax sequence length: 1\n",
      "Event 6\t(batch acceptance rate: 1.000000)\tmax sequence length: 1\n",
      "Event 7\t(batch acceptance rate: 1.000000)\tmax sequence length: 1\n",
      "Event 8\t(batch acceptance rate: 1.000000)\tmax sequence length: 1\n",
      "Event 9\t(batch acceptance rate: 1.000000)\tmax sequence length: 1\n",
      "Event 10\t(batch acceptance rate: 0.900000)\tmax sequence length: 2\n",
      "Event 20\t(batch acceptance rate: 0.750000)\tmax sequence length: 3\n",
      "Event 30\t(batch acceptance rate: 0.700000)\tmax sequence length: 3\n",
      "Event 40\t(batch acceptance rate: 0.700000)\tmax sequence length: 3\n",
      "Event 50\t(batch acceptance rate: 0.660000)\tmax sequence length: 4\n",
      "Event 60\t(batch acceptance rate: 0.550000)\tmax sequence length: 12\n",
      "Event 70\t(batch acceptance rate: 0.571429)\tmax sequence length: 12\n",
      "Event 80\t(batch acceptance rate: 0.562500)\tmax sequence length: 12\n",
      "Event 90\t(batch acceptance rate: 0.566667)\tmax sequence length: 12\n",
      "Event 100\t(batch acceptance rate: 0.590000)\tmax sequence length: 12\n",
      "Event 200\t(batch acceptance rate: 0.460000)\tmax sequence length: 39\n",
      "Event 300\t(batch acceptance rate: 0.480000)\tmax sequence length: 39\n",
      "Event 400\t(batch acceptance rate: 0.477500)\tmax sequence length: 39\n",
      "Event 500\t(batch acceptance rate: 0.438000)\tmax sequence length: 73\n",
      "Event 600\t(batch acceptance rate: 0.448000)\tmax sequence length: 73\n",
      "Event 700\t(batch acceptance rate: 0.502000)\tmax sequence length: 73\n",
      "Event 800\t(batch acceptance rate: 0.522000)\tmax sequence length: 73\n",
      "Event 900\t(batch acceptance rate: 0.548000)\tmax sequence length: 73\n",
      "Event 1000\t(batch acceptance rate: 0.592000)\tmax sequence length: 73\n",
      "Event 2000\t(batch acceptance rate: 0.626000)\tmax sequence length: 73\n",
      "Event 3000\t(batch acceptance rate: 0.542000)\tmax sequence length: 73\n",
      "Event 4000\t(batch acceptance rate: 0.558000)\tmax sequence length: 73\n",
      "Event 5000\t(batch acceptance rate: 0.556000)\tmax sequence length: 73\n",
      "Event 6000\t(batch acceptance rate: 0.538000)\tmax sequence length: 75\n",
      "Event 7000\t(batch acceptance rate: 0.616000)\tmax sequence length: 75\n",
      "Event 8000\t(batch acceptance rate: 0.614000)\tmax sequence length: 75\n",
      "Event 9000\t(batch acceptance rate: 0.544000)\tmax sequence length: 75\n",
      "CPU times: user 15.8 s, sys: 24.6 ms, total: 15.8 s\n",
      "Wall time: 15.8 s\n"
     ]
    }
   ],
   "source": [
    "# now sarge + local in MC3\n",
    "importance = DefaultMetropolis(3 * 4, eeqqg, proposal=sarge)  # using sarge, full momentum sample space\n",
    "local = DefaultMetropolis(5, mapped, proposals.Gaussian(5, .01))  # using rambo, rambo sample space\n",
    "update = MixingMarkovUpdate(5, [importance, local], target=mapped,\n",
    "                            out_maps={0: rambo_mapping.map_inverse},\n",
    "                            in_maps={0: rambo_mapping.map}) # rambo sample space, important to set target explicitly\n",
    "start = update.sample(5000, np.random.rand(5)).data[-1] # warmup\n",
    "%time mc3_sample = update.sample(10000, start)"
   ]
  },
  {
   "cell_type": "code",
   "execution_count": 19,
   "metadata": {},
   "outputs": [
    {
     "name": "stdout",
     "output_type": "stream",
     "text": [
      "estimated ESS: [341.60612756 276.66878284 240.30061058 213.43745973 228.29383859]\n"
     ]
    }
   ],
   "source": [
    "print('estimated ESS:', util.effective_sample_size(mc3_sample, mc3_sample.mean, mc3_sample.variance))"
   ]
  },
  {
   "cell_type": "code",
   "execution_count": null,
   "metadata": {},
   "outputs": [],
   "source": [
    "mc3_sample.data = rambo_mapping.map(mc3_sample.data)\n",
    "mc3_sample.weights = np.full(mc3_sample.size, 1./mc3_sample.size)\n",
    "densities.export_hepmc(100., mc3_sample, \"../samples/qcd/2-3/mc3.hepmc\")"
   ]
  },
  {
   "cell_type": "code",
   "execution_count": null,
   "metadata": {},
   "outputs": [],
   "source": []
  }
 ],
 "metadata": {
  "kernelspec": {
   "display_name": "hepmc",
   "language": "python",
   "name": "hepmc"
  },
  "language_info": {
   "codemirror_mode": {
    "name": "ipython",
    "version": 3
   },
   "file_extension": ".py",
   "mimetype": "text/x-python",
   "name": "python",
   "nbconvert_exporter": "python",
   "pygments_lexer": "ipython3",
   "version": "3.6.6"
  }
 },
 "nbformat": 4,
 "nbformat_minor": 2
}
