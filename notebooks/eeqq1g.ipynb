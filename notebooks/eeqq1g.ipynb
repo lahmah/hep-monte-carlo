{
 "cells": [
  {
   "cell_type": "code",
   "execution_count": 1,
   "metadata": {},
   "outputs": [],
   "source": [
    "from hepmc import *\n",
    "import numpy as np"
   ]
  },
  {
   "cell_type": "code",
   "execution_count": 2,
   "metadata": {},
   "outputs": [],
   "source": [
    "sarge = densities.Sarge(2, 3, 100.)"
   ]
  },
  {
   "cell_type": "code",
   "execution_count": 3,
   "metadata": {},
   "outputs": [],
   "source": [
    "eeqqg = densities.ee_qq_ng(1, 100., 5., .3)"
   ]
  },
  {
   "cell_type": "code",
   "execution_count": 4,
   "metadata": {},
   "outputs": [],
   "source": [
    "rambo_mapping = phase_space.RamboOnDiet(100., 3)\n",
    "mapped = phase_space.MappedDensity(eeqqg, rambo_mapping)"
   ]
  },
  {
   "cell_type": "code",
   "execution_count": 5,
   "metadata": {},
   "outputs": [
    {
     "name": "stdout",
     "output_type": "stream",
     "text": [
      "Event 1\t(avg. trials per event: 9.000000)\n",
      "Event 2\t(avg. trials per event: 5.500000)\tXS = 257.288428 pb +- ( 48.186992 pb = 18.728783 %)\n",
      "Event 3\t(avg. trials per event: 4.666667)\tXS = 210.644131 pb +- ( 98.223028 pb = 46.629843 %)\n",
      "Event 4\t(avg. trials per event: 4.000000)\tXS = 236.287103 pb +- ( 81.580717 pb = 34.526098 %)\n",
      "Event 5\t(avg. trials per event: 3.600000)\tXS = 210.970884 pb +- ( 87.117369 pb = 41.293551 %)\n",
      "Event 6\t(avg. trials per event: 5.500000)\tXS = 150.120194 pb +- ( 48.087610 pb = 32.032739 %)\n",
      "Event 7\t(avg. trials per event: 5.857143)\tXS = 121.641793 pb +- ( 42.777138 pb = 35.166481 %)\n",
      "Event 8\t(avg. trials per event: 5.625000)\tXS = 112.046649 pb +- ( 41.250880 pb = 36.815809 %)\n",
      "Event 9\t(avg. trials per event: 5.444444)\tXS = 114.530752 pb +- ( 37.606508 pb = 32.835293 %)\n",
      "Event 10\t(avg. trials per event: 5.200000)\tXS = 118.995140 pb +- ( 35.229479 pb = 29.605813 %)\n",
      "Event 20\t(avg. trials per event: 5.550000)\tXS = 89.046091 pb +- ( 20.447539 pb = 22.962871 %)\n",
      "Event 30\t(avg. trials per event: 5.100000)\tXS = 77.774262 pb +- ( 16.190358 pb = 20.817116 %)\n",
      "Event 40\t(avg. trials per event: 5.000000)\tXS = 85.005743 pb +- ( 15.935228 pb = 18.746060 %)\n",
      "Event 50\t(avg. trials per event: 4.880000)\tXS = 87.853175 pb +- ( 14.338923 pb = 16.321462 %)\n",
      "Event 60\t(avg. trials per event: 4.700000)\tXS = 95.026395 pb +- ( 14.386401 pb = 15.139374 %)\n",
      "Event 70\t(avg. trials per event: 4.571429)\tXS = 99.676247 pb +- ( 13.689062 pb = 13.733524 %)\n",
      "Event 80\t(avg. trials per event: 4.925000)\tXS = 91.847790 pb +- ( 11.374499 pb = 12.384074 %)\n",
      "Event 90\t(avg. trials per event: 4.844444)\tXS = 98.367935 pb +- ( 11.048561 pb = 11.231873 %)\n",
      "Event 100\t(avg. trials per event: 4.670000)\tXS = 99.014841 pb +- ( 10.742832 pb = 10.849719 %)\n",
      "Event 200\t(avg. trials per event: 4.660000)\tXS = 97.535491 pb +- ( 8.193109 pb = 8.400131 %)\n",
      "Event 300\t(avg. trials per event: 4.626667)\tXS = 94.419102 pb +- ( 6.455757 pb = 6.837342 %)\n",
      "Event 400\t(avg. trials per event: 4.545000)\tXS = 97.369634 pb +- ( 6.015761 pb = 6.178273 %)\n",
      "Event 500\t(avg. trials per event: 4.522000)\tXS = 96.454747 pb +- ( 5.555462 pb = 5.759657 %)\n",
      "Event 600\t(avg. trials per event: 4.391667)\tXS = 100.672538 pb +- ( 5.255956 pb = 5.220844 %)\n",
      "Event 700\t(avg. trials per event: 4.322857)\tXS = 104.119486 pb +- ( 5.021113 pb = 4.822452 %)\n",
      "Event 800\t(avg. trials per event: 4.257500)\tXS = 106.921659 pb +- ( 4.773970 pb = 4.464923 %)\n",
      "Event 900\t(avg. trials per event: 4.274444)\tXS = 107.666313 pb +- ( 4.473456 pb = 4.154926 %)\n",
      "Event 1000\t(avg. trials per event: 4.281000)\tXS = 107.259730 pb +- ( 4.315830 pb = 4.023719 %)\n",
      "Event 2000\t(avg. trials per event: 4.189500)\tXS = 110.126447 pb +- ( 3.068275 pb = 2.786138 %)\n",
      "Event 3000\t(avg. trials per event: 4.203333)\tXS = 111.493106 pb +- ( 2.473616 pb = 2.218627 %)\n",
      "Event 4000\t(avg. trials per event: 4.189750)\tXS = 113.590145 pb +- ( 2.150305 pb = 1.893038 %)\n",
      "Event 5000\t(avg. trials per event: 4.201200)\tXS = 112.664694 pb +- ( 1.903388 pb = 1.689427 %)\n",
      "Event 6000\t(avg. trials per event: 4.169167)\tXS = 112.734690 pb +- ( 1.743057 pb = 1.546159 %)\n",
      "Event 7000\t(avg. trials per event: 4.179000)\tXS = 111.861188 pb +- ( 1.603201 pb = 1.433206 %)\n",
      "Event 8000\t(avg. trials per event: 4.196375)\tXS = 111.331885 pb +- ( 1.489532 pb = 1.337920 %)\n",
      "Event 9000\t(avg. trials per event: 4.220222)\tXS = 111.000665 pb +- ( 1.401878 pb = 1.262946 %)\n",
      "Event 10000\t(avg. trials per event: 4.216800)\tXS = 112.059167 pb +- ( 1.337710 pb = 1.193753 %)\n",
      "CPU times: user 31.8 s, sys: 45.5 ms, total: 31.8 s\n",
      "Wall time: 32.1 s\n"
     ]
    }
   ],
   "source": [
    "%time sarge_sample = ImportanceMC(sarge)(eeqqg.pdf, 10000)"
   ]
  },
  {
   "cell_type": "code",
   "execution_count": 6,
   "metadata": {},
   "outputs": [],
   "source": [
    "densities.export_hepmc(100., sarge_sample, \"../samples/qcd/2-3/sarge_weighted.hepmc\")"
   ]
  },
  {
   "cell_type": "code",
   "execution_count": 7,
   "metadata": {},
   "outputs": [],
   "source": [
    "bound = sarge_sample.weights.max()"
   ]
  },
  {
   "cell_type": "code",
   "execution_count": null,
   "metadata": {},
   "outputs": [],
   "source": [
    "%%time\n",
    "# acceptance-rejection sampler\n",
    "sarge_sample_unweighted = np.empty((10000, 12))\n",
    "for i in range(10000):\n",
    "    aprob = 0\n",
    "    while np.random.random() > aprob:\n",
    "        proposal = sarge.proposal()\n",
    "        f = eeqqg.pdf(proposal)\n",
    "        g = sarge.proposal_pdf(None, proposal)\n",
    "        aprob = f/(bound*g)\n",
    "        if aprob > 1:\n",
    "            print(\"bound too low\")\n",
    "    sarge_sample_unweighted[i] = proposal\n",
    "sarge_sample_unweighted = Sample(data=sarge_sample_unweighted, weights=np.full(10000, 1./10000))"
   ]
  },
  {
   "cell_type": "code",
   "execution_count": null,
   "metadata": {},
   "outputs": [],
   "source": [
    "densities.export_hepmc(100., sarge_sample_unweighted, \"../samples/qcd/2-3/sarge_unweighted.hepmc\")"
   ]
  },
  {
   "cell_type": "code",
   "execution_count": null,
   "metadata": {},
   "outputs": [],
   "source": [
    "rambo_sample = PlainMC(5)(mapped, 10000)\n",
    "rambo_sample.integral, rambo_sample.integral_err"
   ]
  },
  {
   "cell_type": "code",
   "execution_count": null,
   "metadata": {},
   "outputs": [],
   "source": [
    "ys = mapped.pdf(rambo_sample.data)\n",
    "max_y = ys.max()"
   ]
  },
  {
   "cell_type": "code",
   "execution_count": null,
   "metadata": {},
   "outputs": [],
   "source": [
    "rambo = AcceptRejectSampler(mapped, max_y, 5)\n",
    "%time rambo_sample = rambo.sample(1000)"
   ]
  },
  {
   "cell_type": "code",
   "execution_count": null,
   "metadata": {},
   "outputs": [],
   "source": [
    "rambo_sample.data = rambo_mapping.map(rambo_sample.data)\n",
    "rambo_sample.weights = np.full(rambo_sample.size, 1./rambo_sample.size)"
   ]
  },
  {
   "cell_type": "code",
   "execution_count": null,
   "metadata": {},
   "outputs": [],
   "source": [
    "densities.export_hepmc(100., rambo_sample, \"../samples/qcd/2-3/rambo.hepmc\")"
   ]
  },
  {
   "cell_type": "code",
   "execution_count": 8,
   "metadata": {},
   "outputs": [
    {
     "name": "stdout",
     "output_type": "stream",
     "text": [
      "Event 1\t(batch acceptance rate: 0.000000)\n",
      "Event 2\t(batch acceptance rate: 0.000000)\tmax sequence length: 3\n",
      "Event 3\t(batch acceptance rate: 0.333333)\tmax sequence length: 3\n",
      "Event 4\t(batch acceptance rate: 0.250000)\tmax sequence length: 3\n",
      "Event 5\t(batch acceptance rate: 0.200000)\tmax sequence length: 3\n",
      "Event 6\t(batch acceptance rate: 0.166667)\tmax sequence length: 4\n",
      "Event 7\t(batch acceptance rate: 0.142857)\tmax sequence length: 5\n",
      "Event 8\t(batch acceptance rate: 0.125000)\tmax sequence length: 6\n",
      "Event 9\t(batch acceptance rate: 0.111111)\tmax sequence length: 7\n",
      "Event 10\t(batch acceptance rate: 0.100000)\tmax sequence length: 8\n",
      "Event 20\t(batch acceptance rate: 0.150000)\tmax sequence length: 11\n",
      "Event 30\t(batch acceptance rate: 0.100000)\tmax sequence length: 13\n",
      "Event 40\t(batch acceptance rate: 0.150000)\tmax sequence length: 18\n",
      "Event 50\t(batch acceptance rate: 0.160000)\tmax sequence length: 18\n",
      "Event 60\t(batch acceptance rate: 0.183333)\tmax sequence length: 18\n",
      "Event 70\t(batch acceptance rate: 0.171429)\tmax sequence length: 18\n",
      "Event 80\t(batch acceptance rate: 0.200000)\tmax sequence length: 18\n",
      "Event 90\t(batch acceptance rate: 0.200000)\tmax sequence length: 18\n",
      "Event 100\t(batch acceptance rate: 0.210000)\tmax sequence length: 18\n",
      "Event 200\t(batch acceptance rate: 0.250000)\tmax sequence length: 25\n",
      "Event 300\t(batch acceptance rate: 0.220000)\tmax sequence length: 41\n",
      "Event 400\t(batch acceptance rate: 0.175000)\tmax sequence length: 44\n",
      "Event 500\t(batch acceptance rate: 0.210000)\tmax sequence length: 44\n",
      "Event 600\t(batch acceptance rate: 0.244000)\tmax sequence length: 44\n",
      "Event 700\t(batch acceptance rate: 0.244000)\tmax sequence length: 44\n",
      "Event 800\t(batch acceptance rate: 0.298000)\tmax sequence length: 44\n",
      "Event 900\t(batch acceptance rate: 0.344000)\tmax sequence length: 44\n",
      "Event 1000\t(batch acceptance rate: 0.328000)\tmax sequence length: 44\n",
      "Event 2000\t(batch acceptance rate: 0.246000)\tmax sequence length: 104\n",
      "Event 3000\t(batch acceptance rate: 0.214000)\tmax sequence length: 104\n",
      "Event 4000\t(batch acceptance rate: 0.236000)\tmax sequence length: 104\n",
      "Event 5000\t(batch acceptance rate: 0.254000)\tmax sequence length: 104\n",
      "Event 6000\t(batch acceptance rate: 0.314000)\tmax sequence length: 104\n",
      "Event 7000\t(batch acceptance rate: 0.394000)\tmax sequence length: 104\n",
      "Event 8000\t(batch acceptance rate: 0.264000)\tmax sequence length: 104\n",
      "Event 9000\t(batch acceptance rate: 0.204000)\tmax sequence length: 104\n",
      "CPU times: user 7.83 s, sys: 20.8 ms, total: 7.85 s\n",
      "Wall time: 7.89 s\n"
     ]
    }
   ],
   "source": [
    "# just a local sampler (rambo)\n",
    "met = DefaultMetropolis(5, mapped, proposals.Gaussian(5, .01))\n",
    "%time met_sample = met.sample(10000, np.random.rand(5))"
   ]
  },
  {
   "cell_type": "code",
   "execution_count": 9,
   "metadata": {},
   "outputs": [],
   "source": [
    "met_sample.data = rambo_mapping.map(met_sample.data)\n",
    "met_sample.weights = np.full(met_sample.size, 1./met_sample.size)\n",
    "densities.export_hepmc(100., met_sample, \"../samples/qcd/2-3/metropolis.hepmc\")"
   ]
  },
  {
   "cell_type": "code",
   "execution_count": 10,
   "metadata": {},
   "outputs": [
    {
     "name": "stderr",
     "output_type": "stream",
     "text": [
      "/net/theorie/home/tjansse2/studium/masterarbeit/hep-monte-carlo/src/hepmc/core/markov/metropolis.py:47: RuntimeWarning: invalid value encountered in true_divide\n",
      "  state.pdf / self.proposal_pdf(state, candidate))\n",
      "/net/theorie/home/tjansse2/studium/masterarbeit/hep-monte-carlo/src/hepmc/core/markov/metropolis.py:47: RuntimeWarning: divide by zero encountered in true_divide\n",
      "  state.pdf / self.proposal_pdf(state, candidate))\n"
     ]
    },
    {
     "name": "stdout",
     "output_type": "stream",
     "text": [
      "Event 1\t(batch acceptance rate: 1.000000)\n",
      "Event 2\t(batch acceptance rate: 1.000000)\tmax sequence length: 1\n",
      "Event 3\t(batch acceptance rate: 1.000000)\tmax sequence length: 1\n",
      "Event 4\t(batch acceptance rate: 0.750000)\tmax sequence length: 2\n",
      "Event 5\t(batch acceptance rate: 0.800000)\tmax sequence length: 2\n",
      "Event 6\t(batch acceptance rate: 0.833333)\tmax sequence length: 2\n",
      "Event 7\t(batch acceptance rate: 0.857143)\tmax sequence length: 2\n",
      "Event 8\t(batch acceptance rate: 0.875000)\tmax sequence length: 2\n",
      "Event 9\t(batch acceptance rate: 0.888889)\tmax sequence length: 2\n",
      "Event 10\t(batch acceptance rate: 0.900000)\tmax sequence length: 2\n",
      "Event 20\t(batch acceptance rate: 0.800000)\tmax sequence length: 3\n",
      "Event 30\t(batch acceptance rate: 0.733333)\tmax sequence length: 3\n",
      "Event 40\t(batch acceptance rate: 0.650000)\tmax sequence length: 3\n",
      "Event 50\t(batch acceptance rate: 0.620000)\tmax sequence length: 3\n",
      "Event 60\t(batch acceptance rate: 0.616667)\tmax sequence length: 3\n",
      "Event 70\t(batch acceptance rate: 0.571429)\tmax sequence length: 4\n",
      "Event 80\t(batch acceptance rate: 0.587500)\tmax sequence length: 4\n",
      "Event 90\t(batch acceptance rate: 0.577778)\tmax sequence length: 4\n",
      "Event 100\t(batch acceptance rate: 0.570000)\tmax sequence length: 4\n",
      "Event 200\t(batch acceptance rate: 0.620000)\tmax sequence length: 10\n",
      "Event 300\t(batch acceptance rate: 0.616667)\tmax sequence length: 10\n",
      "Event 400\t(batch acceptance rate: 0.597500)\tmax sequence length: 13\n",
      "Event 500\t(batch acceptance rate: 0.586000)\tmax sequence length: 26\n",
      "Event 600\t(batch acceptance rate: 0.578000)\tmax sequence length: 26\n",
      "Event 700\t(batch acceptance rate: 0.550000)\tmax sequence length: 26\n",
      "Event 800\t(batch acceptance rate: 0.540000)\tmax sequence length: 26\n",
      "Event 900\t(batch acceptance rate: 0.532000)\tmax sequence length: 26\n",
      "Event 1000\t(batch acceptance rate: 0.532000)\tmax sequence length: 26\n",
      "Event 2000\t(batch acceptance rate: 0.500000)\tmax sequence length: 26\n",
      "Event 3000\t(batch acceptance rate: 0.558000)\tmax sequence length: 26\n",
      "Event 4000\t(batch acceptance rate: 0.546000)\tmax sequence length: 26\n",
      "Event 5000\t(batch acceptance rate: 0.616000)\tmax sequence length: 26\n",
      "Event 6000\t(batch acceptance rate: 0.540000)\tmax sequence length: 26\n",
      "Event 7000\t(batch acceptance rate: 0.514000)\tmax sequence length: 26\n",
      "Event 8000\t(batch acceptance rate: 0.544000)\tmax sequence length: 26\n",
      "Event 9000\t(batch acceptance rate: 0.632000)\tmax sequence length: 26\n",
      "CPU times: user 16.9 s, sys: 36.3 ms, total: 16.9 s\n",
      "Wall time: 17 s\n"
     ]
    }
   ],
   "source": [
    "# now sarge + local in MC3\n",
    "importance = DefaultMetropolis(3 * 4, eeqqg, proposal=sarge)  # using sarge, full momentum sample space\n",
    "local = DefaultMetropolis(5, mapped, proposals.Gaussian(5, .01))  # using rambo, rambo sample space\n",
    "update = MixingMarkovUpdate(5, [importance, local], target=mapped,\n",
    "                            out_maps={0: rambo_mapping.map_inverse},\n",
    "                            in_maps={0: rambo_mapping.map}) # rambo sample space, important to set target explicitly\n",
    "%time mc3_sample = update.sample(10000, np.random.rand(5))"
   ]
  },
  {
   "cell_type": "code",
   "execution_count": 11,
   "metadata": {},
   "outputs": [],
   "source": [
    "mc3_sample.data = rambo_mapping.map(mc3_sample.data)\n",
    "mc3_sample.weights = np.full(mc3_sample.size, 1./mc3_sample.size)\n",
    "densities.export_hepmc(100., mc3_sample, \"../samples/qcd/2-3/mc3.hepmc\")"
   ]
  },
  {
   "cell_type": "code",
   "execution_count": null,
   "metadata": {},
   "outputs": [],
   "source": []
  }
 ],
 "metadata": {
  "kernelspec": {
   "display_name": "hepmc",
   "language": "python",
   "name": "hepmc"
  },
  "language_info": {
   "codemirror_mode": {
    "name": "ipython",
    "version": 3
   },
   "file_extension": ".py",
   "mimetype": "text/x-python",
   "name": "python",
   "nbconvert_exporter": "python",
   "pygments_lexer": "ipython3",
   "version": "3.6.6"
  }
 },
 "nbformat": 4,
 "nbformat_minor": 2
}
