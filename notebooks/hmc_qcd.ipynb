{
 "cells": [
  {
   "cell_type": "code",
   "execution_count": 1,
   "metadata": {},
   "outputs": [],
   "source": [
    "from hepmc import *\n",
    "import numpy as np\n",
    "from itertools import combinations\n",
    "import matplotlib.pyplot as plt\n",
    "%matplotlib notebook"
   ]
  },
  {
   "cell_type": "code",
   "execution_count": 2,
   "metadata": {},
   "outputs": [],
   "source": [
    "# Calculate transverse momentum of 4-vector\n",
    "def pT(p):\n",
    "    return np.sqrt(p[1]*p[1]+p[2]*p[2])\n",
    "\n",
    "# Calculate angle between two 4-vectors\n",
    "def angle(p, q):\n",
    "    cos_angle = (p[1:].dot(q[1:]))/(p[0]*q[0])\n",
    "    return np.arccos(cos_angle)\n",
    "\n",
    "# Calculate pseudorapidity\n",
    "def eta(p):\n",
    "    pT = np.sqrt(p[:,1]*p[:,1]+p[:,2]*p[:,2])\n",
    "    angle = np.arctan2(pT, p[:,-1])\n",
    "    return -np.log(np.tan(.5*angle))"
   ]
  },
  {
   "cell_type": "code",
   "execution_count": 3,
   "metadata": {},
   "outputs": [],
   "source": [
    "eeqqg = densities.ee_qq_1g(100., 5., .3)"
   ]
  },
  {
   "cell_type": "code",
   "execution_count": 4,
   "metadata": {},
   "outputs": [],
   "source": [
    "rambo_mapping = phase_space.RamboOnDiet(100., 3)\n",
    "mapped = phase_space.MappedDensity(eeqqg, rambo_mapping)"
   ]
  },
  {
   "cell_type": "code",
   "execution_count": 7,
   "metadata": {},
   "outputs": [],
   "source": [
    "nodes = 100\n",
    "nlearn = 1000\n",
    "#x = np.linspace(0.001, .999, 100)\n",
    "#y = np.linspace(0.001, .999, 100)\n",
    "#mgrid = np.meshgrid(x, y)\n",
    "\n",
    "xvals = np.random.random((nlearn, 5))\n",
    "fvals = mapped.pdf(xvals)\n",
    "\n",
    "# surrogate\n",
    "basis = surrogate.extreme_learning.GaussianBasis(5)\n",
    "log_vals = -np.ma.log(fvals)\n",
    "xvals = xvals[~log_vals.mask]\n",
    "log_vals = log_vals[~log_vals.mask]\n",
    "# train\n",
    "params = basis.extreme_learning_train(xvals, log_vals, nodes)\n",
    "\n",
    "# surrogate gradient\n",
    "def surrogate_gradient(xs):\n",
    "    return basis.eval_gradient(*params, xs)\n",
    "\n",
    "mapped.pot_gradient = surrogate_gradient"
   ]
  },
  {
   "cell_type": "code",
   "execution_count": 19,
   "metadata": {},
   "outputs": [
    {
     "name": "stderr",
     "output_type": "stream",
     "text": [
      "/net/theorie/home/tjansse2/studium/masterarbeit/hep-monte-carlo/src/hepmc/hamiltonian/hmc.py:57: RuntimeWarning: divide by zero encountered in true_divide\n",
      "  state.pdf / self.p_dist.pdf(state.momentum))\n"
     ]
    },
    {
     "name": "stdout",
     "output_type": "stream",
     "text": [
      "Generated 5000 samples.\n",
      "Generated 10000 samples.\n",
      "Generated 15000 samples.\n",
      "Generated 20000 samples.\n",
      "Generated 25000 samples.\n",
      "Generated 30000 samples.\n",
      "Generated 35000 samples.\n",
      "Generated 40000 samples.\n",
      "Generated 45000 samples.\n",
      "Generated 50000 samples.\n"
     ]
    }
   ],
   "source": [
    "start = np.array([0.30527385, 0.59699739, 0.51985594, 0.57366659, 0.51096818])\n",
    "sampler = hamiltonian.StaticSphericalHMC(mapped, .03, .03, 30, 30)\n",
    "hmc_sample = sampler.sample(50000, start)"
   ]
  },
  {
   "cell_type": "code",
   "execution_count": 20,
   "metadata": {},
   "outputs": [],
   "source": [
    "momenta = rambo_mapping.map(hmc_sample.data)\n",
    "p_1 = momenta[:,0:4]\n",
    "p_2 = momenta[:,4:8]\n",
    "p_3 = momenta[:,8:12]\n",
    "\n",
    "pT_1 = np.sqrt(p_1[:,1]*p_1[:,1]+p_1[:,2]*p_1[:,2])\n",
    "pT_2 = np.sqrt(p_2[:,1]*p_2[:,1]+p_2[:,2]*p_2[:,2])\n",
    "pT_3 = np.sqrt(p_3[:,1]*p_3[:,1]+p_3[:,2]*p_3[:,2])\n",
    "E_1 = p_1[:,0]\n",
    "E_2 = p_2[:,0]\n",
    "E_3 = p_3[:,0]\n",
    "eta_1 = eta(p_1)\n",
    "eta_2 = eta(p_2)\n",
    "eta_3 = eta(p_3)\n",
    "\n",
    "pT_dist = np.concatenate((pT_1, pT_2, pT_3))\n",
    "E_dist = np.concatenate((E_1, E_2, E_3))\n",
    "eta_dist = np.concatenate((eta_1, eta_2, eta_3))"
   ]
  },
  {
   "cell_type": "code",
   "execution_count": 21,
   "metadata": {},
   "outputs": [
    {
     "data": {
      "text/plain": [
       "(array([ 1703.,  2955.,  3196.,  5383.,  3210.,  2582.,  3035.,  3465.,\n",
       "         3546.,  3797.,  3054.,  2764.,  2232.,  2419.,  5257.,  3367.,\n",
       "         2997.,  2523.,  7152.,  4539.,  5306.,  4152.,  5485.,  9616.,\n",
       "         6888.,  8626.,  6235.,  8407., 11446., 14663.]),\n",
       " array([ 5.06662829,  6.5625779 ,  8.05852751,  9.55447712, 11.05042673,\n",
       "        12.54637634, 14.04232595, 15.53827557, 17.03422518, 18.53017479,\n",
       "        20.0261244 , 21.52207401, 23.01802362, 24.51397323, 26.00992284,\n",
       "        27.50587245, 29.00182206, 30.49777167, 31.99372129, 33.4896709 ,\n",
       "        34.98562051, 36.48157012, 37.97751973, 39.47346934, 40.96941895,\n",
       "        42.46536856, 43.96131817, 45.45726778, 46.95321739, 48.44916701,\n",
       "        49.94511662]),\n",
       " <a list of 30 Patch objects>)"
      ]
     },
     "execution_count": 21,
     "metadata": {},
     "output_type": "execute_result"
    },
    {
     "data": {
      "image/png": "[encoded data removed]",
      "text/plain": [
       "<Figure size 432x288 with 1 Axes>"
      ]
     },
     "metadata": {},
     "output_type": "display_data"
    }
   ],
   "source": [
    "plt.figure()\n",
    "plt.hist(E_dist, bins=30, log=True)"
   ]
  },
  {
   "cell_type": "code",
   "execution_count": 22,
   "metadata": {},
   "outputs": [
    {
     "data": {
      "text/plain": [
       "(array([4461., 4094., 4415., 8790., 3830., 3390., 4634., 8808., 5244.,\n",
       "        3287., 4631., 4452., 3139., 7316., 3920., 3962., 6184., 4358.,\n",
       "        5194., 6025., 4720., 4115., 5755., 4372., 5514., 5960., 6908.,\n",
       "        4664., 4329., 3529.]),\n",
       " array([ 5.00879432,  6.50373305,  7.99867178,  9.49361051, 10.98854924,\n",
       "        12.48348797, 13.9784267 , 15.47336542, 16.96830415, 18.46324288,\n",
       "        19.95818161, 21.45312034, 22.94805907, 24.4429978 , 25.93793652,\n",
       "        27.43287525, 28.92781398, 30.42275271, 31.91769144, 33.41263017,\n",
       "        34.9075689 , 36.40250763, 37.89744635, 39.39238508, 40.88732381,\n",
       "        42.38226254, 43.87720127, 45.37214   , 46.86707873, 48.36201745,\n",
       "        49.85695618]),\n",
       " <a list of 30 Patch objects>)"
      ]
     },
     "execution_count": 22,
     "metadata": {},
     "output_type": "execute_result"
    },
    {
     "data": {
      "image/png": "[encoded data removed]",
      "text/plain": [
       "<Figure size 432x288 with 1 Axes>"
      ]
     },
     "metadata": {},
     "output_type": "display_data"
    }
   ],
   "source": [
    "plt.figure()\n",
    "plt.hist(pT_dist, bins=30, log=True)"
   ]
  },
  {
   "cell_type": "code",
   "execution_count": 23,
   "metadata": {},
   "outputs": [
    {
     "data": {
      "text/plain": [
       "(array([   22.,    34.,   153.,  3250.,   135.,   906.,  1333.,  2176.,\n",
       "         3496.,  5708.,  8385.,  7933., 12028., 12994., 12536., 14832.,\n",
       "        12343., 14881., 10218.,  7826.,  5573.,  4178.,  5357.,  2072.,\n",
       "         1096.,   322.,    60.,    78.,    56.,    19.]),\n",
       " array([-2.52106012, -2.3539253 , -2.18679048, -2.01965566, -1.85252084,\n",
       "        -1.68538602, -1.5182512 , -1.35111639, -1.18398157, -1.01684675,\n",
       "        -0.84971193, -0.68257711, -0.51544229, -0.34830747, -0.18117265,\n",
       "        -0.01403783,  0.15309699,  0.32023181,  0.48736663,  0.65450145,\n",
       "         0.82163627,  0.98877109,  1.15590591,  1.32304073,  1.49017555,\n",
       "         1.65731036,  1.82444518,  1.99158   ,  2.15871482,  2.32584964,\n",
       "         2.49298446]),\n",
       " <a list of 30 Patch objects>)"
      ]
     },
     "execution_count": 23,
     "metadata": {},
     "output_type": "execute_result"
    },
    {
     "data": {
      "image/png": "[encoded data removed]",
      "text/plain": [
       "<Figure size 432x288 with 1 Axes>"
      ]
     },
     "metadata": {},
     "output_type": "display_data"
    }
   ],
   "source": [
    "plt.figure()\n",
    "plt.hist(eta_dist, bins=30)"
   ]
  },
  {
   "cell_type": "code",
   "execution_count": null,
   "metadata": {},
   "outputs": [],
   "source": []
  }
 ],
 "metadata": {
  "kernelspec": {
   "display_name": "hepmc",
   "language": "python",
   "name": "hepmc"
  },
  "language_info": {
   "codemirror_mode": {
    "name": "ipython",
    "version": 3
   },
   "file_extension": ".py",
   "mimetype": "text/x-python",
   "name": "python",
   "nbconvert_exporter": "python",
   "pygments_lexer": "ipython3",
   "version": "3.6.6"
  }
 },
 "nbformat": 4,
 "nbformat_minor": 2
}
