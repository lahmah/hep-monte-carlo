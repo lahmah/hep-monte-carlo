{
 "cells": [
  {
   "cell_type": "code",
   "execution_count": 1,
   "metadata": {},
   "outputs": [],
   "source": [
    "from hepmc import *\n",
    "import numpy as np\n",
    "import pandas as pd\n",
    "import seaborn as sns\n",
    "from itertools import product\n",
    "import matplotlib.pyplot as plt\n",
    "%matplotlib notebook"
   ]
  },
  {
   "cell_type": "code",
   "execution_count": 2,
   "metadata": {},
   "outputs": [],
   "source": [
    "eeqqg = densities.ee_qq_ng(1, 100., 5., .3)"
   ]
  },
  {
   "cell_type": "code",
   "execution_count": 3,
   "metadata": {},
   "outputs": [],
   "source": [
    "rambo_mapping = phase_space.RamboOnDiet(100., 3)\n",
    "mapped = phase_space.MappedDensity(eeqqg, rambo_mapping)"
   ]
  },
  {
   "cell_type": "code",
   "execution_count": 4,
   "metadata": {},
   "outputs": [],
   "source": [
    "def log_target(xs):\n",
    "    return -np.log(mapped.pdf(xs))"
   ]
  },
  {
   "cell_type": "code",
   "execution_count": null,
   "metadata": {},
   "outputs": [],
   "source": [
    "# adaptive Metropolis\n",
    "def adapt_schedule(t):\n",
    "    if t < 5000:\n",
    "        return True\n",
    "    else:\n",
    "        return False\n",
    "    \n",
    "met = AdaptiveMetropolisUpdate(5, log_target, proposals.Gaussian(5, .01), t_initial=1000, adapt_schedule=adapt_schedule)\n",
    "%time met_sample = met.sample(106000, np.random.rand(5))\n",
    "met_sample.data = met_sample.data[6000:] # discard warmup samples"
   ]
  },
  {
   "cell_type": "code",
   "execution_count": null,
   "metadata": {},
   "outputs": [],
   "source": [
    "df = pd.DataFrame(met_sample.data[::100])"
   ]
  },
  {
   "cell_type": "code",
   "execution_count": null,
   "metadata": {},
   "outputs": [],
   "source": [
    "g = sns.PairGrid(df)\n",
    "#g.map(sns.kdeplot)\n",
    "g.map_upper(sns.kdeplot, n_levels=60, shade=True)\n",
    "g.map_lower(sns.kdeplot, n_levels=60, shade=True)\n",
    "g.map_diag(sns.distplot)\n",
    "plt.show()"
   ]
  },
  {
   "cell_type": "code",
   "execution_count": 10,
   "metadata": {},
   "outputs": [],
   "source": [
    "nodes = 500\n",
    "nlearn = 100000\n",
    "\n",
    "xvals = np.random.random((nlearn, 5))\n",
    "fvals = mapped.pdf(xvals)\n",
    "\n",
    "# surrogate\n",
    "basis = surrogate.extreme_learning.GaussianBasis(5)\n",
    "log_vals = -np.ma.log(fvals)\n",
    "xvals = xvals[~log_vals.mask]\n",
    "log_vals = log_vals[~log_vals.mask]\n",
    "# train\n",
    "params = basis.extreme_learning_train(xvals, log_vals, nodes)\n",
    "\n",
    "# surrogate\n",
    "def surrogate_fn(xs):\n",
    "    return basis.eval(*params, xs)[0]\n",
    "\n",
    "# surrogate gradient\n",
    "def surrogate_gradient(xs):\n",
    "    return basis.eval_gradient(*params, xs)\n",
    "mapped.pot_gradient = surrogate_gradient"
   ]
  },
  {
   "cell_type": "code",
   "execution_count": 7,
   "metadata": {},
   "outputs": [
    {
     "ename": "IndexError",
     "evalue": "invalid index to scalar variable.",
     "output_type": "error",
     "traceback": [
      "\u001b[0;31m---------------------------------------------------------------------------\u001b[0m",
      "\u001b[0;31mIndexError\u001b[0m                                Traceback (most recent call last)",
      "\u001b[0;32m<ipython-input-7-3c75feb9d716>\u001b[0m in \u001b[0;36m<module>\u001b[0;34m()\u001b[0m\n\u001b[1;32m      1\u001b[0m \u001b[0mxs\u001b[0m \u001b[0;34m=\u001b[0m \u001b[0mnp\u001b[0m\u001b[0;34m.\u001b[0m\u001b[0mempty\u001b[0m\u001b[0;34m(\u001b[0m\u001b[0;34m(\u001b[0m\u001b[0;36m1\u001b[0m\u001b[0;34m,\u001b[0m \u001b[0;36m5\u001b[0m\u001b[0;34m)\u001b[0m\u001b[0;34m)\u001b[0m\u001b[0;34m\u001b[0m\u001b[0m\n\u001b[1;32m      2\u001b[0m \u001b[0mxs\u001b[0m\u001b[0;34m[\u001b[0m\u001b[0;36m0\u001b[0m\u001b[0;34m]\u001b[0m \u001b[0;34m=\u001b[0m \u001b[0mnp\u001b[0m\u001b[0;34m.\u001b[0m\u001b[0marray\u001b[0m\u001b[0;34m(\u001b[0m\u001b[0;34m[\u001b[0m\u001b[0;36m.1\u001b[0m\u001b[0;34m,\u001b[0m \u001b[0;36m.2\u001b[0m\u001b[0;34m,\u001b[0m \u001b[0;36m.3\u001b[0m\u001b[0;34m,\u001b[0m \u001b[0;36m.4\u001b[0m\u001b[0;34m,\u001b[0m \u001b[0;36m.5\u001b[0m\u001b[0;34m]\u001b[0m\u001b[0;34m)\u001b[0m\u001b[0;34m\u001b[0m\u001b[0m\n\u001b[0;32m----> 3\u001b[0;31m \u001b[0msurrogate_fn\u001b[0m\u001b[0;34m(\u001b[0m\u001b[0mxs\u001b[0m\u001b[0;34m)\u001b[0m\u001b[0;34m[\u001b[0m\u001b[0;36m0\u001b[0m\u001b[0;34m]\u001b[0m\u001b[0;34m\u001b[0m\u001b[0m\n\u001b[0m",
      "\u001b[0;31mIndexError\u001b[0m: invalid index to scalar variable."
     ]
    }
   ],
   "source": [
    "xs = np.empty((1, 5))\n",
    "xs[0] = np.array([.1, .2, .3, .4, .5])\n",
    "surrogate_fn(xs)[0]"
   ]
  },
  {
   "cell_type": "code",
   "execution_count": null,
   "metadata": {},
   "outputs": [],
   "source": [
    "# adaptive Metropolis\n",
    "def adapt_schedule(t):\n",
    "    if t < 5000:\n",
    "        return True\n",
    "    else:\n",
    "        return False\n",
    "    \n",
    "met = AdaptiveMetropolisUpdate(5, surrogate_fn, proposals.Gaussian(5, .01), t_initial=1000, adapt_schedule=adapt_schedule)\n",
    "%time met_sample = met.sample(106000, np.random.rand(5))\n",
    "met_sample.data = met_sample.data[6000:] # discard warmup samples"
   ]
  },
  {
   "cell_type": "code",
   "execution_count": null,
   "metadata": {},
   "outputs": [],
   "source": [
    "df = pd.DataFrame(met_sample.data[::100])"
   ]
  },
  {
   "cell_type": "code",
   "execution_count": null,
   "metadata": {},
   "outputs": [],
   "source": [
    "g = sns.PairGrid(df)\n",
    "#g.map(sns.kdeplot)\n",
    "g.map_upper(sns.kdeplot, n_levels=60, shade=True)\n",
    "g.map_lower(sns.kdeplot, n_levels=60, shade=True)\n",
    "g.map_diag(sns.distplot)\n",
    "plt.show()"
   ]
  },
  {
   "cell_type": "code",
   "execution_count": 11,
   "metadata": {},
   "outputs": [
    {
     "name": "stdout",
     "output_type": "stream",
     "text": [
      "Event 1\t(batch acceptance rate: 1.000000)\n",
      "Event 2\t(batch acceptance rate: 1.000000)\tmax sequence length: 1\n",
      "Event 3\t(batch acceptance rate: 1.000000)\tmax sequence length: 1\n",
      "Event 4\t(batch acceptance rate: 0.750000)\tmax sequence length: 2\n",
      "Event 5\t(batch acceptance rate: 0.600000)\tmax sequence length: 3\n",
      "Event 6\t(batch acceptance rate: 0.500000)\tmax sequence length: 4\n",
      "Event 7\t(batch acceptance rate: 0.428571)\tmax sequence length: 5\n",
      "Event 8\t(batch acceptance rate: 0.375000)\tmax sequence length: 6\n",
      "Event 9\t(batch acceptance rate: 0.333333)\tmax sequence length: 7\n",
      "Event 10\t(batch acceptance rate: 0.300000)\tmax sequence length: 8\n",
      "Event 20\t(batch acceptance rate: 0.400000)\tmax sequence length: 9\n",
      "Event 30\t(batch acceptance rate: 0.433333)\tmax sequence length: 9\n",
      "Event 40\t(batch acceptance rate: 0.500000)\tmax sequence length: 9\n",
      "Event 50\t(batch acceptance rate: 0.460000)\tmax sequence length: 9\n",
      "Event 60\t(batch acceptance rate: 0.433333)\tmax sequence length: 12\n",
      "Event 70\t(batch acceptance rate: 0.471429)\tmax sequence length: 12\n",
      "Event 80\t(batch acceptance rate: 0.437500)\tmax sequence length: 12\n",
      "Event 90\t(batch acceptance rate: 0.433333)\tmax sequence length: 12\n",
      "Event 100\t(batch acceptance rate: 0.480000)\tmax sequence length: 12\n"
     ]
    },
    {
     "name": "stderr",
     "output_type": "stream",
     "text": [
      "/net/theorie/home/tjansse2/studium/masterarbeit/hep-monte-carlo/src/hepmc/hamiltonian/spherical_hmc.py:187: RuntimeWarning: invalid value encountered in add\n",
      "  log_prob = -H_proposal + H_current\n"
     ]
    },
    {
     "name": "stdout",
     "output_type": "stream",
     "text": [
      "Event 200\t(batch acceptance rate: 0.480000)\tmax sequence length: 12\n",
      "Event 300\t(batch acceptance rate: 0.503333)\tmax sequence length: 12\n",
      "Event 400\t(batch acceptance rate: 0.492500)\tmax sequence length: 12\n",
      "Event 500\t(batch acceptance rate: 0.478000)\tmax sequence length: 12\n",
      "Event 600\t(batch acceptance rate: 0.480000)\tmax sequence length: 12\n",
      "Event 700\t(batch acceptance rate: 0.502000)\tmax sequence length: 12\n",
      "Event 800\t(batch acceptance rate: 0.510000)\tmax sequence length: 12\n",
      "Event 900\t(batch acceptance rate: 0.518000)\tmax sequence length: 12\n",
      "Event 1000\t(batch acceptance rate: 0.518000)\tmax sequence length: 12\n",
      "Event 2000\t(batch acceptance rate: 0.444000)\tmax sequence length: 14\n",
      "Event 3000\t(batch acceptance rate: 0.534000)\tmax sequence length: 15\n",
      "Event 4000\t(batch acceptance rate: 0.466000)\tmax sequence length: 15\n",
      "Event 5000\t(batch acceptance rate: 0.478000)\tmax sequence length: 15\n",
      "Event 6000\t(batch acceptance rate: 0.540000)\tmax sequence length: 30\n",
      "Event 7000\t(batch acceptance rate: 0.520000)\tmax sequence length: 30\n",
      "Event 8000\t(batch acceptance rate: 0.520000)\tmax sequence length: 30\n",
      "Event 9000\t(batch acceptance rate: 0.534000)\tmax sequence length: 30\n"
     ]
    }
   ],
   "source": [
    "start = np.array([0.30527385, 0.59699739, 0.51985594, 0.57366659, 0.51096818])\n",
    "sampler = hamiltonian.StaticSphericalHMC(mapped, .03, .03, 30, 30)\n",
    "hmc_sample = sampler.sample(10000, start)"
   ]
  },
  {
   "cell_type": "code",
   "execution_count": null,
   "metadata": {},
   "outputs": [],
   "source": [
    "print('estimated ESS:', util.effective_sample_size(hmc_sample, hmc_sample.mean, hmc_sample.variance))"
   ]
  },
  {
   "cell_type": "code",
   "execution_count": 12,
   "metadata": {},
   "outputs": [],
   "source": [
    "mapped_hmc_sample = MarkovSample(data=rambo_mapping.map(hmc_sample.data), weights=hmc_sample.weights)\n",
    "densities.export_hepmc(100., mapped_hmc_sample, \"../samples/qcd/2-3/hmc.hepmc\")"
   ]
  },
  {
   "cell_type": "code",
   "execution_count": 19,
   "metadata": {},
   "outputs": [],
   "source": [
    "# resample\n",
    "resamp_idx = np.random.choice(10000, 10000, p=hmc_sample.weights/hmc_sample.weights.sum())\n",
    "hmc_resample = MarkovSample(data=hmc_sample.data[resamp_idx], weights=np.full(10000, 1./10000))"
   ]
  },
  {
   "cell_type": "code",
   "execution_count": 20,
   "metadata": {},
   "outputs": [],
   "source": [
    "mapped_hmc_sample = MarkovSample(data=rambo_mapping.map(hmc_resample.data), weights=hmc_resample.weights)\n",
    "densities.export_hepmc(100., mapped_hmc_sample, \"../samples/qcd/2-3/hmc.hepmc\")"
   ]
  },
  {
   "cell_type": "code",
   "execution_count": 14,
   "metadata": {},
   "outputs": [
    {
     "name": "stdout",
     "output_type": "stream",
     "text": [
      "0.02783826319716435\n",
      "23967.166518026355\n",
      "11.193745443787435\n"
     ]
    }
   ],
   "source": [
    "print(hmc_sample.weights.min())\n",
    "print(hmc_sample.weights.max())\n",
    "print(hmc_sample.weights.mean())"
   ]
  },
  {
   "cell_type": "code",
   "execution_count": null,
   "metadata": {},
   "outputs": [],
   "source": []
  }
 ],
 "metadata": {
  "kernelspec": {
   "display_name": "hepmc",
   "language": "python",
   "name": "hepmc"
  },
  "language_info": {
   "codemirror_mode": {
    "name": "ipython",
    "version": 3
   },
   "file_extension": ".py",
   "mimetype": "text/x-python",
   "name": "python",
   "nbconvert_exporter": "python",
   "pygments_lexer": "ipython3",
   "version": "3.6.6"
  }
 },
 "nbformat": 4,
 "nbformat_minor": 2
}
