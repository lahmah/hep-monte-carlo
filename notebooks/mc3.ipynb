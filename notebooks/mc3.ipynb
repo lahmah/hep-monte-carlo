{
 "cells": [
  {
   "cell_type": "code",
   "execution_count": null,
   "metadata": {},
   "outputs": [],
   "source": [
    "import matplotlib.pyplot as plt\n",
    "import numpy as np\n",
    "from hepmc import *"
   ]
  },
  {
   "cell_type": "code",
   "execution_count": null,
   "metadata": {},
   "outputs": [],
   "source": [
    "# A more complicated test function\n",
    "k = 16\n",
    "tf_b = 1/.2**2\n",
    "def osc(x):\n",
    "    return x**2*np.cos(k*np.pi*x/.2)**2*tf_b\n",
    "def dosc(x):\n",
    "    return (2*x*np.cos(k*np.pi*x/.2)**2 - x**2*k*np.pi/.2*2*np.cos(k*np.pi*x/.2)*np.sin(k*np.pi*x/.2))*tf_b\n",
    "def bound(a, x, b):\n",
    "    return (x>a)*(x<=b)\n",
    "def fn(x):\n",
    "    return bound(.2, x, .4)*osc(x-.2) + bound(.4, x, .6) + bound(.6, x, .8)*osc(.8-x)\n",
    "osc_integral = 1/30 + ((1.59155e-2 * k**2 - 8.06288e-4)*np.sin(6.28319*k) + 5.06606e-3*k*np.cos(6.28319*k)) / k**3\n",
    "fn_true_value = 2*osc_integral + .2\n",
    "\n",
    "def dfn(x):\n",
    "    return bound(.2, x, .4)*dosc(x-.2) - bound(.6, x, .8)*dosc(.8-x)\n",
    "def dpot_dq(x):\n",
    "    return - dfn(x) / fn(x)\n",
    "\n",
    "pdf = lambda x: fn(x)/fn_true_value"
   ]
  },
  {
   "cell_type": "code",
   "execution_count": null,
   "metadata": {},
   "outputs": [],
   "source": [
    "# hamilton monte carlo\n",
    "pot = lambda q: -np.log(fn(q))\n",
    "target = Density.make(pdf, 1, pdf_gradient=dfn)\n",
    "p_dist = densities.Gaussian(1, scale=1)\n",
    "hmcm = hamiltonian.HamiltonianUpdate(target, p_dist, steps=10, step_size=.01)\n",
    "metrop = DefaultMetropolis(1, fn, Proposal.make(lambda _: np.random.rand(), 1))"
   ]
  },
  {
   "cell_type": "code",
   "execution_count": null,
   "metadata": {},
   "outputs": [],
   "source": [
    "size = 10000\n",
    "bins = 1000\n",
    "sample_met = metrop.sample(size, .5, log_every=5000)\n",
    "sample_hmc = hmcm.sample(size, .5, log_every=1000)"
   ]
  },
  {
   "cell_type": "code",
   "execution_count": null,
   "metadata": {},
   "outputs": [],
   "source": [
    "print(\"Metrop acceptance rate: %.4f, Hamilton acceptance rate: %.4f\" % (sample_met.accept_ratio, sample_hmc.accept_ratio))\n",
    "met_chi = util.binwise_chi2(pdf, sample_met.data, bins=bins)\n",
    "hmcm_chi = util.binwise_chi2(pdf, sample_hmc.data, bins=bins)\n",
    "print(\"Metrop chi2: %.4f, Hamiltonian chi2: %.4f\" % (met_chi, hmcm_chi))\n",
    "\n",
    "\n",
    "x = np.linspace(0, 1, 1000)\n",
    "plt.figure(figsize=(15, 5))\n",
    "plt.subplot(121)\n",
    "plt.title(\"Metropolis\")\n",
    "plt.hist(sample_met.data, bins=bins, normed=True)\n",
    "plt.plot(x, pdf(x))\n",
    "plt.xlim(0, 1)\n",
    "\n",
    "\n",
    "plt.subplot(122)\n",
    "plt.title(\"Hamiltonian\")\n",
    "plt.hist(sample_hmc.data, bins=bins, normed=True)\n",
    "plt.plot(x, pdf(x))\n",
    "plt.xlim(0, 1)\n",
    "plt.show()"
   ]
  },
  {
   "cell_type": "code",
   "execution_count": null,
   "metadata": {},
   "outputs": [],
   "source": [
    "x = np.linspace(0.6, 0.7, 800)\n",
    "plt.hist(sample_met.data, bins=1000, normed=True)\n",
    "plt.plot(x, pdf(x))\n",
    "plt.xlim(0.6, 0.7)\n",
    "plt.show()"
   ]
  },
  {
   "cell_type": "code",
   "execution_count": null,
   "metadata": {},
   "outputs": [],
   "source": [
    "p3 = lambda x: (bound(.2,x,.4)*((x-.2)/.2)**2 + bound(.6,x,.8)*((.8-x)/.2)**2 + bound(.4,x,.6))/(.2 + .1333333)\n",
    "sampling3 = AcceptRejectSampler(p3, 3.5)\n",
    "dist3 = Distribution.make(p3, 1, rvs=lambda count: sampling3.sample(count).data)"
   ]
  },
  {
   "cell_type": "code",
   "execution_count": null,
   "metadata": {},
   "outputs": [],
   "source": [
    "mc3_u = mc3.MC3Uniform(fn, MultiChannel([dist3]), delta=.01, beta=1)\n",
    "\n",
    "sample_mc3 = mc3_u(([], [500]*40, []), 30000, initial=.5)"
   ]
  },
  {
   "cell_type": "code",
   "execution_count": null,
   "metadata": {},
   "outputs": [],
   "source": [
    "bins = 1000\n",
    "x = np.linspace(0, 1, 1000)\n",
    "plt.figure(figsize=(18, 5))\n",
    "plt.hist(sample_mc3.data, bins=bins, normed=True)\n",
    "plt.plot(x, pdf(x))\n",
    "plt.xlim(0, 1)\n",
    "print(\"chi^2: \" + str(util.binwise_chi2(pdf, sample_mc3.data, bins=bins)))\n",
    "plt.show()"
   ]
  },
  {
   "cell_type": "code",
   "execution_count": null,
   "metadata": {},
   "outputs": [],
   "source": [
    "x = np.linspace(0.6, 0.7, 800)\n",
    "plt.hist(sample_mc3.data, bins=1000, normed=True)\n",
    "plt.plot(x, pdf(x))\n",
    "plt.xlim(0.6, 0.7)\n",
    "plt.show()"
   ]
  },
  {
   "cell_type": "code",
   "execution_count": null,
   "metadata": {},
   "outputs": [],
   "source": [
    "target = Density.make(fn, 1, pdf_gradient=dpot_dq)\n",
    "mc3h = mc3.MC3Hamilton(target, MultiChannel([dist3]), np.ones(1)*100, step_size=.001, steps=10)\n",
    "mc3h.beta = .9\n",
    "mc3h_q = mc3h(([], [500]*40, []), 30000)\n",
    "\n",
    "print(\"chi^2: \" + str(util.binwise_chi2(pdf, mc3h_q.data, bins=bins)))"
   ]
  },
  {
   "cell_type": "code",
   "execution_count": null,
   "metadata": {},
   "outputs": [],
   "source": [
    "bins = 1000\n",
    "x = np.linspace(0, 1, 1000)\n",
    "plt.figure(figsize=(18, 5))\n",
    "plt.hist(mc3h_q.data, bins=bins, normed=True)\n",
    "plt.plot(x, pdf(x))\n",
    "plt.xlim(0, 1)\n",
    "plt.grid()\n",
    "plt.show()"
   ]
  },
  {
   "cell_type": "code",
   "execution_count": null,
   "metadata": {},
   "outputs": [],
   "source": [
    "x = np.linspace(0.6, 0.7, 800)\n",
    "plt.hist(sample_mc3.data, bins=1000, normed=True)\n",
    "plt.plot(x, pdf(x))\n",
    "plt.xlim(0.6, 0.7)\n",
    "plt.show()"
   ]
  }
 ],
 "metadata": {
  "language_info": {
   "name": "python",
   "pygments_lexer": "ipython3"
  }
 },
 "nbformat": 4,
 "nbformat_minor": 2
}
