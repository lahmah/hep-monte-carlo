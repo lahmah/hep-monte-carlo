{
 "cells": [
  {
   "cell_type": "code",
   "execution_count": null,
   "metadata": {},
   "outputs": [],
   "source": [
    "import hepmc\n",
    "import numpy as np\n",
    "import matplotlib.pyplot as plt\n",
    "import plotting"
   ]
  },
  {
   "cell_type": "markdown",
   "metadata": {},
   "source": [
    "# Physics Setting\n",
    "Process is defined by probability amplitude $f \\propto \\mathcal{\\left|M\\right|^2}$. \n",
    "\n",
    "Total cross section of a process:\n",
    "$$\\sigma = \\int{\\text{d}x \\, f(x)}.$$\n",
    "\n",
    "Expectation value of some observable $\\mathcal{O}$:\n",
    "$$\\langle\\mathcal{O}\\rangle = \\frac{\\int{\\text{d}x \\, \\mathcal{O}(x) f(x)} }{\\int{\\text{d}x \\, f(x)} }.$$\n",
    "\n",
    "Given $f$ (i.e. the matrix element $\\mathcal{M}$), the numerical problem is to\n",
    "1. Compute the total cross section $\\sigma$,\n",
    "2. Provide (phase space) samples (i.e. events) distributed according to $f$.\n",
    "\n",
    "For $n$ particles have $3n - 4$ dimensional phase space, which makes scaling in the dimensionality\n",
    "crucial. Therefore use\n",
    "1. Monte Carlo integration,\n",
    "2. Markov chains (based on Metropolis-Hasting).\n",
    "\n",
    "\n",
    "### Data flow\n",
    "\n",
    "$$ \\text{(Perturbative) Hard matrix element } \\mathcal{M} $$\n",
    "$$\\downarrow$$\n",
    "$$ \\textbf{1. Monte Carlo} $$\n",
    "$$\\downarrow$$\n",
    "$$ \\text{Cross section } \\sigma \\text{, events } p_i $$\n",
    "$$\\downarrow$$\n",
    "$$ \\textbf{2. Parton showering} $$\n",
    "$$\\downarrow$$\n",
    "$$ \\text{Propagated events} $$\n",
    "$$\\downarrow$$\n",
    "$$ \\textbf{3. Hadronization} $$\n",
    "$$\\downarrow$$\n",
    "$$ \\text{Observable events} $$\n",
    "$$\\downarrow$$\n",
    "$$ \\textbf{detector simulation} $$\n",
    "$$\\downarrow$$\n",
    "$$ \\text{Final data} $$\n"
   ]
  },
  {
   "cell_type": "markdown",
   "metadata": {},
   "source": [
    "# Integration\n",
    "Use (multi-channel) importance sampling Monte Carlo integration to get $\\sigma$."
   ]
  },
  {
   "cell_type": "markdown",
   "metadata": {},
   "source": [
    "# Metropolis Sampling, Markov Chain\n",
    "\n",
    "## Quality measure\n",
    "- bin-wise $\\chi^2$ and p-value testing compatibility with target\n",
    "- should replace experimental events $\\rightarrow$ low autocorrelation\n",
    "- effective sample size\n",
    "\n",
    "## Hamiltonian Monte Carlo\n",
    "For target pdf $f$, define potential $$V(x) = - \\log{f(x)}.$$ Artificial Gaussian distributed momentum $p$, $$K(p) = p^T M^{-1} p.$$\n",
    "Total Hamiltonian for system $$H(x, p) = V(x) + K(p)$$ such that total probability $$p(x, p) = e^{-H(x, p)}.$$\n",
    "\n",
    "For dynamics use leapfrog algorithm, need gradient of $V(x)$.\n",
    "\n",
    "### Camel distribution"
   ]
  },
  {
   "cell_type": "code",
   "execution_count": null,
   "metadata": {},
   "outputs": [],
   "source": [
    "camel = hepmc.densities.Camel(2)\n",
    "\n",
    "x = np.linspace(0, 1, 1000)\n",
    "y = np.linspace(0, 1, 1000) \n",
    "mgrid = np.meshgrid(x, y)\n",
    "plt.imshow(camel(*mgrid), extent=(0, 1, 0, 1), origin='lower')\n",
    "plt.colorbar()\n",
    "plt.show()"
   ]
  },
  {
   "cell_type": "markdown",
   "metadata": {},
   "source": [
    "### HMC trajectory on Camel distribution"
   ]
  },
  {
   "cell_type": "code",
   "execution_count": null,
   "metadata": {},
   "outputs": [],
   "source": [
    "target = hepmc.densities.Camel(2)  # gradient is known\n",
    "\n",
    "plotting.plot_hmc_traj(target, 7, mass=1., steps=4, step_size=.04)"
   ]
  },
  {
   "cell_type": "code",
   "execution_count": null,
   "metadata": {},
   "outputs": [],
   "source": [
    "target = hepmc.densities.Camel(2)\n",
    "mass = 1.\n",
    "steps = 20\n",
    "step_size = .008\n",
    "count = 1000\n",
    "\n",
    "sampler, start = hepmc.interfaces.plain_hmc.get_sampler(target, 2, .4, mass=mass, steps=steps, step_size=step_size)\n",
    "sampler.sample(count, start, log_every=count/5)"
   ]
  },
  {
   "cell_type": "markdown",
   "metadata": {},
   "source": [
    "### HMC on single Gaussian"
   ]
  },
  {
   "cell_type": "code",
   "execution_count": null,
   "metadata": {},
   "outputs": [],
   "source": [
    "target = hepmc.densities.Gaussian(2, mu=0.5, scale=0.1)\n",
    "mass = 1.\n",
    "steps = 4\n",
    "step_size = .05\n",
    "count = 1000\n",
    "\n",
    "sampler, start = hepmc.interfaces.plain_hmc.get_sampler(target, 2, .4, mass=mass, steps=steps, step_size=step_size)\n",
    "sampler.sample(1000, start)"
   ]
  },
  {
   "cell_type": "code",
   "execution_count": null,
   "metadata": {},
   "outputs": [],
   "source": [
    "plt.figure(figsize=(15, 5))\n",
    "runs = plotting.load_from_config(['gauss_overview.json'], base='../samples_analysis/gauss/')\n",
    "plotting.plot_all_fancy('step_size', np.array(runs)[[5, 6, 2]], 3, 10, 10000, bottom=.2)\n",
    "plt.show()\n",
    "\n",
    "plt.figure(figsize=(12, 4))\n",
    "\n",
    "index = 141\n",
    "\n",
    "for sz in [.003, .0053, .008, .011]:\n",
    "    np.random.seed(42)\n",
    "    plt.subplot(index)\n",
    "    index += 1\n",
    "    plotting.plot_hmc_traj(target, mass=1., steps=40, step_size=sz, count=9, extent=[[0.1, 0.55], [0.1, 0.55]])\n",
    "    plt.title('step size: %s'%sz)"
   ]
  },
  {
   "cell_type": "markdown",
   "metadata": {},
   "source": [
    "# MC$^3$\n",
    "Mixing Markov update, switch between\n",
    "\n",
    "1. Metropolis Hasting update using the multi-channel of the integration as proposal\n",
    "2. Local Markov chain (local Gaussian, HMC, ...)\n",
    "\n",
    "The importance sampling update is chosen with probability $\\beta$.\n",
    "\n",
    "## MC$^3$ with local Gaussian proposal"
   ]
  },
  {
   "cell_type": "code",
   "execution_count": null,
   "metadata": {},
   "outputs": [],
   "source": [
    "target = hepmc.densities.Camel(2)\n",
    "# mc3\n",
    "beta = .3\n",
    "local_size = 0.01\n",
    "count = 1000\n",
    "\n",
    "# importance channel\n",
    "w = np.sqrt(.1**2/2)\n",
    "centers=[[1/3*.9, 1/3*.9], [2/3, 2/3]]\n",
    "widths=[w, w*1.1]\n",
    "\n",
    "sampler, start = hepmc.interfaces.mc3_gauss.get_sampler(target, 2, initial=.4, \n",
    "                                                        centers=centers, widths=widths, local_width=local_size, beta=beta)\n",
    "sampler.sample(count, start)"
   ]
  },
  {
   "cell_type": "markdown",
   "metadata": {},
   "source": [
    "# MC$^3$ with HMC"
   ]
  },
  {
   "cell_type": "code",
   "execution_count": null,
   "metadata": {},
   "outputs": [],
   "source": [
    "target = hepmc.densities.Camel(2)\n",
    "# mc3\n",
    "beta = .4\n",
    "local_size = 0.01\n",
    "count = 1000\n",
    "\n",
    "# HMC\n",
    "mass = 1.\n",
    "steps = 40\n",
    "step_size = .008\n",
    "count = 1000\n",
    "\n",
    "# importance channel\n",
    "w = np.sqrt(.1**2/2)\n",
    "centers=[[1/3*.9, 1/3*.9], [2/3, 2/3]]\n",
    "widths=[w, w*1.1]\n",
    "\n",
    "sampler, start = hepmc.interfaces.mc3_hmc.get_sampler(target, 2, initial=.4, \n",
    "                                                      mass=mass, steps=steps, step_size=step_size,\n",
    "                                                      centers=centers, widths=widths, beta=beta)\n",
    "sampler.sample(count, start, log_every=count/4)"
   ]
  },
  {
   "cell_type": "markdown",
   "metadata": {},
   "source": [
    "# Real Example\n",
    "Process $e^+ e^- \\rightarrow q \\bar{q}$"
   ]
  },
  {
   "cell_type": "code",
   "execution_count": null,
   "metadata": {},
   "outputs": [],
   "source": [
    "e_cm = 100.\n",
    "mapping = hepmc.phase_space.RamboOnDiet(e_cm, 2)\n",
    "target = hepmc.phase_space.MappedDensity(hepmc.densities.ee_qq(e_cm), mapping)"
   ]
  },
  {
   "cell_type": "code",
   "execution_count": null,
   "metadata": {},
   "outputs": [],
   "source": [
    "x = np.linspace(0, 1, 100)\n",
    "y = np.linspace(0, 1, 100) \n",
    "mgrid = np.meshgrid(x, y)\n",
    "prob = target(*mgrid)\n",
    "plt.imshow(prob, origin='lower', extent=((0, 1, 0, 1)))\n",
    "plt.colorbar()"
   ]
  },
  {
   "cell_type": "markdown",
   "metadata": {},
   "source": [
    "### Learn surrogate of potential"
   ]
  },
  {
   "cell_type": "code",
   "execution_count": null,
   "metadata": {},
   "outputs": [],
   "source": [
    "nodes = 10\n",
    "nlearn = 1000\n",
    "x = np.linspace(0.001, .999, 100)\n",
    "y = np.linspace(0.001, .999, 100)\n",
    "mgrid = np.meshgrid(x, y)\n",
    "\n",
    "xvals = np.random.random((nlearn, 2))\n",
    "fvals = target.pdf(xvals)\n",
    "\n",
    "# surrogate\n",
    "basis = hepmc.surrogate.extreme_learning.GaussianBasis(2)\n",
    "log_vals = -np.ma.log(fvals)\n",
    "xvals = xvals[~log_vals.mask]\n",
    "log_vals = log_vals[~log_vals.mask]\n",
    "# train\n",
    "params = basis.extreme_learning_train(xvals, log_vals, nodes)\n",
    "\n",
    "# surrogate gradient\n",
    "def surrogate_gradient(xs):\n",
    "    return basis.eval_gradient(*params, xs)\n",
    "target.pot_gradient = surrogate_gradient\n",
    "\n",
    "plt.subplot(121)\n",
    "plt.imshow(basis.eval_split(*params, *mgrid))\n",
    "plt.subplot(122)\n",
    "plt.imshow(-np.log(target(*mgrid)))\n",
    "plt.show()"
   ]
  },
  {
   "cell_type": "code",
   "execution_count": null,
   "metadata": {},
   "outputs": [],
   "source": [
    "plotting.plot_hmc_traj(target, mass=1., steps=10, step_size=.01)"
   ]
  },
  {
   "cell_type": "code",
   "execution_count": null,
   "metadata": {},
   "outputs": [],
   "source": [
    "plotting.plot_hmc_traj(target, mass=1., steps=10, step_size=.03)"
   ]
  },
  {
   "cell_type": "markdown",
   "metadata": {},
   "source": [
    "# Spherical HMC"
   ]
  },
  {
   "cell_type": "code",
   "execution_count": null,
   "metadata": {},
   "outputs": [],
   "source": [
    "# have to normalize target\n",
    "int_sample = hepmc.PlainMC(2)(target, 50000)\n",
    "int_sample.integral, int_sample.integral_err\n",
    "\n",
    "target.norm = int_sample.integral"
   ]
  },
  {
   "cell_type": "code",
   "execution_count": null,
   "metadata": {},
   "outputs": [],
   "source": [
    "sampler = hepmc.hamiltonian.StaticSphericalHMC(target, .03, .03, 30, 30)\n",
    "sampler.sample(1000, start)"
   ]
  }
 ],
 "metadata": {
  "language_info": {
   "name": "python",
   "pygments_lexer": "ipython3"
  }
 },
 "nbformat": 4,
 "nbformat_minor": 2
}
