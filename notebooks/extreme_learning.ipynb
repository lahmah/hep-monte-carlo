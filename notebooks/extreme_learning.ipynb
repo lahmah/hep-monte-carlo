{
 "cells": [
  {
   "cell_type": "code",
   "execution_count": null,
   "metadata": {},
   "outputs": [],
   "source": [
    "import matplotlib.pyplot as plt\n",
    "from hepmc.surrogate.extreme_learning import *\n",
    "\n",
    "from mpl_toolkits.mplot3d import Axes3D\n",
    "from matplotlib import cm"
   ]
  },
  {
   "cell_type": "markdown",
   "metadata": {},
   "source": [
    "# Additive Basis"
   ]
  },
  {
   "cell_type": "markdown",
   "metadata": {},
   "source": [
    "# Trigonometric basis in 1D"
   ]
  },
  {
   "cell_type": "code",
   "execution_count": null,
   "metadata": {},
   "outputs": [],
   "source": [
    "basis = TrigBasis(1, (0, 100), (-1, 0))\n",
    "\n",
    "N = 1000\n",
    "node_count = 80\n",
    "fn = lambda xs: np.sin(40 * xs)*np.sin(10*xs) + 1\n",
    "xs = np.random.rand(N).reshape(N, 1)*2\n",
    "values = fn(xs) + (np.random.rand(N).reshape(N, 1) - .5) / 2\n",
    "params, bias, weights = basis.extreme_learning_train(xs, values, node_count)\n",
    "\n",
    "\n",
    "plt.figure(figsize=(15, 5))\n",
    "\n",
    "x = np.linspace(0, 1, 1000) * 2\n",
    "# plt.plot(x, fn(x))\n",
    "plt.plot(xs, values, 'x')\n",
    "plt.plot(x, basis.eval_split(params, bias, weights, x.reshape(1000,1)))\n",
    "plt.plot(x, basis.eval_gradient_split(params, bias, weights, x)/100)\n",
    "# plt.plot(-params[0], [-1.5]*node_count, '+')\n",
    "plt.grid()\n",
    "\n",
    "plt.show()"
   ]
  },
  {
   "cell_type": "markdown",
   "metadata": {},
   "source": [
    "## Trigonometric basis in 2D"
   ]
  },
  {
   "cell_type": "code",
   "execution_count": null,
   "metadata": {},
   "outputs": [],
   "source": [
    "basis = TrigBasis(2, (-10, 10), (-1, 0))\n",
    "\n",
    "N = 10000\n",
    "node_count = 100\n",
    "fn = lambda xs, ys: np.sin(10 * xs)/(10 *xs+.001) * np.sin(10 * ys)\n",
    "\n",
    "xs = np.random.rand(N * 2).reshape(N, 2)*2\n",
    "values = fn(*xs.transpose())\n",
    "\n",
    "params, bias, weights = basis.extreme_learning_train(xs, values, node_count)\n",
    "\n",
    "\n",
    "plt.figure(figsize=(15, 5))\n",
    "\n",
    "x = np.linspace(0, 1, 100)\n",
    "y = np.linspace(0, 1, 100) \n",
    "mgrid = np.meshgrid(x, y)\n",
    "\n",
    "plt.subplot(121)\n",
    "values = np.random.random((100, 100))\n",
    "plt.imshow(fn(*mgrid))\n",
    "plt.colorbar()\n",
    "plt.subplot(122)\n",
    "\n",
    "out = basis.eval_split(params, bias, weights, *mgrid)\n",
    "# params_single = np.array([params[0][index]]), np.array([params[1][index,:]]), params[2]\n",
    "# print(params_single)\n",
    "# out = basis.eval_all(params_single, bias, np.array([weights[index]]), *mgrid)\n",
    "\n",
    "plt.imshow(out)\n",
    "plt.colorbar()\n",
    "\n",
    "plt.show()"
   ]
  },
  {
   "cell_type": "markdown",
   "metadata": {},
   "source": [
    "# Radial Basis\n",
    "## Gaussian Basis in 2D"
   ]
  },
  {
   "cell_type": "code",
   "execution_count": null,
   "metadata": {},
   "outputs": [],
   "source": [
    "basis = GaussianBasis(2, center_range=(-1, 1), width_range=(0.1, 1))\n",
    "\n",
    "N = 10000\n",
    "# for very large numbers (compared to N), noise appears in the fit (very large spikes)\n",
    "node_count = 200\n",
    "fn = lambda xs, ys: np.sin(10 * xs)/(10 *xs+.001) * np.sin(10 * ys)\n",
    "xs = (np.random.rand(N * 2).reshape(N, 2) -.5)*2\n",
    "values = fn(*xs.transpose())\n",
    "\n",
    "params, bias, weights = basis.extreme_learning_train(xs, values, node_count)"
   ]
  },
  {
   "cell_type": "markdown",
   "metadata": {},
   "source": [
    "### Plot learned approximation and gradient"
   ]
  },
  {
   "cell_type": "code",
   "execution_count": null,
   "metadata": {},
   "outputs": [],
   "source": [
    "plt.figure(figsize=(15, 5))\n",
    "\n",
    "x = np.linspace(-1, 1, 100)\n",
    "y = np.linspace(-1, 1, 100) \n",
    "mgrid = np.meshgrid(x, y)\n",
    "\n",
    "plt.subplot(121)\n",
    "plt.title(\"Real\")\n",
    "real_out = fn(*mgrid)\n",
    "values = np.random.random((100, 100))\n",
    "plt.imshow(real_out, vmin=-1, vmax=1, extent=(-1, 1, -1, 1))\n",
    "plt.colorbar()\n",
    "plt.subplot(122)\n",
    "\n",
    "out = basis.eval_split(params, bias, weights, *mgrid)\n",
    "plt.title(\"Approx. with centers\")\n",
    "plt.imshow(out, extent=(-1, 1, -1, 1))\n",
    "plt.xlim(-1, 1)\n",
    "plt.ylim(-1, 1)\n",
    "plt.colorbar()\n",
    "centerx, centery = params[0].transpose()\n",
    "plt.scatter(centerx, -centery, marker='+', color='orange')\n",
    "plt.show()\n",
    "\n",
    "plt.figure(figsize=(15, 5))\n",
    "plt.subplot(121)\n",
    "plt.title('real dx')\n",
    "plt.imshow(real_out[:,1:]-real_out[:,:-1], extent=(-1, 1, -1, 1))\n",
    "plt.colorbar()\n",
    "plt.subplot(122)\n",
    "plt.title('real dy')\n",
    "plt.imshow(real_out[1:,:]-real_out[:-1,:], extent=(-1, 1, -1, 1))\n",
    "plt.colorbar()\n",
    "plt.show()\n",
    "\n",
    "plt.figure(figsize=(15, 5))\n",
    "plt.subplot(121)\n",
    "plt.title('learned dx')\n",
    "out = basis.eval_gradient_split(params, bias, weights, *mgrid)\n",
    "plt.imshow(out[:,:,0], extent=(-1, 1, -1, 1))\n",
    "plt.colorbar()\n",
    "plt.subplot(122)\n",
    "plt.title('learned dy')\n",
    "out = basis.eval_gradient_split(params, bias, weights, *mgrid)\n",
    "plt.imshow(out[:,:,1], extent=(-1, 1, -1, 1))\n",
    "plt.colorbar()\n",
    "plt.show()"
   ]
  },
  {
   "cell_type": "markdown",
   "metadata": {},
   "source": [
    "## Plot apprixmation in 3d plot"
   ]
  },
  {
   "cell_type": "code",
   "execution_count": null,
   "metadata": {},
   "outputs": [],
   "source": [
    "fig = plt.figure(figsize=(14,6))\n",
    "\n",
    "# `ax` is a 3D-aware axis instance, because of the projection='3d' keyword argument to add_subplot\n",
    "ax = fig.add_subplot(1, 2, 1, projection='3d')\n",
    "p = ax.plot_surface(mgrid[0], mgrid[1], out, rstride=1, cstride=1, linewidth=0, antialiased=False, cmap=cm.coolwarm)\n",
    "plt.title(\"Approx\")\n",
    "\n",
    "# p = ax.plot_surface(X, Y, Z, rstride=4, cstride=4, linewidth=0)\n",
    "\n",
    "# surface_plot with color grading and color bar\n",
    "ax = fig.add_subplot(1, 2, 2, projection='3d')\n",
    "p = ax.plot_surface(mgrid[0], mgrid[1], fn(*mgrid), rstride=1, cstride=1, linewidth=0, antialiased=False, cmap=cm.coolwarm)\n",
    "plt.title(\"Real\")\n",
    "\n",
    "plt.show()"
   ]
  },
  {
   "cell_type": "markdown",
   "metadata": {},
   "source": [
    "## Overfitting"
   ]
  },
  {
   "cell_type": "code",
   "execution_count": null,
   "metadata": {},
   "outputs": [],
   "source": [
    "# example of overfitting\n",
    "\n",
    "basis = GaussianBasis(2, center_range=(-1, 1), width_range=(.01, 1))\n",
    "\n",
    "N = 1400\n",
    "node_count = 800  # high relative to N\n",
    "fn = lambda xs, ys: np.sin(10 * xs)/(10 *xs+.001) * np.sin(10 * ys)\n",
    "\n",
    "xs = (np.random.rand(N * 2).reshape(N, 2) -.5)*2\n",
    "values = fn(*xs.transpose())\n",
    "\n",
    "params, bias, weights = basis.extreme_learning_train(xs, values, node_count)\n",
    "\n",
    "x = np.linspace(-1, 1, 100)\n",
    "y = np.linspace(-1, 1, 100) \n",
    "mgrid = np.meshgrid(x, y)\n",
    "out = basis.eval_split(params, bias, weights, *mgrid)\n",
    "\n",
    "\n",
    "fig = plt.figure(figsize=(14,6))\n",
    "\n",
    "# `ax` is a 3D-aware axis instance, because of the projection='3d' keyword argument to add_subplot\n",
    "ax = fig.add_subplot(1, 2, 1, projection='3d')\n",
    "p = ax.plot_surface(mgrid[0], mgrid[1], out, rstride=1, cstride=1, linewidth=0, antialiased=False, cmap=cm.coolwarm)\n",
    "plt.title(\"Approx\")\n",
    "\n",
    "# p = ax.plot_surface(X, Y, Z, rstride=4, cstride=4, linewidth=0)\n",
    "\n",
    "# surface_plot with color grading and color bar\n",
    "ax = fig.add_subplot(1, 2, 2, projection='3d')\n",
    "p = ax.plot_surface(mgrid[0], mgrid[1], fn(*mgrid), rstride=1, cstride=1, linewidth=0, antialiased=False, cmap=cm.coolwarm)\n",
    "plt.title(\"Real\")\n",
    "\n",
    "plt.show()"
   ]
  }
 ],
 "metadata": {
  "language_info": {
   "name": "python",
   "pygments_lexer": "ipython3"
  }
 },
 "nbformat": 4,
 "nbformat_minor": 2
}
