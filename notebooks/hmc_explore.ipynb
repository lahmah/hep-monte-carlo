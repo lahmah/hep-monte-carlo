{
 "cells": [
  {
   "cell_type": "code",
   "execution_count": null,
   "metadata": {},
   "outputs": [],
   "source": [
    "from hepmc import *\n",
    "import numpy as np\n",
    "import matplotlib.pyplot as plt"
   ]
  },
  {
   "cell_type": "code",
   "execution_count": null,
   "metadata": {},
   "outputs": [],
   "source": [
    "def plot_hmc_traj(target, count=10, mass=10, steps=100, step_size=.01, start=[.4, .4], extent=None, ax=None, label=None):\n",
    "    ndim = 2\n",
    "    \n",
    "    ### INITIALIZATION\n",
    "    momentum_dist = densities.Gaussian(ndim, cov=mass)\n",
    "    sampler = hamiltonian.HamiltonianUpdate(target, momentum_dist, 1, step_size)\n",
    "    \n",
    "    ### SIMULATION\n",
    "    state = sampler.init_state(start)\n",
    "    trajectories = []\n",
    "    states = [state]\n",
    "    rejected = []\n",
    "    for i in range(count):\n",
    "        q = np.array(state, subok=False)\n",
    "        p = sampler.p_dist.proposal()\n",
    "        state.momentum = p\n",
    "        trajectory = [q]\n",
    "        for j in range(steps):\n",
    "            q, p = sampler.simulate(q, p)\n",
    "            trajectory.append(q)\n",
    "        trajectories.append(np.array(trajectory))\n",
    "        next_state = hamiltonian.HamiltonState(q, momentum=p, pdf=target.pdf(q))\n",
    "        accept = sampler.accept(state, next_state)\n",
    "        r = np.random.rand()\n",
    "        if r < accept:\n",
    "            state = next_state\n",
    "            states.append(state)\n",
    "        else:\n",
    "            rq = next_state.pdf/state.pdf\n",
    "            rp = sampler.p_dist.pdf(next_state.momentum)/sampler.p_dist.pdf(state.momentum)\n",
    "            print('%f * %f = %f' % (rq, rp, rp*rq), '; %f > %f' % (r, accept))\n",
    "            rejected.append(next_state)\n",
    "\n",
    "    # turn into np arrays\n",
    "    states = np.array(states)\n",
    "    rejected = np.array(rejected)\n",
    "    \n",
    "    ### PLOTTING\n",
    "    if ax is None:\n",
    "        ax=plt.gca()\n",
    "        \n",
    "    ax.set_title((label + ') ' if label is not None else '') + \n",
    "                 'steps: %s' % steps + \n",
    "                 ', mass: %s' % mass + \n",
    "                 ', step size: %s' % step_size)\n",
    "    # plot pdf\n",
    "    bins = 1000\n",
    "    if extent is None:\n",
    "        bound_max = np.max(trajectories)\n",
    "        bound_min = np.min(trajectories)\n",
    "        x_max = y_max = bound_max + (bound_max - bound_min) *.1\n",
    "        x_min = y_min = bound_min - (bound_max - bound_min) *.1\n",
    "    else:\n",
    "        (x_min, x_max), (y_min, y_max) = extent\n",
    "    x = np.linspace(x_min, x_max, bins)\n",
    "    y = np.linspace(y_min, y_max, bins)\n",
    "    mgrid = np.meshgrid(x, y)\n",
    "    ax.imshow(target(*mgrid), origin='lower', extent=(x_min, x_max, y_min, y_max), cmap='inferno', alpha=0.2)\n",
    "\n",
    "    # plot trajectory\n",
    "    for traj in trajectories:\n",
    "        line, = ax.plot(*traj.transpose(), '--', color='C0')\n",
    "    line.set_label('trajectory')\n",
    "    ax.plot(*states.transpose(), 's', color='#00BD33', label='accepted')\n",
    "    if len(rejected) != 0:\n",
    "        ax.plot(*rejected.transpose(), 'x', color='red', label='rejected')\n",
    "    ax.grid(color='white')\n",
    "    ax.legend(loc='best')"
   ]
  },
  {
   "cell_type": "code",
   "execution_count": null,
   "metadata": {},
   "outputs": [],
   "source": [
    "# test\n",
    "target = densities.Gaussian(2, [1/3, 1/3], cov=0.1**2/2)\n",
    "# target = densities.Camel(2)\n",
    "plot_hmc_traj(target, mass=1., step_size=.0055, steps=40)"
   ]
  },
  {
   "cell_type": "code",
   "execution_count": null,
   "metadata": {},
   "outputs": [],
   "source": [
    "# test\n",
    "target = densities.Gaussian(2, [1/3, 1/3], cov=0.1**2/2)\n",
    "# target = densities.Camel(2)\n",
    "plot_hmc_traj(target, mass=1., step_size=.001, steps=40)"
   ]
  },
  {
   "cell_type": "code",
   "execution_count": null,
   "metadata": {},
   "outputs": [],
   "source": [
    "# test\n",
    "target = densities.Gaussian(2, [1/3, 1/3], cov=0.1**2/2)\n",
    "plot_hmc_traj(target, mass=100., step_size=0.0003, steps=1000)"
   ]
  },
  {
   "cell_type": "code",
   "execution_count": null,
   "metadata": {},
   "outputs": [],
   "source": [
    "target = densities.Camel(2)\n",
    "%matplotlib inline"
   ]
  },
  {
   "cell_type": "code",
   "execution_count": null,
   "metadata": {},
   "outputs": [],
   "source": [
    "np.random.seed(1234)\n",
    "\n",
    "plt.figure(figsize=(17, 17))\n",
    "\n",
    "### mass plots\n",
    "plt.subplot(331)\n",
    "plot_hmc_traj(target, mass=.1, start=[.5,.5], extent=((0, 1), (0, 1)), label='A')\n",
    "\n",
    "plt.subplot(332)\n",
    "plot_hmc_traj(target, mass=1, start=[.5,.5], extent=((0, 1), (0, 1)), label='B')\n",
    "\n",
    "plt.subplot(333)\n",
    "plot_hmc_traj(target, mass=10, start=[.5,.5], label='C')\n",
    "\n",
    "plt.subplot(334)\n",
    "plot_hmc_traj(target, mass=100, count=20, start=[.5,.5], label='D')\n",
    "\n",
    "plt.subplot(335)\n",
    "plot_hmc_traj(target, mass=1000, count=20, start=[.5,.5], label='E')\n",
    "\n",
    "plt.subplot(336)\n",
    "plot_hmc_traj(target, mass=1000, step_size=.1, count=10, start=[.5,.5], label='F')\n",
    "\n",
    "plt.subplot(337)\n",
    "plot_hmc_traj(target, mass=.1, step_size=.02, steps=10, count=10, start=[.5,.5], label='G')\n",
    "\n",
    "plt.subplot(338)\n",
    "plot_hmc_traj(target, mass=1e7, step_size=10, count=10, start=[.5,.5], label='H')\n",
    "\n",
    "plt.subplot(339)\n",
    "plot_hmc_traj(target, mass=.4, step_size=.009, steps=21, count=10, start=[.5,.5], label='I')\n",
    "plt.tight_layout()"
   ]
  },
  {
   "cell_type": "code",
   "execution_count": null,
   "metadata": {},
   "outputs": [],
   "source": [
    "np.random.seed(12)\n",
    "plot_hmc_traj(target, mass=.4, step_size=.009, steps=31, count=50, start=[.5,.5])"
   ]
  },
  {
   "cell_type": "code",
   "execution_count": null,
   "metadata": {},
   "outputs": [],
   "source": [
    "plot_hmc_traj(target, mass=100, step_size=0.01, steps=50, count=10, start=[.5,.5])"
   ]
  },
  {
   "cell_type": "code",
   "execution_count": null,
   "metadata": {},
   "outputs": [],
   "source": [
    "target = densities.Banana(2)\n",
    "%matplotlib inline"
   ]
  },
  {
   "cell_type": "code",
   "execution_count": null,
   "metadata": {},
   "outputs": [],
   "source": [
    "np.random.seed(1234)\n",
    "\n",
    "plt.figure(figsize=(17, 17))\n",
    "\n",
    "### mass plots\n",
    "plt.subplot(331)\n",
    "plot_hmc_traj(target, mass=.003, start=[.5,.5], label='A')\n",
    "\n",
    "plt.subplot(332)\n",
    "plot_hmc_traj(target, mass=.01, start=[.5,.5], label='B')\n",
    "\n",
    "plt.subplot(333)\n",
    "plot_hmc_traj(target, mass=.1, start=[.5,.5], count=20, label='C')\n",
    "\n",
    "plt.subplot(334)\n",
    "plot_hmc_traj(target, mass=1., count=20, start=[.5,.5], label='D')\n",
    "\n",
    "plt.subplot(335)\n",
    "plot_hmc_traj(target, mass=10., step_size=.1, count=20, start=[.5,.5], label='E')\n",
    "\n",
    "plt.subplot(336)\n",
    "plot_hmc_traj(target, mass=100., step_size=.1, count=20, start=[.5,.5], label='F')\n",
    "\n",
    "plt.subplot(337)\n",
    "plot_hmc_traj(target, mass=10000, step_size=2., steps=30, count=20, start=[.5,.5], label='G')\n",
    "\n",
    "plt.subplot(338)\n",
    "plot_hmc_traj(target, mass=.1, step_size=.1, steps=21, count=20, start=[.5,.5], label='H')\n",
    "\n",
    "plt.subplot(339)\n",
    "plot_hmc_traj(target, mass=5000, step_size=20., steps=20, count=20, start=[.5,.5], label='I')\n",
    "plt.tight_layout()"
   ]
  },
  {
   "cell_type": "code",
   "execution_count": null,
   "metadata": {},
   "outputs": [],
   "source": [
    "plot_hmc_traj(target, mass=1., step_size=0.35, steps=50, count=20, start=[.5,.5], label='G')"
   ]
  }
 ],
 "metadata": {
  "language_info": {
   "name": "python",
   "pygments_lexer": "ipython3"
  }
 },
 "nbformat": 4,
 "nbformat_minor": 2
}
