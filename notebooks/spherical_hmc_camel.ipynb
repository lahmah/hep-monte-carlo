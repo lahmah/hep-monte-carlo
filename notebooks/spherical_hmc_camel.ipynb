{
 "cells": [
  {
   "cell_type": "code",
   "execution_count": null,
   "metadata": {},
   "outputs": [],
   "source": [
    "from hepmc import *\n",
    "import numpy as np\n",
    "import matplotlib.pyplot as plt\n",
    "import pandas as pd\n",
    "import seaborn as sns\n",
    "%matplotlib notebook"
   ]
  },
  {
   "cell_type": "code",
   "execution_count": null,
   "metadata": {},
   "outputs": [],
   "source": [
    "D = 2\n",
    "camel = densities.Camel(D)\n",
    "camel_1d = densities.Camel(1)\n",
    "x = np.linspace(0, 1, 100)\n",
    "y = camel_1d.pdf(x)"
   ]
  },
  {
   "cell_type": "code",
   "execution_count": null,
   "metadata": {},
   "outputs": [],
   "source": [
    "proposal_weights = np.array([.5, .5])\n",
    "channels = MultiChannel([\n",
    "    densities.Gaussian(D, mu=1/3, cov=.005),\n",
    "    densities.Gaussian(D, mu=2/3, cov=.005)],\n",
    "    proposal_weights)\n",
    "\n",
    "importance_sample = channels.rvs(10000)"
   ]
  },
  {
   "cell_type": "code",
   "execution_count": null,
   "metadata": {},
   "outputs": [],
   "source": [
    "importance_df = pd.DataFrame(importance_sample)"
   ]
  },
  {
   "cell_type": "code",
   "execution_count": null,
   "metadata": {},
   "outputs": [],
   "source": [
    "plt.figure()\n",
    "grid = sns.jointplot(x=0, y=1, data=importance_df, kind=\"hex\", marginal_kws={\"norm_hist\" : True})\n",
    "grid.ax_marg_x.axes.plot(x, y, 'r-')\n",
    "grid.ax_marg_y.axes.plot(y, x, 'r-')"
   ]
  },
  {
   "cell_type": "code",
   "execution_count": null,
   "metadata": {},
   "outputs": [],
   "source": [
    "hmc = hamiltonian.HamiltonianUpdate(camel, densities.Gaussian(D, .07), 10, .005)\n",
    "#start = met.sample(5000, np.random.rand(5)).data[-1] # warmup\n",
    "start = [1/3, 1/3]\n",
    "hmc_sample = hmc.sample(10000, start)"
   ]
  },
  {
   "cell_type": "code",
   "execution_count": null,
   "metadata": {},
   "outputs": [],
   "source": [
    "hmc_df = pd.DataFrame(hmc_sample.data)"
   ]
  },
  {
   "cell_type": "code",
   "execution_count": null,
   "metadata": {},
   "outputs": [],
   "source": [
    "plt.figure\n",
    "grid = sns.jointplot(x=0, y=1, data=hmc_df, kind=\"hex\", marginal_kws={\"norm_hist\" : True})\n",
    "grid.ax_marg_x.axes.plot(x, y, 'r-')\n",
    "grid.ax_marg_y.axes.plot(y, x, 'r-')"
   ]
  },
  {
   "cell_type": "code",
   "execution_count": null,
   "metadata": {},
   "outputs": [],
   "source": [
    "spherical_hmc = hamiltonian.StaticSphericalHMC(camel, .03, .03, 30, 30)\n",
    "start = 2*[1/3]\n",
    "spherical_hmc_sample = spherical_hmc.sample(10000, start)"
   ]
  },
  {
   "cell_type": "code",
   "execution_count": null,
   "metadata": {},
   "outputs": [],
   "source": [
    "spherical_hmc_df = pd.DataFrame(spherical_hmc_sample.data)"
   ]
  },
  {
   "cell_type": "code",
   "execution_count": null,
   "metadata": {},
   "outputs": [],
   "source": [
    "fig, ax = plt.subplots(1, 2, sharey='row', figsize=(10,5))\n",
    "#ax1 = fig.add_subplot(1, 2, 1)\n",
    "ax[0].plot(x, y, 'r-')\n",
    "sns.distplot(spherical_hmc_df[0], ax=ax[0], kde=False, norm_hist=True, hist_kws={\"weights\" : spherical_hmc_sample.weights})\n",
    "#ax2 = fig.add_subplot(1, 2, 2)\n",
    "ax[1].plot(x, y, 'r-')\n",
    "sns.distplot(spherical_hmc_df[1], ax=ax[1], kde=False, norm_hist=True, hist_kws={\"weights\" : spherical_hmc_sample.weights})"
   ]
  },
  {
   "cell_type": "code",
   "execution_count": null,
   "metadata": {},
   "outputs": [],
   "source": [
    "util.effective_sample_size(spherical_hmc_sample, spherical_hmc_sample.mean, spherical_hmc_sample.variance)"
   ]
  },
  {
   "cell_type": "code",
   "execution_count": null,
   "metadata": {},
   "outputs": [],
   "source": [
    "# resample\n",
    "resamp_idx = np.random.choice(10000, 10000, p=spherical_hmc_sample.weights/spherical_hmc_sample.weights.sum())\n",
    "spherical_hmc_resample = MarkovSample(data=spherical_hmc_sample.data[resamp_idx])\n",
    "spherical_hmc_resample_df = pd.DataFrame(spherical_hmc_resample.data)"
   ]
  },
  {
   "cell_type": "code",
   "execution_count": null,
   "metadata": {},
   "outputs": [],
   "source": [
    "fig, ax = plt.subplots(1, 2, sharey='row', figsize=(10,5))\n",
    "#ax1 = fig.add_subplot(1, 2, 1)\n",
    "ax[0].plot(x, y, 'r-')\n",
    "sns.distplot(spherical_hmc_resample_df[0], ax=ax[0], kde=False, norm_hist=True)\n",
    "#ax2 = fig.add_subplot(1, 2, 2)\n",
    "ax[1].plot(x, y, 'r-')\n",
    "sns.distplot(spherical_hmc_resample_df[1], ax=ax[1], kde=False, norm_hist=True)"
   ]
  },
  {
   "cell_type": "code",
   "execution_count": null,
   "metadata": {},
   "outputs": [],
   "source": [
    "plt.figure()\n",
    "grid = sns.jointplot(x=0, y=1, data=spherical_hmc_resample_df, kind=\"hex\", marginal_kws={\"norm_hist\" : True})\n",
    "grid.ax_marg_x.axes.plot(x, y, 'r-')\n",
    "grid.ax_marg_y.axes.plot(y, x, 'r-')"
   ]
  },
  {
   "cell_type": "code",
   "execution_count": null,
   "metadata": {},
   "outputs": [],
   "source": [
    "def adapt_schedule(x):\n",
    "    return x<1000\n",
    "    \n",
    "adaptive_spherical_hmc = hamiltonian.DualAveragingSphericalHMC(camel, 1., adapt_schedule)\n",
    "start = 2*[1/3]\n",
    "adaptive_spherical_hmc_sample = adaptive_spherical_hmc.sample(2000, start)"
   ]
  },
  {
   "cell_type": "code",
   "execution_count": null,
   "metadata": {},
   "outputs": [],
   "source": []
  }
 ],
 "metadata": {
  "language_info": {
   "name": "python",
   "pygments_lexer": "ipython3"
  }
 },
 "nbformat": 4,
 "nbformat_minor": 2
}
