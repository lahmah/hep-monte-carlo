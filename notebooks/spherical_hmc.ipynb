{
 "cells": [
  {
   "cell_type": "code",
   "execution_count": null,
   "metadata": {},
   "outputs": [],
   "source": [
    "from hepmc.core.hamiltonian.spherical_hmc import StaticSphericalHMC\n",
    "from hepmc.core.densities.gaussian import Gaussian\n",
    "from hepmc.core.sampling import Sample\n",
    "import numpy as np\n",
    "import matplotlib.pyplot as plt\n",
    "import pandas as pd\n",
    "import seaborn as sns\n",
    "%matplotlib notebook"
   ]
  },
  {
   "cell_type": "code",
   "execution_count": null,
   "metadata": {},
   "outputs": [],
   "source": [
    "D = 10\n",
    "mu = np.full(D, 0.)\n",
    "cov = np.empty((D, D))\n",
    "for i in range(D):\n",
    "    for j in range(D):\n",
    "        cov[i, j] = 1/(1+abs(i-j))\n",
    "target = Gaussian(D, mu, cov=cov)\n",
    "lower = np.full(D, 0.)\n",
    "upper = np.full(D, .5)\n",
    "upper[0] = 5"
   ]
  },
  {
   "cell_type": "code",
   "execution_count": null,
   "metadata": {},
   "outputs": [],
   "source": [
    "sample = target.rvs(10000000)"
   ]
  },
  {
   "cell_type": "code",
   "execution_count": null,
   "metadata": {},
   "outputs": [],
   "source": [
    "sample = sample[np.where((sample > lower).all(axis=1))]\n",
    "sample = sample[np.where((sample < upper).all(axis=1))]"
   ]
  },
  {
   "cell_type": "code",
   "execution_count": null,
   "metadata": {},
   "outputs": [],
   "source": [
    "sample.shape"
   ]
  },
  {
   "cell_type": "code",
   "execution_count": null,
   "metadata": {},
   "outputs": [],
   "source": [
    "sample_df = pd.DataFrame(sample)"
   ]
  },
  {
   "cell_type": "code",
   "execution_count": null,
   "metadata": {},
   "outputs": [],
   "source": [
    "spherical_hmc.theta_to_x(np.full(D,0)+.5)"
   ]
  },
  {
   "cell_type": "code",
   "execution_count": null,
   "metadata": {},
   "outputs": [],
   "source": [
    "spherical_hmc = StaticSphericalHMC(target, .08, .08, 4, 4, lim_lower=lower, lim_upper=upper)\n",
    "start = D*[0.1]\n",
    "spherical_hmc_sample = spherical_hmc.sample(20000, start)"
   ]
  },
  {
   "cell_type": "code",
   "execution_count": null,
   "metadata": {},
   "outputs": [],
   "source": [
    "spherical_hmc_sample = Sample(data=spherical_hmc_sample.data[5000:], weights=spherical_hmc_sample.weights[5000:])"
   ]
  },
  {
   "cell_type": "code",
   "execution_count": null,
   "metadata": {},
   "outputs": [],
   "source": [
    "spherical_hmc_df = pd.DataFrame(spherical_hmc_sample.data)"
   ]
  },
  {
   "cell_type": "code",
   "execution_count": null,
   "metadata": {},
   "outputs": [],
   "source": [
    "spherical_hmc_sample.data.mean(axis=0)"
   ]
  },
  {
   "cell_type": "code",
   "execution_count": null,
   "metadata": {},
   "outputs": [],
   "source": [
    "np.partition(spherical_hmc_sample.weights, -4)[-4:]"
   ]
  },
  {
   "cell_type": "code",
   "execution_count": null,
   "metadata": {},
   "outputs": [],
   "source": [
    "np.argpartition(spherical_hmc_sample.weights, -4)[-4:]"
   ]
  },
  {
   "cell_type": "code",
   "execution_count": null,
   "metadata": {},
   "outputs": [],
   "source": [
    "print('min:', spherical_hmc_sample.weights.min())\n",
    "print('max:', spherical_hmc_sample.weights.max())\n",
    "print('mean:', spherical_hmc_sample.weights.mean())\n",
    "print('std:', spherical_hmc_sample.weights.std())"
   ]
  },
  {
   "cell_type": "code",
   "execution_count": null,
   "metadata": {},
   "outputs": [],
   "source": [
    "#plt.figure(0)\n",
    "#g = sns.PairGrid(sample_df)\n",
    "#g = g.map_diag(sns.distplot, norm_hist=True, kde=False)\n",
    "#g = g.map_offdiag(plt.hist2d, bins=20)\n",
    "plt.figure(1)\n",
    "h = sns.PairGrid(spherical_hmc_df)\n",
    "h = h.map_diag(sns.distplot, norm_hist=True, kde=False, hist_kws={\"weights\" : spherical_hmc_sample.weights})\n",
    "h = h.map_offdiag(plt.hist2d, weights=spherical_hmc_sample.weights, bins=20)\n",
    "#h = h.map_diag(sns.distplot, norm_hist=True, kde=False)\n",
    "#h = h.map_offdiag(plt.hist2d, bins=20)"
   ]
  },
  {
   "cell_type": "code",
   "execution_count": null,
   "metadata": {},
   "outputs": [],
   "source": [
    "fig, ax = plt.subplots(1, 2, sharey='row', figsize=(10,5))\n",
    "#ax1 = fig.add_subplot(1, 2, 1)\n",
    "ax[0].plot(x, y, 'r-')\n",
    "sns.distplot(spherical_hmc_df[0], ax=ax[0], kde=False, norm_hist=True, hist_kws={\"weights\" : spherical_hmc_sample.weights})\n",
    "#ax2 = fig.add_subplot(1, 2, 2)\n",
    "ax[1].plot(x, y, 'r-')\n",
    "sns.distplot(spherical_hmc_df[1], ax=ax[1], kde=False, norm_hist=True, hist_kws={\"weights\" : spherical_hmc_sample.weights})"
   ]
  },
  {
   "cell_type": "code",
   "execution_count": null,
   "metadata": {},
   "outputs": [],
   "source": [
    "util.effective_sample_size(spherical_hmc_sample, spherical_hmc_sample.mean, spherical_hmc_sample.variance)"
   ]
  },
  {
   "cell_type": "code",
   "execution_count": null,
   "metadata": {},
   "outputs": [],
   "source": [
    "# resample\n",
    "resamp_idx = np.random.choice(1000, 1000, p=spherical_hmc_sample.weights/spherical_hmc_sample.weights.sum())\n",
    "spherical_hmc_resample = MarkovSample(data=spherical_hmc_sample.data[resamp_idx])\n",
    "spherical_hmc_resample_df = pd.DataFrame(spherical_hmc_resample.data)"
   ]
  },
  {
   "cell_type": "code",
   "execution_count": null,
   "metadata": {},
   "outputs": [],
   "source": [
    "fig, ax = plt.subplots(1, 2, sharey='row', figsize=(10,5))\n",
    "#ax1 = fig.add_subplot(1, 2, 1)\n",
    "ax[0].plot(x, y, 'r-')\n",
    "sns.distplot(spherical_hmc_resample_df[0], ax=ax[0], kde=False, norm_hist=True)\n",
    "#ax2 = fig.add_subplot(1, 2, 2)\n",
    "ax[1].plot(x, y, 'r-')\n",
    "sns.distplot(spherical_hmc_resample_df[1], ax=ax[1], kde=False, norm_hist=True)"
   ]
  },
  {
   "cell_type": "code",
   "execution_count": null,
   "metadata": {},
   "outputs": [],
   "source": [
    "plt.figure()\n",
    "grid = sns.jointplot(x=0, y=1, data=spherical_hmc_resample_df, kind=\"hex\", marginal_kws={\"norm_hist\" : True})\n",
    "grid.ax_marg_x.axes.plot(x, y, 'r-')\n",
    "grid.ax_marg_y.axes.plot(y, x, 'r-')"
   ]
  },
  {
   "cell_type": "code",
   "execution_count": null,
   "metadata": {},
   "outputs": [],
   "source": []
  }
 ],
 "metadata": {
  "language_info": {
   "name": "python",
   "pygments_lexer": "ipython3"
  }
 },
 "nbformat": 4,
 "nbformat_minor": 2
}
