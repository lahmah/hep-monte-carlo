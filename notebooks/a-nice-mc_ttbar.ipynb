{
 "cells": [
  {
   "cell_type": "code",
   "execution_count": null,
   "metadata": {},
   "outputs": [],
   "source": [
    "#from hepmc import *\n",
    "from hepmc.core.densities.ttbar import TTBar, export_hepmc, import_hepmc\n",
    "from hepmc.core.phase_space.rambo import RamboOnDiet\n",
    "from hepmc.core.phase_space.mapping import MappedDensity\n",
    "from hepmc.core.markov.metropolis import DefaultMetropolis\n",
    "from hepmc.core.proposals.a_nice_mc import ANiceMC\n",
    "from hepmc.core.sampling import Sample\n",
    "import numpy as np"
   ]
  },
  {
   "cell_type": "code",
   "execution_count": null,
   "metadata": {},
   "outputs": [],
   "source": [
    "ttbar = TTBar()\n",
    "rambo_mapping = RamboOnDiet(1000., 14)\n",
    "mapped = MappedDensity(eeqqg, rambo_mapping)"
   ]
  },
  {
   "cell_type": "code",
   "execution_count": null,
   "metadata": {},
   "outputs": [],
   "source": [
    "training_sample = import_hepmc(\"../samples/ttbar/training.hepmc\")\n",
    "training_sample = Sample(data=rambo_mapping.map_inverse(training_sample.data), weights=training_sample.weights)"
   ]
  },
  {
   "cell_type": "code",
   "execution_count": null,
   "metadata": {},
   "outputs": [],
   "source": [
    "%time nice_proposal = ANiceMC(mapped, training_sample, v_dim=14, train_iters=1000)"
   ]
  },
  {
   "cell_type": "code",
   "execution_count": null,
   "metadata": {},
   "outputs": [],
   "source": [
    "sampler = DefaultMetropolis(mapped, proposal=nice_proposal)\n",
    "%time sample = sampler.sample(100000, np.random.rand(5))"
   ]
  },
  {
   "cell_type": "code",
   "execution_count": null,
   "metadata": {},
   "outputs": [],
   "source": [
    "mapped_sample = Sample(data=rambo_mapping.map(sample.data), weights=sample.weights)\n",
    "export_hepmc(1000., mapped_sample, \"../samples/ttbar/a_nice_mc.hepmc\")"
   ]
  },
  {
   "cell_type": "code",
   "execution_count": null,
   "metadata": {},
   "outputs": [],
   "source": []
  }
 ],
 "metadata": {
  "language_info": {
   "name": "python",
   "pygments_lexer": "ipython3"
  }
 },
 "nbformat": 4,
 "nbformat_minor": 2
}
